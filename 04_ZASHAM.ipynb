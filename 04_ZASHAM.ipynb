{
 "cells": [
  {
   "cell_type": "markdown",
   "metadata": {
    "application/vnd.databricks.v1+cell": {
     "cellMetadata": {},
     "inputWidgets": {},
     "nuid": "13b731f7-f11d-4b87-91d6-ff570c5f4c84",
     "showTitle": false,
     "tableResultSettingsMap": {},
     "title": ""
    }
   },
   "source": [
    "# ZASHAM APP  \n",
    "**Zasham** is a music recognition system inspired by the popular app Shazam, which can identify a song just by \"listening\" to a short audio clip. The goal of our project is to replicate the core idea behind Shazam and build a simplified version of this system using Python, Librosa, and Apache Spark on Databricks."
   ]
  },
  {
   "cell_type": "markdown",
   "metadata": {
    "application/vnd.databricks.v1+cell": {
     "cellMetadata": {},
     "inputWidgets": {},
     "nuid": "ddba80ad-c1ad-419e-90ca-33a5de1ebf86",
     "showTitle": false,
     "tableResultSettingsMap": {},
     "title": ""
    }
   },
   "source": [
    "### Install Libraries"
   ]
  },
  {
   "cell_type": "code",
   "execution_count": 0,
   "metadata": {
    "application/vnd.databricks.v1+cell": {
     "cellMetadata": {
      "byteLimit": 2048000,
      "rowLimit": 10000
     },
     "inputWidgets": {},
     "nuid": "273e07b3-ed8d-4dea-8bec-bc3ed333cfe9",
     "showTitle": false,
     "tableResultSettingsMap": {},
     "title": ""
    }
   },
   "outputs": [
    {
     "output_type": "stream",
     "name": "stdout",
     "output_type": "stream",
     "text": [
      "Collecting librosa\r\n  Downloading librosa-0.11.0-py3-none-any.whl (260 kB)\r\n\u001B[?25l\r\u001B[K     |█▎                              | 10 kB 28.3 MB/s eta 0:00:01\r\u001B[K     |██▌                             | 20 kB 4.2 MB/s eta 0:00:01\r\u001B[K     |███▊                            | 30 kB 6.1 MB/s eta 0:00:01\r\u001B[K     |█████                           | 40 kB 5.9 MB/s eta 0:00:01\r\u001B[K     |██████▎                         | 51 kB 6.0 MB/s eta 0:00:01\r\u001B[K     |███████▌                        | 61 kB 7.1 MB/s eta 0:00:01\r\u001B[K     |████████▉                       | 71 kB 6.7 MB/s eta 0:00:01\r\u001B[K     |██████████                      | 81 kB 7.3 MB/s eta 0:00:01\r\u001B[K     |███████████▎                    | 92 kB 7.6 MB/s eta 0:00:01\r\u001B[K     |████████████▋                   | 102 kB 7.8 MB/s eta 0:00:01\r\u001B[K     |█████████████▉                  | 112 kB 7.8 MB/s eta 0:00:01\r\u001B[K     |███████████████                 | 122 kB 7.8 MB/s eta 0:00:01\r\u001B[K     |████████████████▍               | 133 kB 7.8 MB/s eta 0:00:01\r\u001B[K     |█████████████████▋              | 143 kB 7.8 MB/s eta 0:00:01\r\u001B[K     |██████████████████▉             | 153 kB 7.8 MB/s eta 0:00:01\r\u001B[K     |████████████████████            | 163 kB 7.8 MB/s eta 0:00:01\r\u001B[K     |█████████████████████▍          | 174 kB 7.8 MB/s eta 0:00:01\r\u001B[K     |██████████████████████▋         | 184 kB 7.8 MB/s eta 0:00:01\r\u001B[K     |███████████████████████▉        | 194 kB 7.8 MB/s eta 0:00:01\r\u001B[K     |█████████████████████████▏      | 204 kB 7.8 MB/s eta 0:00:01\r\u001B[K     |██████████████████████████▍     | 215 kB 7.8 MB/s eta 0:00:01\r\u001B[K     |███████████████████████████▋    | 225 kB 7.8 MB/s eta 0:00:01\r\u001B[K     |█████████████████████████████   | 235 kB 7.8 MB/s eta 0:00:01\r\u001B[K     |██████████████████████████████▏ | 245 kB 7.8 MB/s eta 0:00:01\r\u001B[K     |███████████████████████████████▍| 256 kB 7.8 MB/s eta 0:00:01\r\u001B[K     |████████████████████████████████| 260 kB 7.8 MB/s \r\n\u001B[?25hCollecting numpy>=1.22.3\r\n  Downloading numpy-2.0.2-cp39-cp39-manylinux_2_17_x86_64.manylinux2014_x86_64.whl (19.5 MB)\r\n\u001B[?25l\r\u001B[K     |                                | 10 kB 34.3 MB/s eta 0:00:01\r\u001B[K     |                                | 20 kB 34.5 MB/s eta 0:00:01\r\u001B[K     |                                | 30 kB 45.0 MB/s eta 0:00:01\r\u001B[K     |                                | 40 kB 54.4 MB/s eta 0:00:01\r\u001B[K     |                                | 51 kB 61.6 MB/s eta 0:00:01\r\u001B[K     |                                | 61 kB 69.3 MB/s eta 0:00:01\r\u001B[K     |▏                               | 71 kB 75.8 MB/s eta 0:00:01\r\u001B[K     |▏                               | 81 kB 77.0 MB/s eta 0:00:01\r\u001B[K     |▏                               | 92 kB 81.5 MB/s eta 0:00:01\r\u001B[K     |▏                               | 102 kB 85.9 MB/s eta 0:00:01\r\u001B[K     |▏                               | 112 kB 85.9 MB/s eta 0:00:01\r\u001B[K     |▏                               | 122 kB 85.9 MB/s eta 0:00:01\r\u001B[K     |▏                               | 133 kB 85.9 MB/s eta 0:00:01\r\u001B[K     |▎                               | 143 kB 85.9 MB/s eta 0:00:01\r\u001B[K     |▎                               | 153 kB 85.9 MB/s eta 0:00:01\r\u001B[K     |▎                               | 163 kB 85.9 MB/s eta 0:00:01\r\u001B[K     |▎                               | 174 kB 85.9 MB/s eta 0:00:01\r\u001B[K     |▎                               | 184 kB 85.9 MB/s eta 0:00:01\r\u001B[K     |▎                               | 194 kB 85.9 MB/s eta 0:00:01\r\u001B[K     |▍                               | 204 kB 85.9 MB/s eta 0:00:01\r\u001B[K     |▍                               | 215 kB 85.9 MB/s eta 0:00:01\r\u001B[K     |▍                               | 225 kB 85.9 MB/s eta 0:00:01\r\u001B[K     |▍                               | 235 kB 85.9 MB/s eta 0:00:01\r\u001B[K     |▍                               | 245 kB 85.9 MB/s eta 0:00:01\r\u001B[K     |▍                               | 256 kB 85.9 MB/s eta 0:00:01\r\u001B[K     |▍                               | 266 kB 85.9 MB/s eta 0:00:01\r\u001B[K     |▌                               | 276 kB 85.9 MB/s eta 0:00:01\r\u001B[K     |▌                               | 286 kB 85.9 MB/s eta 0:00:01\r\u001B[K     |▌                               | 296 kB 85.9 MB/s eta 0:00:01\r\u001B[K     |▌                               | 307 kB 85.9 MB/s eta 0:00:01\r\u001B[K     |▌                               | 317 kB 85.9 MB/s eta 0:00:01\r\u001B[K     |▌                               | 327 kB 85.9 MB/s eta 0:00:01\r\u001B[K     |▌                               | 337 kB 85.9 MB/s eta 0:00:01\r\u001B[K     |▋                               | 348 kB 85.9 MB/s eta 0:00:01\r\u001B[K     |▋                               | 358 kB 85.9 MB/s eta 0:00:01\r\u001B[K     |▋                               | 368 kB 85.9 MB/s eta 0:00:01\r\u001B[K     |▋                               | 378 kB 85.9 MB/s eta 0:00:01\r\u001B[K     |▋                               | 389 kB 85.9 MB/s eta 0:00:01\r\u001B[K     |▋                               | 399 kB 85.9 MB/s eta 0:00:01\r\u001B[K     |▊                               | 409 kB 85.9 MB/s eta 0:00:01\r\u001B[K     |▊                               | 419 kB 85.9 MB/s eta 0:00:01\r\u001B[K     |▊                               | 430 kB 85.9 MB/s eta 0:00:01\r\u001B[K     |▊                               | 440 kB 85.9 MB/s eta 0:00:01\r\u001B[K     |▊                               | 450 kB 85.9 MB/s eta 0:00:01\r\u001B[K     |▊                               | 460 kB 85.9 MB/s eta 0:00:01\r\u001B[K     |▊                               | 471 kB 85.9 MB/s eta 0:00:01\r\u001B[K     |▉                               | 481 kB 85.9 MB/s eta 0:00:01\r\u001B[K     |▉                               | 491 kB 85.9 MB/s eta 0:00:01\r\u001B[K     |▉                               | 501 kB 85.9 MB/s eta 0:00:01\r\u001B[K     |▉                               | 512 kB 85.9 MB/s eta 0:00:01\r\u001B[K     |▉                               | 522 kB 85.9 MB/s eta 0:00:01\r\u001B[K     |▉                               | 532 kB 85.9 MB/s eta 0:00:01\r\u001B[K     |█                               | 542 kB 85.9 MB/s eta 0:00:01\r\u001B[K     |█                               | 552 kB 85.9 MB/s eta 0:00:01\r\u001B[K     |█                               | 563 kB 85.9 MB/s eta 0:00:01\r\u001B[K     |█                               | 573 kB 85.9 MB/s eta 0:00:01\r\u001B[K     |█                               | 583 kB 85.9 MB/s eta 0:00:01\r\u001B[K     |█                               | 593 kB 85.9 MB/s eta 0:00:01\r\u001B[K     |█                               | 604 kB 85.9 MB/s eta 0:00:01\r\u001B[K     |█                               | 614 kB 85.9 MB/s eta 0:00:01\r\u001B[K     |█                               | 624 kB 85.9 MB/s eta 0:00:01\r\u001B[K     |█                               | 634 kB 85.9 MB/s eta 0:00:01\r\u001B[K     |█                               | 645 kB 85.9 MB/s eta 0:00:01\r\u001B[K     |█                               | 655 kB 85.9 MB/s eta 0:00:01\r\u001B[K     |█                               | 665 kB 85.9 MB/s eta 0:00:01\r\u001B[K     |█                               | 675 kB 85.9 MB/s eta 0:00:01\r\u001B[K     |█▏                              | 686 kB 85.9 MB/s eta 0:00:01\r\u001B[K     |█▏                              | 696 kB 85.9 MB/s eta 0:00:01\r\u001B[K     |█▏                              | 706 kB 85.9 MB/s eta 0:00:01\r\u001B[K     |█▏                              | 716 kB 85.9 MB/s eta 0:00:01\r\u001B[K     |█▏                              | 727 kB 85.9 MB/s eta 0:00:01\r\u001B[K     |█▏                              | 737 kB 85.9 MB/s eta 0:00:01\r\u001B[K     |█▎                              | 747 kB 85.9 MB/s eta 0:00:01\r\u001B[K     |█▎                              | 757 kB 85.9 MB/s eta 0:00:01\r\u001B[K     |█▎                              | 768 kB 85.9 MB/s eta 0:00:01\r\u001B[K     |█▎                              | 778 kB 85.9 MB/s eta 0:00:01\r\u001B[K     |█▎                              | 788 kB 85.9 MB/s eta 0:00:01\r\u001B[K     |█▎                              | 798 kB 85.9 MB/s eta 0:00:01\r\u001B[K     |█▎                              | 808 kB 85.9 MB/s eta 0:00:01\r\u001B[K     |█▍                              | 819 kB 85.9 MB/s eta 0:00:01\r\u001B[K     |█▍                              | 829 kB 85.9 MB/s eta 0:00:01\r\u001B[K     |█▍                              | 839 kB 85.9 MB/s eta 0:00:01\r\u001B[K     |█▍                              | 849 kB 85.9 MB/s eta 0:00:01\r\u001B[K     |█▍                              | 860 kB 85.9 MB/s eta 0:00:01\r\u001B[K     |█▍                              | 870 kB 85.9 MB/s eta 0:00:01\r\u001B[K     |█▍                              | 880 kB 85.9 MB/s eta 0:00:01\r\u001B[K     |█▌                              | 890 kB 85.9 MB/s eta 0:00:01\r\u001B[K     |█▌                              | 901 kB 85.9 MB/s eta 0:00:01\r\u001B[K     |█▌                              | 911 kB 85.9 MB/s eta 0:00:01\r\u001B[K     |█▌                              | 921 kB 85.9 MB/s eta 0:00:01\r\u001B[K     |█▌                              | 931 kB 85.9 MB/s eta 0:00:01\r\u001B[K     |█▌                              | 942 kB 85.9 MB/s eta 0:00:01\r\u001B[K     |█▋                              | 952 kB 85.9 MB/s eta 0:00:01\r\u001B[K     |█▋                              | 962 kB 85.9 MB/s eta 0:00:01\r\u001B[K     |█▋                              | 972 kB 85.9 MB/s eta 0:00:01\r\u001B[K     |█▋                              | 983 kB 85.9 MB/s eta 0:00:01\r\u001B[K     |█▋                              | 993 kB 85.9 MB/s eta 0:00:01\r\u001B[K     |█▋                              | 1.0 MB 85.9 MB/s eta 0:00:01\r\u001B[K     |█▋                              | 1.0 MB 85.9 MB/s eta 0:00:01\r\u001B[K     |█▊                              | 1.0 MB 85.9 MB/s eta 0:00:01\r\u001B[K     |█▊                              | 1.0 MB 85.9 MB/s eta 0:00:01\r\u001B[K     |█▊                              | 1.0 MB 85.9 MB/s eta 0:00:01\r\u001B[K     |█▊                              | 1.1 MB 85.9 MB/s eta 0:00:01\r\u001B[K     |█▊                              | 1.1 MB 85.9 MB/s eta 0:00:01\r\u001B[K     |█▊                              | 1.1 MB 85.9 MB/s eta 0:00:01\r\u001B[K     |█▉                              | 1.1 MB 85.9 MB/s eta 0:00:01\r\u001B[K     |█▉                              | 1.1 MB 85.9 MB/s eta 0:00:01\r\u001B[K     |█▉                              | 1.1 MB 85.9 MB/s eta 0:00:01\r\u001B[K     |█▉                              | 1.1 MB 85.9 MB/s eta 0:00:01\r\u001B[K     |█▉                              | 1.1 MB 85.9 MB/s eta 0:00:01\r\u001B[K     |█▉                              | 1.1 MB 85.9 MB/s eta 0:00:01\r\u001B[K     |█▉                              | 1.1 MB 85.9 MB/s eta 0:00:01\r\u001B[K     |██                              | 1.2 MB 85.9 MB/s eta 0:00:01\r\u001B[K     |██                              | 1.2 MB 85.9 MB/s eta 0:00:01\r\u001B[K     |██                              | 1.2 MB 85.9 MB/s eta 0:00:01\r\u001B[K     |██                              | 1.2 MB 85.9 MB/s eta 0:00:01\r\u001B[K     |██                              | 1.2 MB 85.9 MB/s eta 0:00:01\r\u001B[K     |██                              | 1.2 MB 85.9 MB/s eta 0:00:01\r\u001B[K     |██                              | 1.2 MB 85.9 MB/s eta 0:00:01\r\u001B[K     |██                              | 1.2 MB 85.9 MB/s eta 0:00:01\r\u001B[K     |██                              | 1.2 MB 85.9 MB/s eta 0:00:01\r\u001B[K     |██                              | 1.2 MB 85.9 MB/s eta 0:00:01\r\u001B[K     |██                              | 1.3 MB 85.9 MB/s eta 0:00:01\r\u001B[K     |██                              | 1.3 MB 85.9 MB/s eta 0:00:01\r\u001B[K     |██                              | 1.3 MB 85.9 MB/s eta 0:00:01\r\u001B[K     |██▏                             | 1.3 MB 85.9 MB/s eta 0:00:01\r\u001B[K     |██▏                             | 1.3 MB 85.9 MB/s eta 0:00:01\r\u001B[K     |██▏                             | 1.3 MB 85.9 MB/s eta 0:00:01\r\u001B[K     |██▏                             | 1.3 MB 85.9 MB/s eta 0:00:01\r\u001B[K     |██▏                             | 1.3 MB 85.9 MB/s eta 0:00:01\r\u001B[K     |██▏                             | 1.3 MB 85.9 MB/s eta 0:00:01\r\u001B[K     |██▏                             | 1.4 MB 85.9 MB/s eta 0:00:01\r\u001B[K     |██▎                             | 1.4 MB 85.9 MB/s eta 0:00:01\r\u001B[K     |██▎                             | 1.4 MB 85.9 MB/s eta 0:00:01\r\u001B[K     |██▎                             | 1.4 MB 85.9 MB/s eta 0:00:01\r\u001B[K     |██▎                             | 1.4 MB 85.9 MB/s eta 0:00:01\r\u001B[K     |██▎                             | 1.4 MB 85.9 MB/s eta 0:00:01\r\u001B[K     |██▎                             | 1.4 MB 85.9 MB/s eta 0:00:01\r\u001B[K     |██▎                             | 1.4 MB 85.9 MB/s eta 0:00:01\r\u001B[K     |██▍                             | 1.4 MB 85.9 MB/s eta 0:00:01\r\u001B[K     |██▍                             | 1.4 MB 85.9 MB/s eta 0:00:01\r\u001B[K     |██▍                             | 1.5 MB 85.9 MB/s eta 0:00:01\r\u001B[K     |██▍                             | 1.5 MB 85.9 MB/s eta 0:00:01\r\u001B[K     |██▍                             | 1.5 MB 85.9 MB/s eta 0:00:01\r\u001B[K     |██▍                             | 1.5 MB 85.9 MB/s eta 0:00:01\r\u001B[K     |██▌                             | 1.5 MB 85.9 MB/s eta 0:00:01\r\u001B[K     |██▌                             | 1.5 MB 85.9 MB/s eta 0:00:01\r\u001B[K     |██▌                             | 1.5 MB 85.9 MB/s eta 0:00:01\r\u001B[K     |██▌                             | 1.5 MB 85.9 MB/s eta 0:00:01\r\u001B[K     |██▌                             | 1.5 MB 85.9 MB/s eta 0:00:01\r\u001B[K     |██▌                             | 1.5 MB 85.9 MB/s eta 0:00:01\r\u001B[K     |██▌                             | 1.6 MB 85.9 MB/s eta 0:00:01\r\u001B[K     |██▋                             | 1.6 MB 85.9 MB/s eta 0:00:01\r\u001B[K     |██▋                             | 1.6 MB 85.9 MB/s eta 0:00:01\r\u001B[K     |██▋                             | 1.6 MB 85.9 MB/s eta 0:00:01\r\u001B[K     |██▋                             | 1.6 MB 85.9 MB/s eta 0:00:01\r\u001B[K     |██▋                             | 1.6 MB 85.9 MB/s eta 0:00:01\r\u001B[K     |██▋                             | 1.6 MB 85.9 MB/s eta 0:00:01\r\u001B[K     |██▊                             | 1.6 MB 85.9 MB/s eta 0:00:01\r\u001B[K     |██▊                             | 1.6 MB 85.9 MB/s eta 0:00:01\r\u001B[K     |██▊                             | 1.6 MB 85.9 MB/s eta 0:00:01\r\u001B[K     |██▊                             | 1.7 MB 85.9 MB/s eta 0:00:01\r\u001B[K     |██▊                             | 1.7 MB 85.9 MB/s eta 0:00:01\r\u001B[K     |██▊                             | 1.7 MB 85.9 MB/s eta 0:00:01\r\u001B[K     |██▊                             | 1.7 MB 85.9 MB/s eta 0:00:01\r\u001B[K     |██▉                             | 1.7 MB 85.9 MB/s eta 0:00:01\r\u001B[K     |██▉                             | 1.7 MB 85.9 MB/s eta 0:00:01\r\u001B[K     |██▉                             | 1.7 MB 85.9 MB/s eta 0:00:01\r\u001B[K     |██▉                             | 1.7 MB 85.9 MB/s eta 0:00:01\r\u001B[K     |██▉                             | 1.7 MB 85.9 MB/s eta 0:00:01\r\u001B[K     |██▉                             | 1.8 MB 85.9 MB/s eta 0:00:01\r\u001B[K     |██▉                             | 1.8 MB 85.9 MB/s eta 0:00:01\r\u001B[K     |███                             | 1.8 MB 85.9 MB/s eta 0:00:01\r\u001B[K     |███                             | 1.8 MB 85.9 MB/s eta 0:00:01\r\u001B[K     |███                             | 1.8 MB 85.9 MB/s eta 0:00:01\r\u001B[K     |███                             | 1.8 MB 85.9 MB/s eta 0:00:01\r\u001B[K     |███                             | 1.8 MB 85.9 MB/s eta 0:00:01\r\u001B[K     |███                             | 1.8 MB 85.9 MB/s eta 0:00:01\r\u001B[K     |███                             | 1.8 MB 85.9 MB/s eta 0:00:01\r\u001B[K     |███                             | 1.8 MB 85.9 MB/s eta 0:00:01\r\u001B[K     |███                             | 1.9 MB 85.9 MB/s eta 0:00:01\r\u001B[K     |███                             | 1.9 MB 85.9 MB/s eta 0:00:01\r\u001B[K     |███                             | 1.9 MB 85.9 MB/s eta 0:00:01\r\u001B[K     |███                             | 1.9 MB 85.9 MB/s eta 0:00:01\r\u001B[K     |███                             | 1.9 MB 85.9 MB/s eta 0:00:01\r\u001B[K     |███▏                            | 1.9 MB 85.9 MB/s eta 0:00:01\r\u001B[K     |███▏                            | 1.9 MB 85.9 MB/s eta 0:00:01\r\u001B[K     |███▏                            | 1.9 MB 85.9 MB/s eta 0:00:01\r\u001B[K     |███▏                            | 1.9 MB 85.9 MB/s eta 0:00:01\r\u001B[K     |███▏                            | 1.9 MB 85.9 MB/s eta 0:00:01\r\u001B[K     |███▏                            | 2.0 MB 85.9 MB/s eta 0:00:01\r\u001B[K     |███▏                            | 2.0 MB 85.9 MB/s eta 0:00:01\r\u001B[K     |███▎                            | 2.0 MB 85.9 MB/s eta 0:00:01\r\u001B[K     |███▎                            | 2.0 MB 85.9 MB/s eta 0:00:01\r\u001B[K     |███▎                            | 2.0 MB 85.9 MB/s eta 0:00:01\r\u001B[K     |███▎                            | 2.0 MB 85.9 MB/s eta 0:00:01\r\u001B[K     |███▎                            | 2.0 MB 85.9 MB/s eta 0:00:01\r\u001B[K     |███▎                            | 2.0 MB 85.9 MB/s eta 0:00:01\r\u001B[K     |███▍                            | 2.0 MB 85.9 MB/s eta 0:00:01\r\u001B[K     |███▍                            | 2.0 MB 85.9 MB/s eta 0:00:01\r\u001B[K     |███▍                            | 2.1 MB 85.9 MB/s eta 0:00:01\r\u001B[K     |███▍                            | 2.1 MB 85.9 MB/s eta 0:00:01\r\u001B[K     |███▍                            | 2.1 MB 85.9 MB/s eta 0:00:01\r\u001B[K     |███▍                            | 2.1 MB 85.9 MB/s eta 0:00:01\r\u001B[K     |███▍                            | 2.1 MB 85.9 MB/s eta 0:00:01\r\u001B[K     |███▌                            | 2.1 MB 85.9 MB/s eta 0:00:01\r\u001B[K     |███▌                            | 2.1 MB 85.9 MB/s eta 0:00:01\r\u001B[K     |███▌                            | 2.1 MB 85.9 MB/s eta 0:00:01\r\u001B[K     |███▌                            | 2.1 MB 85.9 MB/s eta 0:00:01\r\u001B[K     |███▌                            | 2.2 MB 85.9 MB/s eta 0:00:01\r\u001B[K     |███▌                            | 2.2 MB 85.9 MB/s eta 0:00:01\r\u001B[K     |███▋                            | 2.2 MB 85.9 MB/s eta 0:00:01\r\u001B[K     |███▋                            | 2.2 MB 85.9 MB/s eta 0:00:01\r\u001B[K     |███▋                            | 2.2 MB 85.9 MB/s eta 0:00:01\r\u001B[K     |███▋                            | 2.2 MB 85.9 MB/s eta 0:00:01\r\u001B[K     |███▋                            | 2.2 MB 85.9 MB/s eta 0:00:01\r\u001B[K     |███▋                            | 2.2 MB 85.9 MB/s eta 0:00:01\r\u001B[K     |███▋                            | 2.2 MB 85.9 MB/s eta 0:00:01\r\u001B[K     |███▊                            | 2.2 MB 85.9 MB/s eta 0:00:01\r\u001B[K     |███▊                            | 2.3 MB 85.9 MB/s eta 0:00:01\r\u001B[K     |███▊                            | 2.3 MB 85.9 MB/s eta 0:00:01\r\u001B[K     |███▊                            | 2.3 MB 85.9 MB/s eta 0:00:01\r\u001B[K     |███▊                            | 2.3 MB 85.9 MB/s eta 0:00:01\r\u001B[K     |███▊                            | 2.3 MB 85.9 MB/s eta 0:00:01\r\u001B[K     |███▊                            | 2.3 MB 85.9 MB/s eta 0:00:01\r\u001B[K     |███▉                            | 2.3 MB 85.9 MB/s eta 0:00:01\r\u001B[K     |███▉                            | 2.3 MB 85.9 MB/s eta 0:00:01\r\u001B[K     |███▉                            | 2.3 MB 85.9 MB/s eta 0:00:01\r\u001B[K     |███▉                            | 2.3 MB 85.9 MB/s eta 0:00:01\r\u001B[K     |███▉                            | 2.4 MB 85.9 MB/s eta 0:00:01\r\u001B[K     |███▉                            | 2.4 MB 85.9 MB/s eta 0:00:01\r\u001B[K     |████                            | 2.4 MB 85.9 MB/s eta 0:00:01\r\u001B[K     |████                            | 2.4 MB 85.9 MB/s eta 0:00:01\r\u001B[K     |████                            | 2.4 MB 85.9 MB/s eta 0:00:01\r\u001B[K     |████                            | 2.4 MB 85.9 MB/s eta 0:00:01\r\u001B[K     |████                            | 2.4 MB 85.9 MB/s eta 0:00:01\r\u001B[K     |████                            | 2.4 MB 85.9 MB/s eta 0:00:01\r\u001B[K     |████                            | 2.4 MB 85.9 MB/s eta 0:00:01\r\u001B[K     |████                            | 2.4 MB 85.9 MB/s eta 0:00:01\r\u001B[K     |████                            | 2.5 MB 85.9 MB/s eta 0:00:01\r\u001B[K     |████                            | 2.5 MB 85.9 MB/s eta 0:00:01\r\u001B[K     |████                            | 2.5 MB 85.9 MB/s eta 0:00:01\r\u001B[K     |████                            | 2.5 MB 85.9 MB/s eta 0:00:01\r\u001B[K     |████                            | 2.5 MB 85.9 MB/s eta 0:00:01\r\u001B[K     |████▏                           | 2.5 MB 85.9 MB/s eta 0:00:01\r\u001B[K     |████▏                           | 2.5 MB 85.9 MB/s eta 0:00:01\r\u001B[K     |████▏                           | 2.5 MB 85.9 MB/s eta 0:00:01\r\u001B[K     |████▏                           | 2.5 MB 85.9 MB/s eta 0:00:01\r\u001B[K     |████▏                           | 2.5 MB 85.9 MB/s eta 0:00:01\r\u001B[K     |████▏                           | 2.6 MB 85.9 MB/s eta 0:00:01\r\u001B[K     |████▏                           | 2.6 MB 85.9 MB/s eta 0:00:01\r\u001B[K     |████▎                           | 2.6 MB 85.9 MB/s eta 0:00:01\r\u001B[K     |████▎                           | 2.6 MB 85.9 MB/s eta 0:00:01\r\u001B[K     |████▎                           | 2.6 MB 85.9 MB/s eta 0:00:01\r\u001B[K     |████▎                           | 2.6 MB 85.9 MB/s eta 0:00:01\r\u001B[K     |████▎                           | 2.6 MB 85.9 MB/s eta 0:00:01\r\u001B[K     |████▎                           | 2.6 MB 85.9 MB/s eta 0:00:01\r\u001B[K     |████▎                           | 2.6 MB 85.9 MB/s eta 0:00:01\r\u001B[K     |████▍                           | 2.7 MB 85.9 MB/s eta 0:00:01\r\u001B[K     |████▍                           | 2.7 MB 85.9 MB/s eta 0:00:01\r\u001B[K     |████▍                           | 2.7 MB 85.9 MB/s eta 0:00:01\r\u001B[K     |████▍                           | 2.7 MB 85.9 MB/s eta 0:00:01\r\u001B[K     |████▍                           | 2.7 MB 85.9 MB/s eta 0:00:01\r\u001B[K     |████▍                           | 2.7 MB 85.9 MB/s eta 0:00:01\r\u001B[K     |████▌                           | 2.7 MB 85.9 MB/s eta 0:00:01\r\u001B[K     |████▌                           | 2.7 MB 85.9 MB/s eta 0:00:01\r\u001B[K     |████▌                           | 2.7 MB 85.9 MB/s eta 0:00:01\r\u001B[K     |████▌                           | 2.7 MB 85.9 MB/s eta 0:00:01\r\u001B[K     |████▌                           | 2.8 MB 85.9 MB/s eta 0:00:01\r\u001B[K     |████▌                           | 2.8 MB 85.9 MB/s eta 0:00:01\r\u001B[K     |████▌                           | 2.8 MB 85.9 MB/s eta 0:00:01\r\u001B[K     |████▋                           | 2.8 MB 85.9 MB/s eta 0:00:01\r\u001B[K     |████▋                           | 2.8 MB 85.9 MB/s eta 0:00:01\r\u001B[K     |████▋                           | 2.8 MB 85.9 MB/s eta 0:00:01\r\u001B[K     |████▋                           | 2.8 MB 85.9 MB/s eta 0:00:01\r\u001B[K     |████▋                           | 2.8 MB 85.9 MB/s eta 0:00:01\r\u001B[K     |████▋                           | 2.8 MB 85.9 MB/s eta 0:00:01\r\u001B[K     |████▋                           | 2.8 MB 85.9 MB/s eta 0:00:01\r\u001B[K     |████▊                           | 2.9 MB 85.9 MB/s eta 0:00:01\r\u001B[K     |████▊                           | 2.9 MB 85.9 MB/s eta 0:00:01\r\u001B[K     |████▊                           | 2.9 MB 85.9 MB/s eta 0:00:01\r\u001B[K     |████▊                           | 2.9 MB 85.9 MB/s eta 0:00:01\r\u001B[K     |████▊                           | 2.9 MB 85.9 MB/s eta 0:00:01\r\u001B[K     |████▊                           | 2.9 MB 85.9 MB/s eta 0:00:01\r\u001B[K     |████▉                           | 2.9 MB 85.9 MB/s eta 0:00:01\r\u001B[K     |████▉                           | 2.9 MB 85.9 MB/s eta 0:00:01\r\u001B[K     |████▉                           | 2.9 MB 85.9 MB/s eta 0:00:01\r\u001B[K     |████▉                           | 2.9 MB 85.9 MB/s eta 0:00:01\r\u001B[K     |████▉                           | 3.0 MB 85.9 MB/s eta 0:00:01\r\u001B[K     |████▉                           | 3.0 MB 85.9 MB/s eta 0:00:01\r\u001B[K     |████▉                           | 3.0 MB 85.9 MB/s eta 0:00:01\r\u001B[K     |█████                           | 3.0 MB 85.9 MB/s eta 0:00:01\r\u001B[K     |█████                           | 3.0 MB 85.9 MB/s eta 0:00:01\r\u001B[K     |█████                           | 3.0 MB 85.9 MB/s eta 0:00:01\r\u001B[K     |█████                           | 3.0 MB 85.9 MB/s eta 0:00:01\r\u001B[K     |█████                           | 3.0 MB 85.9 MB/s eta 0:00:01\r\u001B[K     |█████                           | 3.0 MB 85.9 MB/s eta 0:00:01\r\u001B[K     |█████                           | 3.1 MB 85.9 MB/s eta 0:00:01\r\u001B[K     |█████                           | 3.1 MB 85.9 MB/s eta 0:00:01\r\u001B[K     |█████                           | 3.1 MB 85.9 MB/s eta 0:00:01\r\u001B[K     |█████                           | 3.1 MB 85.9 MB/s eta 0:00:01\r\u001B[K     |█████                           | 3.1 MB 85.9 MB/s eta 0:00:01\r\u001B[K     |█████                           | 3.1 MB 85.9 MB/s eta 0:00:01\r\u001B[K     |█████                           | 3.1 MB 85.9 MB/s eta 0:00:01\r\u001B[K     |█████▏                          | 3.1 MB 85.9 MB/s eta 0:00:01\r\u001B[K     |█████▏                          | 3.1 MB 85.9 MB/s eta 0:00:01\r\u001B[K     |█████▏                          | 3.1 MB 85.9 MB/s eta 0:00:01\r\u001B[K     |█████▏                          | 3.2 MB 85.9 MB/s eta 0:00:01\r\u001B[K     |█████▏                          | 3.2 MB 85.9 MB/s eta 0:00:01\r\u001B[K     |█████▏                          | 3.2 MB 85.9 MB/s eta 0:00:01\r\u001B[K     |█████▏                          | 3.2 MB 85.9 MB/s eta 0:00:01\r\u001B[K     |█████▎                          | 3.2 MB 85.9 MB/s eta 0:00:01\r\u001B[K     |█████▎                          | 3.2 MB 85.9 MB/s eta 0:00:01\r\u001B[K     |█████▎                          | 3.2 MB 85.9 MB/s eta 0:00:01\r\u001B[K     |█████▎                          | 3.2 MB 85.9 MB/s eta 0:00:01\r\u001B[K     |█████▎                          | 3.2 MB 85.9 MB/s eta 0:00:01\r\u001B[K     |█████▎                          | 3.2 MB 85.9 MB/s eta 0:00:01\r\u001B[K     |█████▍                          | 3.3 MB 85.9 MB/s eta 0:00:01\r\u001B[K     |█████▍                          | 3.3 MB 85.9 MB/s eta 0:00:\n\n*** WARNING: max output size exceeded, skipping output. ***\n\nMB/s eta 0:00:01\r\u001B[K     |████████████████████████████████| 16.8 MB 56.0 MB/s eta 0:00:01\r\u001B[K     |████████████████████████████████| 16.8 MB 56.0 MB/s \r\n\u001B[?25hRequirement already satisfied: cffi>=1.0 in /databricks/python3/lib/python3.9/site-packages (from soundfile>=0.12.1->librosa) (1.15.0)\r\nRequirement already satisfied: pycparser in /databricks/python3/lib/python3.9/site-packages (from cffi>=1.0->soundfile>=0.12.1->librosa) (2.21)\r\nInstalling collected packages: numpy, threadpoolctl, llvmlite, joblib, soxr, soundfile, scikit-learn, pooch, numba, msgpack, lazy-loader, audioread, librosa\r\n  Attempting uninstall: numpy\r\n    Found existing installation: numpy 1.21.5\r\n    Not uninstalling numpy at /databricks/python3/lib/python3.9/site-packages, outside environment /local_disk0/.ephemeral_nfs/envs/pythonEnv-914c8e23-4abc-4a69-b329-c3fec706d77d\r\n    Can't uninstall 'numpy'. No files were found to uninstall.\r\n  Attempting uninstall: threadpoolctl\r\n    Found existing installation: threadpoolctl 2.2.0\r\n    Not uninstalling threadpoolctl at /databricks/python3/lib/python3.9/site-packages, outside environment /local_disk0/.ephemeral_nfs/envs/pythonEnv-914c8e23-4abc-4a69-b329-c3fec706d77d\r\n    Can't uninstall 'threadpoolctl'. No files were found to uninstall.\r\n  Attempting uninstall: joblib\r\n    Found existing installation: joblib 1.1.1\r\n    Not uninstalling joblib at /databricks/python3/lib/python3.9/site-packages, outside environment /local_disk0/.ephemeral_nfs/envs/pythonEnv-914c8e23-4abc-4a69-b329-c3fec706d77d\r\n    Can't uninstall 'joblib'. No files were found to uninstall.\r\n  Attempting uninstall: scikit-learn\r\n    Found existing installation: scikit-learn 1.0.2\r\n    Not uninstalling scikit-learn at /databricks/python3/lib/python3.9/site-packages, outside environment /local_disk0/.ephemeral_nfs/envs/pythonEnv-914c8e23-4abc-4a69-b329-c3fec706d77d\r\n    Can't uninstall 'scikit-learn'. No files were found to uninstall.\r\nSuccessfully installed audioread-3.0.1 joblib-1.4.2 lazy-loader-0.4 librosa-0.11.0 llvmlite-0.43.0 msgpack-1.1.0 numba-0.60.0 numpy-1.22.4 pooch-1.8.2 scikit-learn-1.6.1 soundfile-0.13.1 soxr-0.5.0.post1 threadpoolctl-3.6.0\r\n\u001B[33mWARNING: You are using pip version 21.2.4; however, version 25.0.1 is available.\r\nYou should consider upgrading via the '/local_disk0/.ephemeral_nfs/envs/pythonEnv-914c8e23-4abc-4a69-b329-c3fec706d77d/bin/python -m pip install --upgrade pip' command.\u001B[0m\r\nCollecting yt-dlp\r\n  Downloading yt_dlp-2025.2.19-py3-none-any.whl (3.2 MB)\r\n\u001B[?25l\r\u001B[K     |                                | 10 kB 21.9 MB/s eta 0:00:01\r\u001B[K     |▏                               | 20 kB 9.9 MB/s eta 0:00:01\r\u001B[K     |▎                               | 30 kB 14.1 MB/s eta 0:00:01\r\u001B[K     |▍                               | 40 kB 7.2 MB/s eta 0:00:01\r\u001B[K     |▌                               | 51 kB 7.1 MB/s eta 0:00:01\r\u001B[K     |▋                               | 61 kB 8.4 MB/s eta 0:00:01\r\u001B[K     |▊                               | 71 kB 8.7 MB/s eta 0:00:01\r\u001B[K     |▉                               | 81 kB 9.2 MB/s eta 0:00:01\r\u001B[K     |█                               | 92 kB 10.2 MB/s eta 0:00:01\r\u001B[K     |█                               | 102 kB 9.9 MB/s eta 0:00:01\r\u001B[K     |█▏                              | 112 kB 9.9 MB/s eta 0:00:01\r\u001B[K     |█▎                              | 122 kB 9.9 MB/s eta 0:00:01\r\u001B[K     |█▍                              | 133 kB 9.9 MB/s eta 0:00:01\r\u001B[K     |█▍                              | 143 kB 9.9 MB/s eta 0:00:01\r\u001B[K     |█▌                              | 153 kB 9.9 MB/s eta 0:00:01\r\u001B[K     |█▋                              | 163 kB 9.9 MB/s eta 0:00:01\r\u001B[K     |█▊                              | 174 kB 9.9 MB/s eta 0:00:01\r\u001B[K     |█▉                              | 184 kB 9.9 MB/s eta 0:00:01\r\u001B[K     |██                              | 194 kB 9.9 MB/s eta 0:00:01\r\u001B[K     |██                              | 204 kB 9.9 MB/s eta 0:00:01\r\u001B[K     |██▏                             | 215 kB 9.9 MB/s eta 0:00:01\r\u001B[K     |██▎                             | 225 kB 9.9 MB/s eta 0:00:01\r\u001B[K     |██▍                             | 235 kB 9.9 MB/s eta 0:00:01\r\u001B[K     |██▌                             | 245 kB 9.9 MB/s eta 0:00:01\r\u001B[K     |██▋                             | 256 kB 9.9 MB/s eta 0:00:01\r\u001B[K     |██▊                             | 266 kB 9.9 MB/s eta 0:00:01\r\u001B[K     |██▊                             | 276 kB 9.9 MB/s eta 0:00:01\r\u001B[K     |██▉                             | 286 kB 9.9 MB/s eta 0:00:01\r\u001B[K     |███                             | 296 kB 9.9 MB/s eta 0:00:01\r\u001B[K     |███                             | 307 kB 9.9 MB/s eta 0:00:01\r\u001B[K     |███▏                            | 317 kB 9.9 MB/s eta 0:00:01\r\u001B[K     |███▎                            | 327 kB 9.9 MB/s eta 0:00:01\r\u001B[K     |███▍                            | 337 kB 9.9 MB/s eta 0:00:01\r\u001B[K     |███▌                            | 348 kB 9.9 MB/s eta 0:00:01\r\u001B[K     |███▋                            | 358 kB 9.9 MB/s eta 0:00:01\r\u001B[K     |███▊                            | 368 kB 9.9 MB/s eta 0:00:01\r\u001B[K     |███▉                            | 378 kB 9.9 MB/s eta 0:00:01\r\u001B[K     |████                            | 389 kB 9.9 MB/s eta 0:00:01\r\u001B[K     |████                            | 399 kB 9.9 MB/s eta 0:00:01\r\u001B[K     |████▏                           | 409 kB 9.9 MB/s eta 0:00:01\r\u001B[K     |████▏                           | 419 kB 9.9 MB/s eta 0:00:01\r\u001B[K     |████▎                           | 430 kB 9.9 MB/s eta 0:00:01\r\u001B[K     |████▍                           | 440 kB 9.9 MB/s eta 0:00:01\r\u001B[K     |████▌                           | 450 kB 9.9 MB/s eta 0:00:01\r\u001B[K     |████▋                           | 460 kB 9.9 MB/s eta 0:00:01\r\u001B[K     |████▊                           | 471 kB 9.9 MB/s eta 0:00:01\r\u001B[K     |████▉                           | 481 kB 9.9 MB/s eta 0:00:01\r\u001B[K     |█████                           | 491 kB 9.9 MB/s eta 0:00:01\r\u001B[K     |█████                           | 501 kB 9.9 MB/s eta 0:00:01\r\u001B[K     |█████▏                          | 512 kB 9.9 MB/s eta 0:00:01\r\u001B[K     |█████▎                          | 522 kB 9.9 MB/s eta 0:00:01\r\u001B[K     |█████▍                          | 532 kB 9.9 MB/s eta 0:00:01\r\u001B[K     |█████▌                          | 542 kB 9.9 MB/s eta 0:00:01\r\u001B[K     |█████▌                          | 552 kB 9.9 MB/s eta 0:00:01\r\u001B[K     |█████▋                          | 563 kB 9.9 MB/s eta 0:00:01\r\u001B[K     |█████▊                          | 573 kB 9.9 MB/s eta 0:00:01\r\u001B[K     |█████▉                          | 583 kB 9.9 MB/s eta 0:00:01\r\u001B[K     |██████                          | 593 kB 9.9 MB/s eta 0:00:01\r\u001B[K     |██████                          | 604 kB 9.9 MB/s eta 0:00:01\r\u001B[K     |██████▏                         | 614 kB 9.9 MB/s eta 0:00:01\r\u001B[K     |██████▎                         | 624 kB 9.9 MB/s eta 0:00:01\r\u001B[K     |██████▍                         | 634 kB 9.9 MB/s eta 0:00:01\r\u001B[K     |██████▌                         | 645 kB 9.9 MB/s eta 0:00:01\r\u001B[K     |██████▋                         | 655 kB 9.9 MB/s eta 0:00:01\r\u001B[K     |██████▊                         | 665 kB 9.9 MB/s eta 0:00:01\r\u001B[K     |██████▉                         | 675 kB 9.9 MB/s eta 0:00:01\r\u001B[K     |███████                         | 686 kB 9.9 MB/s eta 0:00:01\r\u001B[K     |███████                         | 696 kB 9.9 MB/s eta 0:00:01\r\u001B[K     |███████                         | 706 kB 9.9 MB/s eta 0:00:01\r\u001B[K     |███████▏                        | 716 kB 9.9 MB/s eta 0:00:01\r\u001B[K     |███████▎                        | 727 kB 9.9 MB/s eta 0:00:01\r\u001B[K     |███████▍                        | 737 kB 9.9 MB/s eta 0:00:01\r\u001B[K     |███████▌                        | 747 kB 9.9 MB/s eta 0:00:01\r\u001B[K     |███████▋                        | 757 kB 9.9 MB/s eta 0:00:01\r\u001B[K     |███████▊                        | 768 kB 9.9 MB/s eta 0:00:01\r\u001B[K     |███████▉                        | 778 kB 9.9 MB/s eta 0:00:01\r\u001B[K     |████████                        | 788 kB 9.9 MB/s eta 0:00:01\r\u001B[K     |████████                        | 798 kB 9.9 MB/s eta 0:00:01\r\u001B[K     |████████▏                       | 808 kB 9.9 MB/s eta 0:00:01\r\u001B[K     |████████▎                       | 819 kB 9.9 MB/s eta 0:00:01\r\u001B[K     |████████▎                       | 829 kB 9.9 MB/s eta 0:00:01\r\u001B[K     |████████▍                       | 839 kB 9.9 MB/s eta 0:00:01\r\u001B[K     |████████▌                       | 849 kB 9.9 MB/s eta 0:00:01\r\u001B[K     |████████▋                       | 860 kB 9.9 MB/s eta 0:00:01\r\u001B[K     |████████▊                       | 870 kB 9.9 MB/s eta 0:00:01\r\u001B[K     |████████▉                       | 880 kB 9.9 MB/s eta 0:00:01\r\u001B[K     |█████████                       | 890 kB 9.9 MB/s eta 0:00:01\r\u001B[K     |█████████                       | 901 kB 9.9 MB/s eta 0:00:01\r\u001B[K     |█████████▏                      | 911 kB 9.9 MB/s eta 0:00:01\r\u001B[K     |█████████▎                      | 921 kB 9.9 MB/s eta 0:00:01\r\u001B[K     |█████████▍                      | 931 kB 9.9 MB/s eta 0:00:01\r\u001B[K     |█████████▌                      | 942 kB 9.9 MB/s eta 0:00:01\r\u001B[K     |█████████▋                      | 952 kB 9.9 MB/s eta 0:00:01\r\u001B[K     |█████████▋                      | 962 kB 9.9 MB/s eta 0:00:01\r\u001B[K     |█████████▊                      | 972 kB 9.9 MB/s eta 0:00:01\r\u001B[K     |█████████▉                      | 983 kB 9.9 MB/s eta 0:00:01\r\u001B[K     |██████████                      | 993 kB 9.9 MB/s eta 0:00:01\r\u001B[K     |██████████                      | 1.0 MB 9.9 MB/s eta 0:00:01\r\u001B[K     |██████████▏                     | 1.0 MB 9.9 MB/s eta 0:00:01\r\u001B[K     |██████████▎                     | 1.0 MB 9.9 MB/s eta 0:00:01\r\u001B[K     |██████████▍                     | 1.0 MB 9.9 MB/s eta 0:00:01\r\u001B[K     |██████████▌                     | 1.0 MB 9.9 MB/s eta 0:00:01\r\u001B[K     |██████████▋                     | 1.1 MB 9.9 MB/s eta 0:00:01\r\u001B[K     |██████████▊                     | 1.1 MB 9.9 MB/s eta 0:00:01\r\u001B[K     |██████████▉                     | 1.1 MB 9.9 MB/s eta 0:00:01\r\u001B[K     |███████████                     | 1.1 MB 9.9 MB/s eta 0:00:01\r\u001B[K     |███████████                     | 1.1 MB 9.9 MB/s eta 0:00:01\r\u001B[K     |███████████                     | 1.1 MB 9.9 MB/s eta 0:00:01\r\u001B[K     |███████████▏                    | 1.1 MB 9.9 MB/s eta 0:00:01\r\u001B[K     |███████████▎                    | 1.1 MB 9.9 MB/s eta 0:00:01\r\u001B[K     |███████████▍                    | 1.1 MB 9.9 MB/s eta 0:00:01\r\u001B[K     |███████████▌                    | 1.1 MB 9.9 MB/s eta 0:00:01\r\u001B[K     |███████████▋                    | 1.2 MB 9.9 MB/s eta 0:00:01\r\u001B[K     |███████████▊                    | 1.2 MB 9.9 MB/s eta 0:00:01\r\u001B[K     |███████████▉                    | 1.2 MB 9.9 MB/s eta 0:00:01\r\u001B[K     |████████████                    | 1.2 MB 9.9 MB/s eta 0:00:01\r\u001B[K     |████████████                    | 1.2 MB 9.9 MB/s eta 0:00:01\r\u001B[K     |████████████▏                   | 1.2 MB 9.9 MB/s eta 0:00:01\r\u001B[K     |████████████▎                   | 1.2 MB 9.9 MB/s eta 0:00:01\r\u001B[K     |████████████▍                   | 1.2 MB 9.9 MB/s eta 0:00:01\r\u001B[K     |████████████▍                   | 1.2 MB 9.9 MB/s eta 0:00:01\r\u001B[K     |████████████▌                   | 1.2 MB 9.9 MB/s eta 0:00:01\r\u001B[K     |████████████▋                   | 1.3 MB 9.9 MB/s eta 0:00:01\r\u001B[K     |████████████▊                   | 1.3 MB 9.9 MB/s eta 0:00:01\r\u001B[K     |████████████▉                   | 1.3 MB 9.9 MB/s eta 0:00:01\r\u001B[K     |█████████████                   | 1.3 MB 9.9 MB/s eta 0:00:01\r\u001B[K     |█████████████                   | 1.3 MB 9.9 MB/s eta 0:00:01\r\u001B[K     |█████████████▏                  | 1.3 MB 9.9 MB/s eta 0:00:01\r\u001B[K     |█████████████▎                  | 1.3 MB 9.9 MB/s eta 0:00:01\r\u001B[K     |█████████████▍                  | 1.3 MB 9.9 MB/s eta 0:00:01\r\u001B[K     |█████████████▌                  | 1.3 MB 9.9 MB/s eta 0:00:01\r\u001B[K     |█████████████▋                  | 1.4 MB 9.9 MB/s eta 0:00:01\r\u001B[K     |█████████████▊                  | 1.4 MB 9.9 MB/s eta 0:00:01\r\u001B[K     |█████████████▉                  | 1.4 MB 9.9 MB/s eta 0:00:01\r\u001B[K     |█████████████▉                  | 1.4 MB 9.9 MB/s eta 0:00:01\r\u001B[K     |██████████████                  | 1.4 MB 9.9 MB/s eta 0:00:01\r\u001B[K     |██████████████                  | 1.4 MB 9.9 MB/s eta 0:00:01\r\u001B[K     |██████████████▏                 | 1.4 MB 9.9 MB/s eta 0:00:01\r\u001B[K     |██████████████▎                 | 1.4 MB 9.9 MB/s eta 0:00:01\r\u001B[K     |██████████████▍                 | 1.4 MB 9.9 MB/s eta 0:00:01\r\u001B[K     |██████████████▌                 | 1.4 MB 9.9 MB/s eta 0:00:01\r\u001B[K     |██████████████▋                 | 1.5 MB 9.9 MB/s eta 0:00:01\r\u001B[K     |██████████████▊                 | 1.5 MB 9.9 MB/s eta 0:00:01\r\u001B[K     |██████████████▉                 | 1.5 MB 9.9 MB/s eta 0:00:01\r\u001B[K     |███████████████                 | 1.5 MB 9.9 MB/s eta 0:00:01\r\u001B[K     |███████████████                 | 1.5 MB 9.9 MB/s eta 0:00:01\r\u001B[K     |███████████████▏                | 1.5 MB 9.9 MB/s eta 0:00:01\r\u001B[K     |███████████████▏                | 1.5 MB 9.9 MB/s eta 0:00:01\r\u001B[K     |███████████████▎                | 1.5 MB 9.9 MB/s eta 0:00:01\r\u001B[K     |███████████████▍                | 1.5 MB 9.9 MB/s eta 0:00:01\r\u001B[K     |███████████████▌                | 1.5 MB 9.9 MB/s eta 0:00:01\r\u001B[K     |███████████████▋                | 1.6 MB 9.9 MB/s eta 0:00:01\r\u001B[K     |███████████████▊                | 1.6 MB 9.9 MB/s eta 0:00:01\r\u001B[K     |███████████████▉                | 1.6 MB 9.9 MB/s eta 0:00:01\r\u001B[K     |████████████████                | 1.6 MB 9.9 MB/s eta 0:00:01\r\u001B[K     |████████████████                | 1.6 MB 9.9 MB/s eta 0:00:01\r\u001B[K     |████████████████▏               | 1.6 MB 9.9 MB/s eta 0:00:01\r\u001B[K     |████████████████▎               | 1.6 MB 9.9 MB/s eta 0:00:01\r\u001B[K     |████████████████▍               | 1.6 MB 9.9 MB/s eta 0:00:01\r\u001B[K     |████████████████▌               | 1.6 MB 9.9 MB/s eta 0:00:01\r\u001B[K     |████████████████▋               | 1.6 MB 9.9 MB/s eta 0:00:01\r\u001B[K     |████████████████▋               | 1.7 MB 9.9 MB/s eta 0:00:01\r\u001B[K     |████████████████▊               | 1.7 MB 9.9 MB/s eta 0:00:01\r\u001B[K     |████████████████▉               | 1.7 MB 9.9 MB/s eta 0:00:01\r\u001B[K     |█████████████████               | 1.7 MB 9.9 MB/s eta 0:00:01\r\u001B[K     |█████████████████               | 1.7 MB 9.9 MB/s eta 0:00:01\r\u001B[K     |█████████████████▏              | 1.7 MB 9.9 MB/s eta 0:00:01\r\u001B[K     |█████████████████▎              | 1.7 MB 9.9 MB/s eta 0:00:01\r\u001B[K     |█████████████████▍              | 1.7 MB 9.9 MB/s eta 0:00:01\r\u001B[K     |█████████████████▌              | 1.7 MB 9.9 MB/s eta 0:00:01\r\u001B[K     |█████████████████▋              | 1.8 MB 9.9 MB/s eta 0:00:01\r\u001B[K     |█████████████████▊              | 1.8 MB 9.9 MB/s eta 0:00:01\r\u001B[K     |█████████████████▉              | 1.8 MB 9.9 MB/s eta 0:00:01\r\u001B[K     |██████████████████              | 1.8 MB 9.9 MB/s eta 0:00:01\r\u001B[K     |██████████████████              | 1.8 MB 9.9 MB/s eta 0:00:01\r\u001B[K     |██████████████████              | 1.8 MB 9.9 MB/s eta 0:00:01\r\u001B[K     |██████████████████▏             | 1.8 MB 9.9 MB/s eta 0:00:01\r\u001B[K     |██████████████████▎             | 1.8 MB 9.9 MB/s eta 0:00:01\r\u001B[K     |██████████████████▍             | 1.8 MB 9.9 MB/s eta 0:00:01\r\u001B[K     |██████████████████▌             | 1.8 MB 9.9 MB/s eta 0:00:01\r\u001B[K     |██████████████████▋             | 1.9 MB 9.9 MB/s eta 0:00:01\r\u001B[K     |██████████████████▊             | 1.9 MB 9.9 MB/s eta 0:00:01\r\u001B[K     |██████████████████▉             | 1.9 MB 9.9 MB/s eta 0:00:01\r\u001B[K     |███████████████████             | 1.9 MB 9.9 MB/s eta 0:00:01\r\u001B[K     |███████████████████             | 1.9 MB 9.9 MB/s eta 0:00:01\r\u001B[K     |███████████████████▏            | 1.9 MB 9.9 MB/s eta 0:00:01\r\u001B[K     |███████████████████▎            | 1.9 MB 9.9 MB/s eta 0:00:01\r\u001B[K     |███████████████████▎            | 1.9 MB 9.9 MB/s eta 0:00:01\r\u001B[K     |███████████████████▍            | 1.9 MB 9.9 MB/s eta 0:00:01\r\u001B[K     |███████████████████▌            | 1.9 MB 9.9 MB/s eta 0:00:01\r\u001B[K     |███████████████████▋            | 2.0 MB 9.9 MB/s eta 0:00:01\r\u001B[K     |███████████████████▊            | 2.0 MB 9.9 MB/s eta 0:00:01\r\u001B[K     |███████████████████▉            | 2.0 MB 9.9 MB/s eta 0:00:01\r\u001B[K     |████████████████████            | 2.0 MB 9.9 MB/s eta 0:00:01\r\u001B[K     |████████████████████            | 2.0 MB 9.9 MB/s eta 0:00:01\r\u001B[K     |████████████████████▏           | 2.0 MB 9.9 MB/s eta 0:00:01\r\u001B[K     |████████████████████▎           | 2.0 MB 9.9 MB/s eta 0:00:01\r\u001B[K     |████████████████████▍           | 2.0 MB 9.9 MB/s eta 0:00:01\r\u001B[K     |████████████████████▌           | 2.0 MB 9.9 MB/s eta 0:00:01\r\u001B[K     |████████████████████▋           | 2.0 MB 9.9 MB/s eta 0:00:01\r\u001B[K     |████████████████████▊           | 2.1 MB 9.9 MB/s eta 0:00:01\r\u001B[K     |████████████████████▊           | 2.1 MB 9.9 MB/s eta 0:00:01\r\u001B[K     |████████████████████▉           | 2.1 MB 9.9 MB/s eta 0:00:01\r\u001B[K     |█████████████████████           | 2.1 MB 9.9 MB/s eta 0:00:01\r\u001B[K     |█████████████████████           | 2.1 MB 9.9 MB/s eta 0:00:01\r\u001B[K     |█████████████████████▏          | 2.1 MB 9.9 MB/s eta 0:00:01\r\u001B[K     |█████████████████████▎          | 2.1 MB 9.9 MB/s eta 0:00:01\r\u001B[K     |█████████████████████▍          | 2.1 MB 9.9 MB/s eta 0:00:01\r\u001B[K     |█████████████████████▌          | 2.1 MB 9.9 MB/s eta 0:00:01\r\u001B[K     |█████████████████████▋          | 2.2 MB 9.9 MB/s eta 0:00:01\r\u001B[K     |█████████████████████▊          | 2.2 MB 9.9 MB/s eta 0:00:01\r\u001B[K     |█████████████████████▉          | 2.2 MB 9.9 MB/s eta 0:00:01\r\u001B[K     |██████████████████████          | 2.2 MB 9.9 MB/s eta 0:00:01\r\u001B[K     |██████████████████████          | 2.2 MB 9.9 MB/s eta 0:00:01\r\u001B[K     |██████████████████████          | 2.2 MB 9.9 MB/s eta 0:00:01\r\u001B[K     |██████████████████████▏         | 2.2 MB 9.9 MB/s eta 0:00:01\r\u001B[K     |██████████████████████▎         | 2.2 MB 9.9 MB/s eta 0:00:01\r\u001B[K     |██████████████████████▍         | 2.2 MB 9.9 MB/s eta 0:00:01\r\u001B[K     |██████████████████████▌         | 2.2 MB 9.9 MB/s eta 0:00:01\r\u001B[K     |██████████████████████▋         | 2.3 MB 9.9 MB/s eta 0:00:01\r\u001B[K     |██████████████████████▊         | 2.3 MB 9.9 MB/s eta 0:00:01\r\u001B[K     |██████████████████████▉         | 2.3 MB 9.9 MB/s eta 0:00:01\r\u001B[K     |███████████████████████         | 2.3 MB 9.9 MB/s eta 0:00:01\r\u001B[K     |███████████████████████         | 2.3 MB 9.9 MB/s eta 0:00:01\r\u001B[K     |███████████████████████▏        | 2.3 MB 9.9 MB/s eta 0:00:01\r\u001B[K     |███████████████████████▎        | 2.3 MB 9.9 MB/s eta 0:00:01\r\u001B[K     |███████████████████████▍        | 2.3 MB 9.9 MB/s eta 0:00:01\r\u001B[K     |███████████████████████▌        | 2.3 MB 9.9 MB/s eta 0:00:01\r\u001B[K     |███████████████████████▌        | 2.3 MB 9.9 MB/s eta 0:00:01\r\u001B[K     |███████████████████████▋        | 2.4 MB 9.9 MB/s eta 0:00:01\r\u001B[K     |███████████████████████▊        | 2.4 MB 9.9 MB/s eta 0:00:01\r\u001B[K     |███████████████████████▉        | 2.4 MB 9.9 MB/s eta 0:00:01\r\u001B[K     |████████████████████████        | 2.4 MB 9.9 MB/s eta 0:00:01\r\u001B[K     |████████████████████████        | 2.4 MB 9.9 MB/s eta 0:00:01\r\u001B[K     |████████████████████████▏       | 2.4 MB 9.9 MB/s eta 0:00:01\r\u001B[K     |████████████████████████▎       | 2.4 MB 9.9 MB/s eta 0:00:01\r\u001B[K     |████████████████████████▍       | 2.4 MB 9.9 MB/s eta 0:00:01\r\u001B[K     |████████████████████████▌       | 2.4 MB 9.9 MB/s eta 0:00:01\r\u001B[K     |████████████████████████▋       | 2.4 MB 9.9 MB/s eta 0:00:01\r\u001B[K     |████████████████████████▊       | 2.5 MB 9.9 MB/s eta 0:00:01\r\u001B[K     |████████████████████████▉       | 2.5 MB 9.9 MB/s eta 0:00:01\r\u001B[K     |████████████████████████▉       | 2.5 MB 9.9 MB/s eta 0:00:01\r\u001B[K     |█████████████████████████       | 2.5 MB 9.9 MB/s eta 0:00:01\r\u001B[K     |█████████████████████████       | 2.5 MB 9.9 MB/s eta 0:00:01\r\u001B[K     |█████████████████████████▏      | 2.5 MB 9.9 MB/s eta 0:00:01\r\u001B[K     |█████████████████████████▎      | 2.5 MB 9.9 MB/s eta 0:00:01\r\u001B[K     |█████████████████████████▍      | 2.5 MB 9.9 MB/s eta 0:00:01\r\u001B[K     |█████████████████████████▌      | 2.5 MB 9.9 MB/s eta 0:00:01\r\u001B[K     |█████████████████████████▋      | 2.5 MB 9.9 MB/s eta 0:00:01\r\u001B[K     |█████████████████████████▊      | 2.6 MB 9.9 MB/s eta 0:00:01\r\u001B[K     |█████████████████████████▉      | 2.6 MB 9.9 MB/s eta 0:00:01\r\u001B[K     |██████████████████████████      | 2.6 MB 9.9 MB/s eta 0:00:01\r\u001B[K     |██████████████████████████      | 2.6 MB 9.9 MB/s eta 0:00:01\r\u001B[K     |██████████████████████████▏     | 2.6 MB 9.9 MB/s eta 0:00:01\r\u001B[K     |██████████████████████████▎     | 2.6 MB 9.9 MB/s eta 0:00:01\r\u001B[K     |██████████████████████████▎     | 2.6 MB 9.9 MB/s eta 0:00:01\r\u001B[K     |██████████████████████████▍     | 2.6 MB 9.9 MB/s eta 0:00:01\r\u001B[K     |██████████████████████████▌     | 2.6 MB 9.9 MB/s eta 0:00:01\r\u001B[K     |██████████████████████████▋     | 2.7 MB 9.9 MB/s eta 0:00:01\r\u001B[K     |██████████████████████████▊     | 2.7 MB 9.9 MB/s eta 0:00:01\r\u001B[K     |██████████████████████████▉     | 2.7 MB 9.9 MB/s eta 0:00:01\r\u001B[K     |███████████████████████████     | 2.7 MB 9.9 MB/s eta 0:00:01\r\u001B[K     |███████████████████████████     | 2.7 MB 9.9 MB/s eta 0:00:01\r\u001B[K     |███████████████████████████▏    | 2.7 MB 9.9 MB/s eta 0:00:01\r\u001B[K     |███████████████████████████▎    | 2.7 MB 9.9 MB/s eta 0:00:01\r\u001B[K     |███████████████████████████▍    | 2.7 MB 9.9 MB/s eta 0:00:01\r\u001B[K     |███████████████████████████▌    | 2.7 MB 9.9 MB/s eta 0:00:01\r\u001B[K     |███████████████████████████▋    | 2.7 MB 9.9 MB/s eta 0:00:01\r\u001B[K     |███████████████████████████▋    | 2.8 MB 9.9 MB/s eta 0:00:01\r\u001B[K     |███████████████████████████▊    | 2.8 MB 9.9 MB/s eta 0:00:01\r\u001B[K     |███████████████████████████▉    | 2.8 MB 9.9 MB/s eta 0:00:01\r\u001B[K     |████████████████████████████    | 2.8 MB 9.9 MB/s eta 0:00:01\r\u001B[K     |████████████████████████████    | 2.8 MB 9.9 MB/s eta 0:00:01\r\u001B[K     |████████████████████████████▏   | 2.8 MB 9.9 MB/s eta 0:00:01\r\u001B[K     |████████████████████████████▎   | 2.8 MB 9.9 MB/s eta 0:00:01\r\u001B[K     |████████████████████████████▍   | 2.8 MB 9.9 MB/s eta 0:00:01\r\u001B[K     |████████████████████████████▌   | 2.8 MB 9.9 MB/s eta 0:00:01\r\u001B[K     |████████████████████████████▋   | 2.8 MB 9.9 MB/s eta 0:00:01\r\u001B[K     |████████████████████████████▊   | 2.9 MB 9.9 MB/s eta 0:00:01\r\u001B[K     |████████████████████████████▉   | 2.9 MB 9.9 MB/s eta 0:00:01\r\u001B[K     |█████████████████████████████   | 2.9 MB 9.9 MB/s eta 0:00:01\r\u001B[K     |█████████████████████████████   | 2.9 MB 9.9 MB/s eta 0:00:01\r\u001B[K     |█████████████████████████████   | 2.9 MB 9.9 MB/s eta 0:00:01\r\u001B[K     |█████████████████████████████▏  | 2.9 MB 9.9 MB/s eta 0:00:01\r\u001B[K     |█████████████████████████████▎  | 2.9 MB 9.9 MB/s eta 0:00:01\r\u001B[K     |█████████████████████████████▍  | 2.9 MB 9.9 MB/s eta 0:00:01\r\u001B[K     |█████████████████████████████▌  | 2.9 MB 9.9 MB/s eta 0:00:01\r\u001B[K     |█████████████████████████████▋  | 2.9 MB 9.9 MB/s eta 0:00:01\r\u001B[K     |█████████████████████████████▊  | 3.0 MB 9.9 MB/s eta 0:00:01\r\u001B[K     |█████████████████████████████▉  | 3.0 MB 9.9 MB/s eta 0:00:01\r\u001B[K     |██████████████████████████████  | 3.0 MB 9.9 MB/s eta 0:00:01\r\u001B[K     |██████████████████████████████  | 3.0 MB 9.9 MB/s eta 0:00:01\r\u001B[K     |██████████████████████████████▏ | 3.0 MB 9.9 MB/s eta 0:00:01\r\u001B[K     |██████████████████████████████▎ | 3.0 MB 9.9 MB/s eta 0:00:01\r\u001B[K     |██████████████████████████████▍ | 3.0 MB 9.9 MB/s eta 0:00:01\r\u001B[K     |██████████████████████████████▍ | 3.0 MB 9.9 MB/s eta 0:00:01\r\u001B[K     |██████████████████████████████▌ | 3.0 MB 9.9 MB/s eta 0:00:01\r\u001B[K     |██████████████████████████████▋ | 3.1 MB 9.9 MB/s eta 0:00:01\r\u001B[K     |██████████████████████████████▊ | 3.1 MB 9.9 MB/s eta 0:00:01\r\u001B[K     |██████████████████████████████▉ | 3.1 MB 9.9 MB/s eta 0:00:01\r\u001B[K     |███████████████████████████████ | 3.1 MB 9.9 MB/s eta 0:00:01\r\u001B[K     |███████████████████████████████ | 3.1 MB 9.9 MB/s eta 0:00:01\r\u001B[K     |███████████████████████████████▏| 3.1 MB 9.9 MB/s eta 0:00:01\r\u001B[K     |███████████████████████████████▎| 3.1 MB 9.9 MB/s eta 0:00:01\r\u001B[K     |███████████████████████████████▍| 3.1 MB 9.9 MB/s eta 0:00:01\r\u001B[K     |███████████████████████████████▌| 3.1 MB 9.9 MB/s eta 0:00:01\r\u001B[K     |███████████████████████████████▋| 3.1 MB 9.9 MB/s eta 0:00:01\r\u001B[K     |███████████████████████████████▊| 3.2 MB 9.9 MB/s eta 0:00:01\r\u001B[K     |███████████████████████████████▊| 3.2 MB 9.9 MB/s eta 0:00:01\r\u001B[K     |███████████████████████████████▉| 3.2 MB 9.9 MB/s eta 0:00:01\r\u001B[K     |████████████████████████████████| 3.2 MB 9.9 MB/s eta 0:00:01\r\u001B[K     |████████████████████████████████| 3.2 MB 9.9 MB/s \r\n\u001B[?25hInstalling collected packages: yt-dlp\r\nSuccessfully installed yt-dlp-2025.2.19\r\n\u001B[33mWARNING: You are using pip version 21.2.4; however, version 25.0.1 is available.\r\nYou should consider upgrading via the '/local_disk0/.ephemeral_nfs/envs/pythonEnv-914c8e23-4abc-4a69-b329-c3fec706d77d/bin/python -m pip install --upgrade pip' command.\u001B[0m\r\n"
     ]
    }
   ],
   "source": [
    "!pip install librosa\n",
    "!pip install yt-dlp"
   ]
  },
  {
   "cell_type": "markdown",
   "metadata": {
    "application/vnd.databricks.v1+cell": {
     "cellMetadata": {},
     "inputWidgets": {},
     "nuid": "aeecf8a0-c083-4a7e-a4a7-a8344bed4140",
     "showTitle": false,
     "tableResultSettingsMap": {},
     "title": ""
    }
   },
   "source": [
    "### Create Spark Session"
   ]
  },
  {
   "cell_type": "code",
   "execution_count": 0,
   "metadata": {
    "application/vnd.databricks.v1+cell": {
     "cellMetadata": {
      "byteLimit": 2048000,
      "rowLimit": 10000
     },
     "inputWidgets": {},
     "nuid": "7f313205-23aa-4ff7-8b00-e108421a2e14",
     "showTitle": false,
     "tableResultSettingsMap": {},
     "title": ""
    }
   },
   "outputs": [],
   "source": [
    "from pyspark.sql import SparkSession\n",
    "\n",
    "spark = SparkSession.builder.appName(\"ClipFingerprinting\").getOrCreate()"
   ]
  },
  {
   "cell_type": "markdown",
   "metadata": {
    "application/vnd.databricks.v1+cell": {
     "cellMetadata": {},
     "inputWidgets": {},
     "nuid": "cf3e7dcb-307e-49cd-9b0a-5a342c5495d0",
     "showTitle": false,
     "tableResultSettingsMap": {},
     "title": ""
    }
   },
   "source": [
    "### UDF Functions"
   ]
  },
  {
   "cell_type": "code",
   "execution_count": 0,
   "metadata": {
    "application/vnd.databricks.v1+cell": {
     "cellMetadata": {
      "byteLimit": 2048000,
      "rowLimit": 10000
     },
     "inputWidgets": {},
     "nuid": "ed15b320-b0ea-4e1e-aa65-0b55c280bfa7",
     "showTitle": false,
     "tableResultSettingsMap": {},
     "title": ""
    }
   },
   "outputs": [
    {
     "output_type": "display_data",
     "data": {
      "application/vnd.databricks.v1+bamboolib_hint": "{\"pd.DataFrames\": [], \"version\": \"0.0.1\"}",
      "text/plain": []
     },
     "metadata": {},
     "output_type": "display_data"
    }
   ],
   "source": [
    "import os\n",
    "import librosa\n",
    "import numpy as np\n",
    "import soundfile as sf\n",
    "import hashlib\n",
    "import pandas as pd\n",
    "import yt_dlp\n",
    "\n",
    "# Paths\n",
    "download_path = \"/dbfs/FileStore/staging/clips/\"\n",
    "fingerprint_csv_path = \"/dbfs/FileStore/staging/fingerprint_clips/\"\n",
    "\n",
    "# Ensure folders exist\n",
    "os.makedirs(download_path, exist_ok=True)\n",
    "os.makedirs(fingerprint_csv_path, exist_ok=True)"
   ]
  },
  {
   "cell_type": "markdown",
   "metadata": {
    "application/vnd.databricks.v1+cell": {
     "cellMetadata": {},
     "inputWidgets": {},
     "nuid": "0d76125e-f0fc-4d1c-a134-a4db1286a0a8",
     "showTitle": false,
     "tableResultSettingsMap": {},
     "title": ""
    }
   },
   "source": [
    "Download Song Function"
   ]
  },
  {
   "cell_type": "code",
   "execution_count": 0,
   "metadata": {
    "application/vnd.databricks.v1+cell": {
     "cellMetadata": {},
     "inputWidgets": {},
     "nuid": "4c2df3f4-dafa-44cb-96d6-16b9f3cde1b2",
     "showTitle": false,
     "tableResultSettingsMap": {},
     "title": ""
    }
   },
   "outputs": [],
   "source": [
    "def download_mp3_clip(song_name, download_folder=download_path):\n",
    "    try:\n",
    "        ydl_opts = {\n",
    "            'format': 'bestaudio/best',\n",
    "            'default_search': 'ytsearch1',\n",
    "            'noplaylist': True,\n",
    "            'outtmpl': f'{download_folder}/%(title)s.%(ext)s',\n",
    "            'postprocessors': [{\n",
    "                'key': 'FFmpegExtractAudio',\n",
    "                'preferredcodec': 'mp3',\n",
    "                'preferredquality': '192',\n",
    "            }],\n",
    "            'quiet': False\n",
    "        }\n",
    "\n",
    "        with yt_dlp.YoutubeDL(ydl_opts) as ydl:\n",
    "            info = ydl.extract_info(song_name, download=True)\n",
    "            filename = ydl.prepare_filename(info).replace(\".webm\", \".mp3\")\n",
    "            print(f\"Downloaded: {filename}\")\n",
    "            return filename\n",
    "    except Exception as e:\n",
    "        print(f\"Download error: {e}\")\n",
    "        return None"
   ]
  },
  {
   "cell_type": "markdown",
   "metadata": {
    "application/vnd.databricks.v1+cell": {
     "cellMetadata": {},
     "inputWidgets": {},
     "nuid": "233cc159-c496-4fb2-8ca4-4c3551681a0a",
     "showTitle": false,
     "tableResultSettingsMap": {},
     "title": ""
    }
   },
   "source": [
    "Extract Clip Function"
   ]
  },
  {
   "cell_type": "code",
   "execution_count": 0,
   "metadata": {
    "application/vnd.databricks.v1+cell": {
     "cellMetadata": {},
     "inputWidgets": {},
     "nuid": "8a3f45bb-0193-4194-8841-6668ca7bedfa",
     "showTitle": false,
     "tableResultSettingsMap": {},
     "title": ""
    }
   },
   "outputs": [],
   "source": [
    "import soundfile as sf\n",
    "\n",
    "def extract_clip(input_mp3_path, output_clip_path, start_time=10, duration=10):\n",
    "    try:\n",
    "        y, sr = librosa.load(input_mp3_path, sr=44100, offset=start_time, duration=duration)\n",
    "        sf.write(output_clip_path, y, sr)\n",
    "        print(f\"Clip saved: {output_clip_path}\")\n",
    "        return output_clip_path\n",
    "    except Exception as e:\n",
    "        print(f\"Clip extraction error: {e}\")\n",
    "        return None"
   ]
  },
  {
   "cell_type": "markdown",
   "metadata": {
    "application/vnd.databricks.v1+cell": {
     "cellMetadata": {},
     "inputWidgets": {},
     "nuid": "3e606bea-380d-4671-ab7d-05fbde923fc8",
     "showTitle": false,
     "tableResultSettingsMap": {},
     "title": ""
    }
   },
   "source": [
    "Generate Flattened Fingerprint Function"
   ]
  },
  {
   "cell_type": "code",
   "execution_count": 0,
   "metadata": {
    "application/vnd.databricks.v1+cell": {
     "cellMetadata": {},
     "inputWidgets": {},
     "nuid": "d9320d68-3636-4b31-831d-1a7608b54d7b",
     "showTitle": false,
     "tableResultSettingsMap": {},
     "title": ""
    }
   },
   "outputs": [],
   "source": [
    "def generate_flattened_fingerprint(clip_path):\n",
    "    try:\n",
    "        y, sr = librosa.load(clip_path, sr=44100)\n",
    "        D = librosa.amplitude_to_db(np.abs(librosa.stft(y)), ref=np.max)\n",
    "        peaks = np.argwhere(D > np.percentile(D, 95))  # freq_bin, time_bin\n",
    "\n",
    "        flattened = [{\"filename\": os.path.basename(clip_path), \"freq_bin\": int(f), \"time_bin\": int(t)} for f, t in peaks]\n",
    "        return flattened\n",
    "    except Exception as e:\n",
    "        print(f\"Fingerprint error: {e}\")\n",
    "        return []"
   ]
  },
  {
   "cell_type": "markdown",
   "metadata": {
    "application/vnd.databricks.v1+cell": {
     "cellMetadata": {},
     "inputWidgets": {},
     "nuid": "23f8e3e6-428f-484d-81e2-71f2cbea4406",
     "showTitle": false,
     "tableResultSettingsMap": {},
     "title": ""
    }
   },
   "source": [
    "Hashing Function"
   ]
  },
  {
   "cell_type": "code",
   "execution_count": 0,
   "metadata": {
    "application/vnd.databricks.v1+cell": {
     "cellMetadata": {},
     "inputWidgets": {},
     "nuid": "c9fb73d1-0f26-41c2-bc2c-c10051ada08d",
     "showTitle": false,
     "tableResultSettingsMap": {},
     "title": ""
    }
   },
   "outputs": [],
   "source": [
    "def hash_fingerprints(flattened_fingerprint):\n",
    "    hashed = []\n",
    "    for row in flattened_fingerprint:\n",
    "        hash_input = f\"{row['freq_bin']}_{row['time_bin']}\"\n",
    "        row[\"fingerprint_hash\"] = hashlib.sha256(hash_input.encode()).hexdigest()\n",
    "        hashed.append(row)\n",
    "    return hashed"
   ]
  },
  {
   "cell_type": "markdown",
   "metadata": {
    "application/vnd.databricks.v1+cell": {
     "cellMetadata": {},
     "inputWidgets": {},
     "nuid": "95542b16-b57e-42f8-8c04-cefb6622c86e",
     "showTitle": false,
     "tableResultSettingsMap": {},
     "title": ""
    }
   },
   "source": [
    "Generate Hashed Fingerprint for Clip"
   ]
  },
  {
   "cell_type": "code",
   "execution_count": 0,
   "metadata": {
    "application/vnd.databricks.v1+cell": {
     "cellMetadata": {},
     "inputWidgets": {},
     "nuid": "d88a6ccf-2879-494c-a8d3-baf02ac1e787",
     "showTitle": false,
     "tableResultSettingsMap": {},
     "title": ""
    }
   },
   "outputs": [],
   "source": [
    "# Song to test\n",
    "test_song = \"Luther Kendrick Lamar & SZA\"\n",
    "\n",
    "# 1. Download MP3\n",
    "downloaded_mp3 = download_mp3_clip(test_song)\n",
    "\n",
    "# 2. Extract 10–20s clip\n",
    "if downloaded_mp3:\n",
    "    clip_path = os.path.join(download_path, f\"clip_{os.path.basename(downloaded_mp3).replace('.mp3', '.wav')}\")\n",
    "    clip_file = extract_clip(downloaded_mp3, clip_path)\n",
    "\n",
    "    # 3. Fingerprint + hash\n",
    "    if clip_file:\n",
    "        flattened = generate_flattened_fingerprint(clip_file)\n",
    "        hashed = hash_fingerprints(flattened)\n",
    "\n",
    "        # 4. Save to CSV\n",
    "        if hashed:\n",
    "            df = pd.DataFrame(hashed)\n",
    "            output_csv = os.path.join(fingerprint_csv_path, f\"{os.path.basename(clip_file).replace('.wav', '_hashed.csv')}\")\n",
    "            df.to_csv(output_csv, index=False)\n",
    "            print(f\"Hashed fingerprint CSV saved: {output_csv}\")"
   ]
  },
  {
   "cell_type": "markdown",
   "metadata": {
    "application/vnd.databricks.v1+cell": {
     "cellMetadata": {},
     "inputWidgets": {},
     "nuid": "929fa680-06dd-43fd-b731-9ab1ab0bb00c",
     "showTitle": false,
     "tableResultSettingsMap": {},
     "title": ""
    }
   },
   "source": [
    "\n",
    "### Clip Audio Processing"
   ]
  },
  {
   "cell_type": "code",
   "execution_count": 0,
   "metadata": {
    "application/vnd.databricks.v1+cell": {
     "cellMetadata": {
      "byteLimit": 2048000,
      "rowLimit": 10000
     },
     "inputWidgets": {},
     "nuid": "44b5f510-c84f-4f3f-b36d-be872b759f9e",
     "showTitle": false,
     "tableResultSettingsMap": {},
     "title": ""
    }
   },
   "outputs": [
    {
     "output_type": "stream",
     "name": "stdout",
     "output_type": "stream",
     "text": [
      "+--------------------------------------------------------------+-----+-----+----------+-----------+\n|filename                                                      |freq1|freq2|delta_time|anchor_time|\n+--------------------------------------------------------------+-----+-----+----------+-----------+\n|clip_Chappell Roan - Pink Pony Club (Official Music Video).mp3|9    |14   |28        |56         |\n|clip_Chappell Roan - Pink Pony Club (Official Music Video).mp3|20   |20   |25        |683        |\n|clip_Chappell Roan - Pink Pony Club (Official Music Video).mp3|20   |21   |45        |708        |\n|clip_Chappell Roan - Pink Pony Club (Official Music Video).mp3|20   |21   |14        |783        |\n|clip_Chappell Roan - Pink Pony Club (Official Music Video).mp3|21   |21   |44        |753        |\n+--------------------------------------------------------------+-----+-----+----------+-----------+\n\n"
     ]
    }
   ],
   "source": [
    "clip_csv_path = \"dbfs:/FileStore/staging/fingerprint_clips/\"\n",
    "\n",
    "df_fingerprints = spark.read.option(\"header\", True).option(\"inferSchema\", True).csv(clip_csv_path)\n",
    "\n",
    "df_fingerprints.limit(5).show(truncate=False)"
   ]
  },
  {
   "cell_type": "code",
   "execution_count": 0,
   "metadata": {
    "application/vnd.databricks.v1+cell": {
     "cellMetadata": {
      "byteLimit": 2048000,
      "rowLimit": 10000
     },
     "inputWidgets": {},
     "nuid": "bec130ba-8223-495c-939b-0234cef675b6",
     "showTitle": false,
     "tableResultSettingsMap": {},
     "title": ""
    }
   },
   "outputs": [
    {
     "output_type": "display_data",
     "data": {
      "text/html": [
       "<div>\n",
       "<style scoped>\n",
       "    .dataframe tbody tr th:only-of-type {\n",
       "        vertical-align: middle;\n",
       "    }\n",
       "\n",
       "    .dataframe tbody tr th {\n",
       "        vertical-align: top;\n",
       "    }\n",
       "\n",
       "    .dataframe thead th {\n",
       "        text-align: right;\n",
       "    }\n",
       "</style>\n",
       "<table border=\"1\" class=\"dataframe\">\n",
       "  <thead>\n",
       "    <tr style=\"text-align: right;\">\n",
       "      <th></th>\n",
       "      <th>filename</th>\n",
       "      <th>freq1</th>\n",
       "      <th>freq2</th>\n",
       "      <th>delta_time</th>\n",
       "      <th>fingerprint_hash</th>\n",
       "    </tr>\n",
       "  </thead>\n",
       "  <tbody>\n",
       "    <tr>\n",
       "      <th>0</th>\n",
       "      <td>clip_Chappell Roan - Pink Pony Club (Official ...</td>\n",
       "      <td>9</td>\n",
       "      <td>14</td>\n",
       "      <td>28</td>\n",
       "      <td>f7246d3b826462c93db1860fd706f75f066a21316fce56...</td>\n",
       "    </tr>\n",
       "    <tr>\n",
       "      <th>1</th>\n",
       "      <td>clip_Chappell Roan - Pink Pony Club (Official ...</td>\n",
       "      <td>20</td>\n",
       "      <td>20</td>\n",
       "      <td>25</td>\n",
       "      <td>00cdcdb6744f4f6e3db399368a10aceb51c3fba7b595e1...</td>\n",
       "    </tr>\n",
       "    <tr>\n",
       "      <th>2</th>\n",
       "      <td>clip_Chappell Roan - Pink Pony Club (Official ...</td>\n",
       "      <td>20</td>\n",
       "      <td>21</td>\n",
       "      <td>45</td>\n",
       "      <td>c0ebfa75580f31462de7e26b394189e2b5fc82eafce0dd...</td>\n",
       "    </tr>\n",
       "    <tr>\n",
       "      <th>3</th>\n",
       "      <td>clip_Chappell Roan - Pink Pony Club (Official ...</td>\n",
       "      <td>20</td>\n",
       "      <td>21</td>\n",
       "      <td>14</td>\n",
       "      <td>3e3186a31146bf6eed2e85c4fb00108e84bbed13682226...</td>\n",
       "    </tr>\n",
       "    <tr>\n",
       "      <th>4</th>\n",
       "      <td>clip_Chappell Roan - Pink Pony Club (Official ...</td>\n",
       "      <td>21</td>\n",
       "      <td>21</td>\n",
       "      <td>44</td>\n",
       "      <td>af4f991bff4d9467898191363ee456a5781003ad990edb...</td>\n",
       "    </tr>\n",
       "  </tbody>\n",
       "</table>\n",
       "</div>"
      ]
     },
     "metadata": {
      "application/vnd.databricks.v1+output": {
       "addedWidgets": {},
       "arguments": {},
       "data": "<div>\n<style scoped>\n    .dataframe tbody tr th:only-of-type {\n        vertical-align: middle;\n    }\n\n    .dataframe tbody tr th {\n        vertical-align: top;\n    }\n\n    .dataframe thead th {\n        text-align: right;\n    }\n</style>\n<table border=\"1\" class=\"dataframe\">\n  <thead>\n    <tr style=\"text-align: right;\">\n      <th></th>\n      <th>filename</th>\n      <th>freq1</th>\n      <th>freq2</th>\n      <th>delta_time</th>\n      <th>fingerprint_hash</th>\n    </tr>\n  </thead>\n  <tbody>\n    <tr>\n      <th>0</th>\n      <td>clip_Chappell Roan - Pink Pony Club (Official ...</td>\n      <td>9</td>\n      <td>14</td>\n      <td>28</td>\n      <td>f7246d3b826462c93db1860fd706f75f066a21316fce56...</td>\n    </tr>\n    <tr>\n      <th>1</th>\n      <td>clip_Chappell Roan - Pink Pony Club (Official ...</td>\n      <td>20</td>\n      <td>20</td>\n      <td>25</td>\n      <td>00cdcdb6744f4f6e3db399368a10aceb51c3fba7b595e1...</td>\n    </tr>\n    <tr>\n      <th>2</th>\n      <td>clip_Chappell Roan - Pink Pony Club (Official ...</td>\n      <td>20</td>\n      <td>21</td>\n      <td>45</td>\n      <td>c0ebfa75580f31462de7e26b394189e2b5fc82eafce0dd...</td>\n    </tr>\n    <tr>\n      <th>3</th>\n      <td>clip_Chappell Roan - Pink Pony Club (Official ...</td>\n      <td>20</td>\n      <td>21</td>\n      <td>14</td>\n      <td>3e3186a31146bf6eed2e85c4fb00108e84bbed13682226...</td>\n    </tr>\n    <tr>\n      <th>4</th>\n      <td>clip_Chappell Roan - Pink Pony Club (Official ...</td>\n      <td>21</td>\n      <td>21</td>\n      <td>44</td>\n      <td>af4f991bff4d9467898191363ee456a5781003ad990edb...</td>\n    </tr>\n  </tbody>\n</table>\n</div>",
       "datasetInfos": [],
       "metadata": {},
       "removedWidgets": [],
       "textData": null,
       "type": "htmlSandbox"
      }
     },
     "output_type": "display_data"
    }
   ],
   "source": [
    "from pyspark.sql.functions import sha2, concat_ws\n",
    "\n",
    "# Concatenate fingerprint columns into a string\n",
    "df_hashed = df_fingerprints.withColumn(\"fingerprint_string\", concat_ws(\"-\", \"freq1\", \"freq2\", \"delta_time\"))\n",
    "\n",
    "# Apply SHA256 hashing\n",
    "df_hashed = df_hashed.withColumn(\"fingerprint_hash\", sha2(\"fingerprint_string\", 256))\n",
    "\n",
    "# Drop unnecessary columns if needed\n",
    "df_final = df_hashed.select(\"filename\", \"freq1\", \"freq2\", \"delta_time\", \"fingerprint_hash\")\n",
    "\n",
    "# Show result\n",
    "df_final.limit(5).toPandas()"
   ]
  },
  {
   "cell_type": "code",
   "execution_count": 0,
   "metadata": {
    "application/vnd.databricks.v1+cell": {
     "cellMetadata": {
      "byteLimit": 2048000,
      "rowLimit": 10000
     },
     "inputWidgets": {},
     "nuid": "d356d60c-466a-4b8d-933e-0ff3aa40a40a",
     "showTitle": false,
     "tableResultSettingsMap": {},
     "title": ""
    }
   },
   "outputs": [],
   "source": [
    "df_final.write.mode(\"overwrite\").parquet(\"dbfs:/FileStore/staging/fingerprint_hashes_flattened/\")"
   ]
  },
  {
   "cell_type": "markdown",
   "metadata": {
    "application/vnd.databricks.v1+cell": {
     "cellMetadata": {},
     "inputWidgets": {},
     "nuid": "30be36b8-402d-4df3-bfdc-3e2aedcdf018",
     "showTitle": false,
     "tableResultSettingsMap": {},
     "title": ""
    }
   },
   "source": [
    "### Shazam Song Matching"
   ]
  },
  {
   "cell_type": "code",
   "execution_count": 0,
   "metadata": {
    "application/vnd.databricks.v1+cell": {
     "cellMetadata": {
      "byteLimit": 2048000,
      "rowLimit": 10000
     },
     "inputWidgets": {},
     "nuid": "791f426b-1a4d-4d6a-acda-cf70a00f8475",
     "showTitle": false,
     "tableResultSettingsMap": {},
     "title": ""
    }
   },
   "outputs": [
    {
     "output_type": "display_data",
     "data": {
      "text/html": [
       "<div>\n",
       "<style scoped>\n",
       "    .dataframe tbody tr th:only-of-type {\n",
       "        vertical-align: middle;\n",
       "    }\n",
       "\n",
       "    .dataframe tbody tr th {\n",
       "        vertical-align: top;\n",
       "    }\n",
       "\n",
       "    .dataframe thead th {\n",
       "        text-align: right;\n",
       "    }\n",
       "</style>\n",
       "<table border=\"1\" class=\"dataframe\">\n",
       "  <thead>\n",
       "    <tr style=\"text-align: right;\">\n",
       "      <th></th>\n",
       "      <th>filename</th>\n",
       "      <th>freq1</th>\n",
       "      <th>freq2</th>\n",
       "      <th>delta_time</th>\n",
       "      <th>fingerprint_hash</th>\n",
       "    </tr>\n",
       "  </thead>\n",
       "  <tbody>\n",
       "    <tr>\n",
       "      <th>0</th>\n",
       "      <td>clip_Chappell Roan - Pink Pony Club (Official Music Video).mp3</td>\n",
       "      <td>9</td>\n",
       "      <td>14</td>\n",
       "      <td>28</td>\n",
       "      <td>f7246d3b826462c93db1860fd706f75f066a21316fce56404556cec7323f937c</td>\n",
       "    </tr>\n",
       "    <tr>\n",
       "      <th>1</th>\n",
       "      <td>clip_Chappell Roan - Pink Pony Club (Official Music Video).mp3</td>\n",
       "      <td>20</td>\n",
       "      <td>20</td>\n",
       "      <td>25</td>\n",
       "      <td>00cdcdb6744f4f6e3db399368a10aceb51c3fba7b595e100c1199a29ba46fed0</td>\n",
       "    </tr>\n",
       "    <tr>\n",
       "      <th>2</th>\n",
       "      <td>clip_Chappell Roan - Pink Pony Club (Official Music Video).mp3</td>\n",
       "      <td>20</td>\n",
       "      <td>21</td>\n",
       "      <td>45</td>\n",
       "      <td>c0ebfa75580f31462de7e26b394189e2b5fc82eafce0dd957c0b0f17648dad87</td>\n",
       "    </tr>\n",
       "    <tr>\n",
       "      <th>3</th>\n",
       "      <td>clip_Chappell Roan - Pink Pony Club (Official Music Video).mp3</td>\n",
       "      <td>20</td>\n",
       "      <td>21</td>\n",
       "      <td>14</td>\n",
       "      <td>3e3186a31146bf6eed2e85c4fb00108e84bbed136822261bf4853eb7c3961cf4</td>\n",
       "    </tr>\n",
       "    <tr>\n",
       "      <th>4</th>\n",
       "      <td>clip_Chappell Roan - Pink Pony Club (Official Music Video).mp3</td>\n",
       "      <td>21</td>\n",
       "      <td>21</td>\n",
       "      <td>44</td>\n",
       "      <td>af4f991bff4d9467898191363ee456a5781003ad990edba99d516082f1d37b6b</td>\n",
       "    </tr>\n",
       "  </tbody>\n",
       "</table>\n",
       "</div>"
      ]
     },
     "metadata": {
      "application/vnd.databricks.v1+output": {
       "addedWidgets": {},
       "arguments": {},
       "data": "<div>\n<style scoped>\n    .dataframe tbody tr th:only-of-type {\n        vertical-align: middle;\n    }\n\n    .dataframe tbody tr th {\n        vertical-align: top;\n    }\n\n    .dataframe thead th {\n        text-align: right;\n    }\n</style>\n<table border=\"1\" class=\"dataframe\">\n  <thead>\n    <tr style=\"text-align: right;\">\n      <th></th>\n      <th>filename</th>\n      <th>freq1</th>\n      <th>freq2</th>\n      <th>delta_time</th>\n      <th>fingerprint_hash</th>\n    </tr>\n  </thead>\n  <tbody>\n    <tr>\n      <th>0</th>\n      <td>clip_Chappell Roan - Pink Pony Club (Official Music Video).mp3</td>\n      <td>9</td>\n      <td>14</td>\n      <td>28</td>\n      <td>f7246d3b826462c93db1860fd706f75f066a21316fce56404556cec7323f937c</td>\n    </tr>\n    <tr>\n      <th>1</th>\n      <td>clip_Chappell Roan - Pink Pony Club (Official Music Video).mp3</td>\n      <td>20</td>\n      <td>20</td>\n      <td>25</td>\n      <td>00cdcdb6744f4f6e3db399368a10aceb51c3fba7b595e100c1199a29ba46fed0</td>\n    </tr>\n    <tr>\n      <th>2</th>\n      <td>clip_Chappell Roan - Pink Pony Club (Official Music Video).mp3</td>\n      <td>20</td>\n      <td>21</td>\n      <td>45</td>\n      <td>c0ebfa75580f31462de7e26b394189e2b5fc82eafce0dd957c0b0f17648dad87</td>\n    </tr>\n    <tr>\n      <th>3</th>\n      <td>clip_Chappell Roan - Pink Pony Club (Official Music Video).mp3</td>\n      <td>20</td>\n      <td>21</td>\n      <td>14</td>\n      <td>3e3186a31146bf6eed2e85c4fb00108e84bbed136822261bf4853eb7c3961cf4</td>\n    </tr>\n    <tr>\n      <th>4</th>\n      <td>clip_Chappell Roan - Pink Pony Club (Official Music Video).mp3</td>\n      <td>21</td>\n      <td>21</td>\n      <td>44</td>\n      <td>af4f991bff4d9467898191363ee456a5781003ad990edba99d516082f1d37b6b</td>\n    </tr>\n  </tbody>\n</table>\n</div>",
       "datasetInfos": [],
       "metadata": {},
       "removedWidgets": [],
       "textData": null,
       "type": "htmlSandbox"
      }
     },
     "output_type": "display_data"
    }
   ],
   "source": [
    "clips = spark.read.parquet(\"dbfs:/FileStore/staging/fingerprint_hashes_flattened/\")\n",
    "\n",
    "# column_mapping = {\n",
    "#     \"filename\": \"song_name\",\n",
    "#     \"fingerprint_hash\": \"audio_fingerprint\",\n",
    "#     \"freq1\": \"anchor_freq\",\n",
    "#     \"freq2\": \"target_freq\",\n",
    "#     \"delta_time\": \"time_diff\",\n",
    "#     \"anchor_time\": \"time_position\"\n",
    "# }\n",
    "\n",
    "# for old_name, new_name in column_mapping.items():\n",
    "#     clips = df_spark.withColumnRenamed(old_name, new_name)\n",
    "\n",
    "# df_spark.show()\n",
    "\n",
    "\n",
    "clips.limit(5).toPandas()"
   ]
  },
  {
   "cell_type": "code",
   "execution_count": 0,
   "metadata": {
    "application/vnd.databricks.v1+cell": {
     "cellMetadata": {
      "byteLimit": 2048000,
      "rowLimit": 10000
     },
     "inputWidgets": {},
     "nuid": "497aba08-0570-4b2b-8f35-8666066e2201",
     "showTitle": false,
     "tableResultSettingsMap": {},
     "title": ""
    }
   },
   "outputs": [
    {
     "output_type": "display_data",
     "data": {
      "text/html": [
       "<div>\n",
       "<style scoped>\n",
       "    .dataframe tbody tr th:only-of-type {\n",
       "        vertical-align: middle;\n",
       "    }\n",
       "\n",
       "    .dataframe tbody tr th {\n",
       "        vertical-align: top;\n",
       "    }\n",
       "\n",
       "    .dataframe thead th {\n",
       "        text-align: right;\n",
       "    }\n",
       "</style>\n",
       "<table border=\"1\" class=\"dataframe\">\n",
       "  <thead>\n",
       "    <tr style=\"text-align: right;\">\n",
       "      <th></th>\n",
       "      <th>filename</th>\n",
       "      <th>count</th>\n",
       "    </tr>\n",
       "  </thead>\n",
       "  <tbody>\n",
       "    <tr>\n",
       "      <th>0</th>\n",
       "      <td>clip_ROSÉ &amp; Bruno Mars - APT. (Official Music Video).mp3</td>\n",
       "      <td>266</td>\n",
       "    </tr>\n",
       "    <tr>\n",
       "      <th>1</th>\n",
       "      <td>clip_Kendrick Lamar - tv off (Official Audio).mp3</td>\n",
       "      <td>183</td>\n",
       "    </tr>\n",
       "    <tr>\n",
       "      <th>2</th>\n",
       "      <td>clip_Lady Gaga, Bruno Mars - Die With A Smile (Official Music Video).mp3</td>\n",
       "      <td>151</td>\n",
       "    </tr>\n",
       "    <tr>\n",
       "      <th>3</th>\n",
       "      <td>clip_PARTYNEXTDOOR &amp; DRAKE - NOKIA (Official Lyric Video).mp3</td>\n",
       "      <td>149</td>\n",
       "    </tr>\n",
       "    <tr>\n",
       "      <th>4</th>\n",
       "      <td>clip_Kendrick Lamar - Not Like Us.mp3</td>\n",
       "      <td>128</td>\n",
       "    </tr>\n",
       "    <tr>\n",
       "      <th>5</th>\n",
       "      <td>clip_Teddy Swims - Lose Control (The Village Sessions).mp3</td>\n",
       "      <td>118</td>\n",
       "    </tr>\n",
       "    <tr>\n",
       "      <th>6</th>\n",
       "      <td>clip_Kendrick Lamar - luther (Official Audio).mp3</td>\n",
       "      <td>105</td>\n",
       "    </tr>\n",
       "    <tr>\n",
       "      <th>7</th>\n",
       "      <td>clip_Chappell Roan - Pink Pony Club (Official Music Video).mp3</td>\n",
       "      <td>76</td>\n",
       "    </tr>\n",
       "    <tr>\n",
       "      <th>8</th>\n",
       "      <td>clip_Shaboozey - A Bar Song (Tipsy) [Official Visualizer].mp3</td>\n",
       "      <td>73</td>\n",
       "    </tr>\n",
       "  </tbody>\n",
       "</table>\n",
       "</div>"
      ]
     },
     "metadata": {
      "application/vnd.databricks.v1+output": {
       "addedWidgets": {},
       "arguments": {},
       "data": "<div>\n<style scoped>\n    .dataframe tbody tr th:only-of-type {\n        vertical-align: middle;\n    }\n\n    .dataframe tbody tr th {\n        vertical-align: top;\n    }\n\n    .dataframe thead th {\n        text-align: right;\n    }\n</style>\n<table border=\"1\" class=\"dataframe\">\n  <thead>\n    <tr style=\"text-align: right;\">\n      <th></th>\n      <th>filename</th>\n      <th>count</th>\n    </tr>\n  </thead>\n  <tbody>\n    <tr>\n      <th>0</th>\n      <td>clip_ROSÉ &amp; Bruno Mars - APT. (Official Music Video).mp3</td>\n      <td>266</td>\n    </tr>\n    <tr>\n      <th>1</th>\n      <td>clip_Kendrick Lamar - tv off (Official Audio).mp3</td>\n      <td>183</td>\n    </tr>\n    <tr>\n      <th>2</th>\n      <td>clip_Lady Gaga, Bruno Mars - Die With A Smile (Official Music Video).mp3</td>\n      <td>151</td>\n    </tr>\n    <tr>\n      <th>3</th>\n      <td>clip_PARTYNEXTDOOR &amp; DRAKE - NOKIA (Official Lyric Video).mp3</td>\n      <td>149</td>\n    </tr>\n    <tr>\n      <th>4</th>\n      <td>clip_Kendrick Lamar - Not Like Us.mp3</td>\n      <td>128</td>\n    </tr>\n    <tr>\n      <th>5</th>\n      <td>clip_Teddy Swims - Lose Control (The Village Sessions).mp3</td>\n      <td>118</td>\n    </tr>\n    <tr>\n      <th>6</th>\n      <td>clip_Kendrick Lamar - luther (Official Audio).mp3</td>\n      <td>105</td>\n    </tr>\n    <tr>\n      <th>7</th>\n      <td>clip_Chappell Roan - Pink Pony Club (Official Music Video).mp3</td>\n      <td>76</td>\n    </tr>\n    <tr>\n      <th>8</th>\n      <td>clip_Shaboozey - A Bar Song (Tipsy) [Official Visualizer].mp3</td>\n      <td>73</td>\n    </tr>\n  </tbody>\n</table>\n</div>",
       "datasetInfos": [],
       "metadata": {},
       "removedWidgets": [],
       "textData": null,
       "type": "htmlSandbox"
      }
     },
     "output_type": "display_data"
    }
   ],
   "source": [
    "pd.set_option('display.max_colwidth', None)\n",
    "clips.groupBy(\"filename\").count().orderBy(\"count\", ascending=False).toPandas()"
   ]
  },
  {
   "cell_type": "code",
   "execution_count": 0,
   "metadata": {
    "application/vnd.databricks.v1+cell": {
     "cellMetadata": {
      "byteLimit": 2048000,
      "rowLimit": 10000
     },
     "inputWidgets": {},
     "nuid": "9eaf9007-69b3-4279-9009-e841d445931f",
     "showTitle": false,
     "tableResultSettingsMap": {},
     "title": ""
    }
   },
   "outputs": [
    {
     "output_type": "display_data",
     "data": {
      "text/html": [
       "<div>\n",
       "<style scoped>\n",
       "    .dataframe tbody tr th:only-of-type {\n",
       "        vertical-align: middle;\n",
       "    }\n",
       "\n",
       "    .dataframe tbody tr th {\n",
       "        vertical-align: top;\n",
       "    }\n",
       "\n",
       "    .dataframe thead th {\n",
       "        text-align: right;\n",
       "    }\n",
       "</style>\n",
       "<table border=\"1\" class=\"dataframe\">\n",
       "  <thead>\n",
       "    <tr style=\"text-align: right;\">\n",
       "      <th></th>\n",
       "      <th>filename</th>\n",
       "      <th>freq1</th>\n",
       "      <th>freq2</th>\n",
       "      <th>delta_time</th>\n",
       "      <th>fingerprint_hash</th>\n",
       "    </tr>\n",
       "  </thead>\n",
       "  <tbody>\n",
       "    <tr>\n",
       "      <th>0</th>\n",
       "      <td>Billie Eilish - BIRDS OF A FEATHER (Official Music Video).mp3</td>\n",
       "      <td>3</td>\n",
       "      <td>3</td>\n",
       "      <td>21</td>\n",
       "      <td>ad4de2b3fc8d1f2eff326adfad54f125974baeb8cb8371675c25657bb9d11df0</td>\n",
       "    </tr>\n",
       "    <tr>\n",
       "      <th>1</th>\n",
       "      <td>Billie Eilish - BIRDS OF A FEATHER (Official Music Video).mp3</td>\n",
       "      <td>3</td>\n",
       "      <td>3</td>\n",
       "      <td>20</td>\n",
       "      <td>a7d3bfa0105bd7417c6fd6fdf3112fcabff51053116f52c20be19d8199974970</td>\n",
       "    </tr>\n",
       "    <tr>\n",
       "      <th>2</th>\n",
       "      <td>Billie Eilish - BIRDS OF A FEATHER (Official Music Video).mp3</td>\n",
       "      <td>4</td>\n",
       "      <td>4</td>\n",
       "      <td>20</td>\n",
       "      <td>4feff89528864f9953e2ea0ece0425e7c88164d1d707f69256c5eb8aedad5c8a</td>\n",
       "    </tr>\n",
       "    <tr>\n",
       "      <th>3</th>\n",
       "      <td>Billie Eilish - BIRDS OF A FEATHER (Official Music Video).mp3</td>\n",
       "      <td>4</td>\n",
       "      <td>4</td>\n",
       "      <td>37</td>\n",
       "      <td>77d2fa02ee47fa9a14f7d03cf87bcc328acddd7138a87609ebd763a56b02b36d</td>\n",
       "    </tr>\n",
       "    <tr>\n",
       "      <th>4</th>\n",
       "      <td>Billie Eilish - BIRDS OF A FEATHER (Official Music Video).mp3</td>\n",
       "      <td>4</td>\n",
       "      <td>4</td>\n",
       "      <td>39</td>\n",
       "      <td>89174d5be323c9c0a36bc2146a24741506a4714e404fd6dff611bc444a3b7268</td>\n",
       "    </tr>\n",
       "  </tbody>\n",
       "</table>\n",
       "</div>"
      ]
     },
     "metadata": {
      "application/vnd.databricks.v1+output": {
       "addedWidgets": {},
       "arguments": {},
       "data": "<div>\n<style scoped>\n    .dataframe tbody tr th:only-of-type {\n        vertical-align: middle;\n    }\n\n    .dataframe tbody tr th {\n        vertical-align: top;\n    }\n\n    .dataframe thead th {\n        text-align: right;\n    }\n</style>\n<table border=\"1\" class=\"dataframe\">\n  <thead>\n    <tr style=\"text-align: right;\">\n      <th></th>\n      <th>filename</th>\n      <th>freq1</th>\n      <th>freq2</th>\n      <th>delta_time</th>\n      <th>fingerprint_hash</th>\n    </tr>\n  </thead>\n  <tbody>\n    <tr>\n      <th>0</th>\n      <td>Billie Eilish - BIRDS OF A FEATHER (Official Music Video).mp3</td>\n      <td>3</td>\n      <td>3</td>\n      <td>21</td>\n      <td>ad4de2b3fc8d1f2eff326adfad54f125974baeb8cb8371675c25657bb9d11df0</td>\n    </tr>\n    <tr>\n      <th>1</th>\n      <td>Billie Eilish - BIRDS OF A FEATHER (Official Music Video).mp3</td>\n      <td>3</td>\n      <td>3</td>\n      <td>20</td>\n      <td>a7d3bfa0105bd7417c6fd6fdf3112fcabff51053116f52c20be19d8199974970</td>\n    </tr>\n    <tr>\n      <th>2</th>\n      <td>Billie Eilish - BIRDS OF A FEATHER (Official Music Video).mp3</td>\n      <td>4</td>\n      <td>4</td>\n      <td>20</td>\n      <td>4feff89528864f9953e2ea0ece0425e7c88164d1d707f69256c5eb8aedad5c8a</td>\n    </tr>\n    <tr>\n      <th>3</th>\n      <td>Billie Eilish - BIRDS OF A FEATHER (Official Music Video).mp3</td>\n      <td>4</td>\n      <td>4</td>\n      <td>37</td>\n      <td>77d2fa02ee47fa9a14f7d03cf87bcc328acddd7138a87609ebd763a56b02b36d</td>\n    </tr>\n    <tr>\n      <th>4</th>\n      <td>Billie Eilish - BIRDS OF A FEATHER (Official Music Video).mp3</td>\n      <td>4</td>\n      <td>4</td>\n      <td>39</td>\n      <td>89174d5be323c9c0a36bc2146a24741506a4714e404fd6dff611bc444a3b7268</td>\n    </tr>\n  </tbody>\n</table>\n</div>",
       "datasetInfos": [],
       "metadata": {},
       "removedWidgets": [],
       "textData": null,
       "type": "htmlSandbox"
      }
     },
     "output_type": "display_data"
    }
   ],
   "source": [
    "songs = spark.read.parquet(\"dbfs:/FileStore/gold/fingerprint_hashes_parq\")\n",
    "\n",
    "# column_mapping = {\n",
    "#     \"filename\": \"song_name\",\n",
    "#     \"fingerprint_hash\": \"audio_fingerprint\",\n",
    "#     \"freq1\": \"anchor_freq\",\n",
    "#     \"freq2\": \"target_freq\",\n",
    "#     \"delta_time\": \"time_diff\",\n",
    "#     \"anchor_time\": \"time_position\"\n",
    "# }\n",
    "\n",
    "# for old_name, new_name in column_mapping.items():\n",
    "#     clips = df_spark.withColumnRenamed(old_name, new_name)\n",
    "\n",
    "# df_spark.show()\n",
    "\n",
    "\n",
    "songs.limit(5).toPandas()"
   ]
  },
  {
   "cell_type": "markdown",
   "metadata": {
    "application/vnd.databricks.v1+cell": {
     "cellMetadata": {},
     "inputWidgets": {},
     "nuid": "5af5e5b2-4f7a-4118-bba5-94afef125cbf",
     "showTitle": false,
     "tableResultSettingsMap": {},
     "title": ""
    }
   },
   "source": [
    "Match Clip Hashed Fingerprints with Gold Hashes"
   ]
  },
  {
   "cell_type": "code",
   "execution_count": 0,
   "metadata": {
    "application/vnd.databricks.v1+cell": {
     "cellMetadata": {
      "byteLimit": 2048000,
      "rowLimit": 10000
     },
     "inputWidgets": {},
     "nuid": "b1e4e722-c999-4e58-8742-336fb4e213bf",
     "showTitle": false,
     "tableResultSettingsMap": {},
     "title": ""
    }
   },
   "outputs": [
    {
     "output_type": "display_data",
     "data": {
      "text/html": [
       "<div>\n",
       "<style scoped>\n",
       "    .dataframe tbody tr th:only-of-type {\n",
       "        vertical-align: middle;\n",
       "    }\n",
       "\n",
       "    .dataframe tbody tr th {\n",
       "        vertical-align: top;\n",
       "    }\n",
       "\n",
       "    .dataframe thead th {\n",
       "        text-align: right;\n",
       "    }\n",
       "</style>\n",
       "<table border=\"1\" class=\"dataframe\">\n",
       "  <thead>\n",
       "    <tr style=\"text-align: right;\">\n",
       "      <th></th>\n",
       "      <th>filename</th>\n",
       "      <th>freq1</th>\n",
       "      <th>freq2</th>\n",
       "      <th>delta_time</th>\n",
       "      <th>fingerprint_hash</th>\n",
       "    </tr>\n",
       "  </thead>\n",
       "  <tbody>\n",
       "    <tr>\n",
       "      <th>0</th>\n",
       "      <td>clip_Kendrick Lamar - tv off (Official Audio).mp3</td>\n",
       "      <td>3</td>\n",
       "      <td>3</td>\n",
       "      <td>22</td>\n",
       "      <td>d55369e8a9f4ac2c15597de5b8a1263732ccd6ad985cfb29dfecabb372ad025b</td>\n",
       "    </tr>\n",
       "    <tr>\n",
       "      <th>1</th>\n",
       "      <td>clip_Kendrick Lamar - tv off (Official Audio).mp3</td>\n",
       "      <td>3</td>\n",
       "      <td>3</td>\n",
       "      <td>20</td>\n",
       "      <td>a7d3bfa0105bd7417c6fd6fdf3112fcabff51053116f52c20be19d8199974970</td>\n",
       "    </tr>\n",
       "    <tr>\n",
       "      <th>2</th>\n",
       "      <td>clip_Kendrick Lamar - tv off (Official Audio).mp3</td>\n",
       "      <td>3</td>\n",
       "      <td>3</td>\n",
       "      <td>23</td>\n",
       "      <td>9e0b3749e6ef438e9cff4632dd87beca505c8ff4db41ca4c37c85b895c3e653b</td>\n",
       "    </tr>\n",
       "    <tr>\n",
       "      <th>3</th>\n",
       "      <td>clip_Kendrick Lamar - tv off (Official Audio).mp3</td>\n",
       "      <td>3</td>\n",
       "      <td>3</td>\n",
       "      <td>13</td>\n",
       "      <td>eaeab7f54d086ac137e10d183adf80915ce4265e1adc72ef120c506314885a12</td>\n",
       "    </tr>\n",
       "    <tr>\n",
       "      <th>4</th>\n",
       "      <td>clip_Kendrick Lamar - tv off (Official Audio).mp3</td>\n",
       "      <td>3</td>\n",
       "      <td>3</td>\n",
       "      <td>39</td>\n",
       "      <td>b5130b548bb6f4d0ad2872311a052a48a30cab6b45e96d5005960315c4854087</td>\n",
       "    </tr>\n",
       "  </tbody>\n",
       "</table>\n",
       "</div>"
      ]
     },
     "metadata": {
      "application/vnd.databricks.v1+output": {
       "addedWidgets": {},
       "arguments": {},
       "data": "<div>\n<style scoped>\n    .dataframe tbody tr th:only-of-type {\n        vertical-align: middle;\n    }\n\n    .dataframe tbody tr th {\n        vertical-align: top;\n    }\n\n    .dataframe thead th {\n        text-align: right;\n    }\n</style>\n<table border=\"1\" class=\"dataframe\">\n  <thead>\n    <tr style=\"text-align: right;\">\n      <th></th>\n      <th>filename</th>\n      <th>freq1</th>\n      <th>freq2</th>\n      <th>delta_time</th>\n      <th>fingerprint_hash</th>\n    </tr>\n  </thead>\n  <tbody>\n    <tr>\n      <th>0</th>\n      <td>clip_Kendrick Lamar - tv off (Official Audio).mp3</td>\n      <td>3</td>\n      <td>3</td>\n      <td>22</td>\n      <td>d55369e8a9f4ac2c15597de5b8a1263732ccd6ad985cfb29dfecabb372ad025b</td>\n    </tr>\n    <tr>\n      <th>1</th>\n      <td>clip_Kendrick Lamar - tv off (Official Audio).mp3</td>\n      <td>3</td>\n      <td>3</td>\n      <td>20</td>\n      <td>a7d3bfa0105bd7417c6fd6fdf3112fcabff51053116f52c20be19d8199974970</td>\n    </tr>\n    <tr>\n      <th>2</th>\n      <td>clip_Kendrick Lamar - tv off (Official Audio).mp3</td>\n      <td>3</td>\n      <td>3</td>\n      <td>23</td>\n      <td>9e0b3749e6ef438e9cff4632dd87beca505c8ff4db41ca4c37c85b895c3e653b</td>\n    </tr>\n    <tr>\n      <th>3</th>\n      <td>clip_Kendrick Lamar - tv off (Official Audio).mp3</td>\n      <td>3</td>\n      <td>3</td>\n      <td>13</td>\n      <td>eaeab7f54d086ac137e10d183adf80915ce4265e1adc72ef120c506314885a12</td>\n    </tr>\n    <tr>\n      <th>4</th>\n      <td>clip_Kendrick Lamar - tv off (Official Audio).mp3</td>\n      <td>3</td>\n      <td>3</td>\n      <td>39</td>\n      <td>b5130b548bb6f4d0ad2872311a052a48a30cab6b45e96d5005960315c4854087</td>\n    </tr>\n  </tbody>\n</table>\n</div>",
       "datasetInfos": [],
       "metadata": {},
       "removedWidgets": [],
       "textData": null,
       "type": "htmlSandbox"
      }
     },
     "output_type": "display_data"
    }
   ],
   "source": [
    "clip = clips.filter(clips[\"filename\"] == \"clip_Kendrick Lamar - tv off (Official Audio).mp3\")\n",
    "clip.limit(5).toPandas()"
   ]
  },
  {
   "cell_type": "code",
   "execution_count": 0,
   "metadata": {
    "application/vnd.databricks.v1+cell": {
     "cellMetadata": {
      "byteLimit": 2048000,
      "rowLimit": 10000
     },
     "inputWidgets": {},
     "nuid": "c4f4a3fa-a86a-4557-8042-5da5160ff806",
     "showTitle": false,
     "tableResultSettingsMap": {},
     "title": ""
    }
   },
   "outputs": [],
   "source": [
    "joined = clip.alias(\"clip\") \\\n",
    "    .join(songs.alias(\"gold\"), col(\"clip.fingerprint_hash\") == col(\"gold.fingerprint_hash\")) \\\n",
    "    .select(\"clip.fingerprint_hash\", \"gold.filename\")"
   ]
  },
  {
   "cell_type": "code",
   "execution_count": 0,
   "metadata": {
    "application/vnd.databricks.v1+cell": {
     "cellMetadata": {
      "byteLimit": 2048000,
      "rowLimit": 10000
     },
     "inputWidgets": {},
     "nuid": "beed9f15-81ea-4be5-bf0e-5c6099bfba3a",
     "showTitle": false,
     "tableResultSettingsMap": {},
     "title": ""
    }
   },
   "outputs": [
    {
     "output_type": "display_data",
     "data": {
      "text/html": [
       "<div>\n",
       "<style scoped>\n",
       "    .dataframe tbody tr th:only-of-type {\n",
       "        vertical-align: middle;\n",
       "    }\n",
       "\n",
       "    .dataframe tbody tr th {\n",
       "        vertical-align: top;\n",
       "    }\n",
       "\n",
       "    .dataframe thead th {\n",
       "        text-align: right;\n",
       "    }\n",
       "</style>\n",
       "<table border=\"1\" class=\"dataframe\">\n",
       "  <thead>\n",
       "    <tr style=\"text-align: right;\">\n",
       "      <th></th>\n",
       "      <th>filename</th>\n",
       "      <th>match_count</th>\n",
       "    </tr>\n",
       "  </thead>\n",
       "  <tbody>\n",
       "    <tr>\n",
       "      <th>0</th>\n",
       "      <td>Kendrick Lamar - tv off (Official Audio).mp3</td>\n",
       "      <td>149</td>\n",
       "    </tr>\n",
       "    <tr>\n",
       "      <th>1</th>\n",
       "      <td>Lady Gaga, Bruno Mars - Die With A Smile (Official Music Video).mp3</td>\n",
       "      <td>12</td>\n",
       "    </tr>\n",
       "    <tr>\n",
       "      <th>2</th>\n",
       "      <td>Teddy Swims - Lose Control (The Village Sessions).mp3</td>\n",
       "      <td>5</td>\n",
       "    </tr>\n",
       "    <tr>\n",
       "      <th>3</th>\n",
       "      <td>Kendrick Lamar - Not Like Us.mp3</td>\n",
       "      <td>197</td>\n",
       "    </tr>\n",
       "    <tr>\n",
       "      <th>4</th>\n",
       "      <td>PARTYNEXTDOOR &amp; DRAKE - NOKIA (Official Lyric Video).mp3</td>\n",
       "      <td>5</td>\n",
       "    </tr>\n",
       "    <tr>\n",
       "      <th>5</th>\n",
       "      <td>ROSÉ &amp; Bruno Mars - APT. (Official Music Video).mp3</td>\n",
       "      <td>19</td>\n",
       "    </tr>\n",
       "    <tr>\n",
       "      <th>6</th>\n",
       "      <td>Billie Eilish - BIRDS OF A FEATHER (Official Music Video).mp3</td>\n",
       "      <td>2</td>\n",
       "    </tr>\n",
       "    <tr>\n",
       "      <th>7</th>\n",
       "      <td>Kendrick Lamar - luther (Official Audio).mp3</td>\n",
       "      <td>9</td>\n",
       "    </tr>\n",
       "    <tr>\n",
       "      <th>8</th>\n",
       "      <td>Shaboozey - A Bar Song (Tipsy) [Official Visualizer].mp3</td>\n",
       "      <td>9</td>\n",
       "    </tr>\n",
       "    <tr>\n",
       "      <th>9</th>\n",
       "      <td>Chappell Roan - Pink Pony Club (Official Music Video).mp3</td>\n",
       "      <td>21</td>\n",
       "    </tr>\n",
       "  </tbody>\n",
       "</table>\n",
       "</div>"
      ]
     },
     "metadata": {
      "application/vnd.databricks.v1+output": {
       "addedWidgets": {},
       "arguments": {},
       "data": "<div>\n<style scoped>\n    .dataframe tbody tr th:only-of-type {\n        vertical-align: middle;\n    }\n\n    .dataframe tbody tr th {\n        vertical-align: top;\n    }\n\n    .dataframe thead th {\n        text-align: right;\n    }\n</style>\n<table border=\"1\" class=\"dataframe\">\n  <thead>\n    <tr style=\"text-align: right;\">\n      <th></th>\n      <th>filename</th>\n      <th>match_count</th>\n    </tr>\n  </thead>\n  <tbody>\n    <tr>\n      <th>0</th>\n      <td>Kendrick Lamar - tv off (Official Audio).mp3</td>\n      <td>149</td>\n    </tr>\n    <tr>\n      <th>1</th>\n      <td>Lady Gaga, Bruno Mars - Die With A Smile (Official Music Video).mp3</td>\n      <td>12</td>\n    </tr>\n    <tr>\n      <th>2</th>\n      <td>Teddy Swims - Lose Control (The Village Sessions).mp3</td>\n      <td>5</td>\n    </tr>\n    <tr>\n      <th>3</th>\n      <td>Kendrick Lamar - Not Like Us.mp3</td>\n      <td>197</td>\n    </tr>\n    <tr>\n      <th>4</th>\n      <td>PARTYNEXTDOOR &amp; DRAKE - NOKIA (Official Lyric Video).mp3</td>\n      <td>5</td>\n    </tr>\n    <tr>\n      <th>5</th>\n      <td>ROSÉ &amp; Bruno Mars - APT. (Official Music Video).mp3</td>\n      <td>19</td>\n    </tr>\n    <tr>\n      <th>6</th>\n      <td>Billie Eilish - BIRDS OF A FEATHER (Official Music Video).mp3</td>\n      <td>2</td>\n    </tr>\n    <tr>\n      <th>7</th>\n      <td>Kendrick Lamar - luther (Official Audio).mp3</td>\n      <td>9</td>\n    </tr>\n    <tr>\n      <th>8</th>\n      <td>Shaboozey - A Bar Song (Tipsy) [Official Visualizer].mp3</td>\n      <td>9</td>\n    </tr>\n    <tr>\n      <th>9</th>\n      <td>Chappell Roan - Pink Pony Club (Official Music Video).mp3</td>\n      <td>21</td>\n    </tr>\n  </tbody>\n</table>\n</div>",
       "datasetInfos": [],
       "metadata": {},
       "removedWidgets": [],
       "textData": null,
       "type": "htmlSandbox"
      }
     },
     "output_type": "display_data"
    }
   ],
   "source": [
    "from pyspark.sql.functions import col, count\n",
    "\n",
    "match_counts = joined.groupBy(\"filename\").agg(count(\"fingerprint_hash\").alias(\"match_count\"))\n",
    "match_counts.toPandas()"
   ]
  },
  {
   "cell_type": "markdown",
   "metadata": {
    "application/vnd.databricks.v1+cell": {
     "cellMetadata": {},
     "inputWidgets": {},
     "nuid": "e5b17006-9701-4b42-b9ec-0f3a05db048a",
     "showTitle": false,
     "tableResultSettingsMap": {},
     "title": ""
    }
   },
   "source": [
    "Count Matches per Song (Confidence)"
   ]
  },
  {
   "cell_type": "code",
   "execution_count": 0,
   "metadata": {
    "application/vnd.databricks.v1+cell": {
     "cellMetadata": {
      "byteLimit": 2048000,
      "rowLimit": 10000
     },
     "inputWidgets": {},
     "nuid": "1155a316-6208-4969-ace6-b5d597f360c6",
     "showTitle": false,
     "tableResultSettingsMap": {},
     "title": ""
    }
   },
   "outputs": [
    {
     "output_type": "display_data",
     "data": {
      "text/html": [
       "<div>\n",
       "<style scoped>\n",
       "    .dataframe tbody tr th:only-of-type {\n",
       "        vertical-align: middle;\n",
       "    }\n",
       "\n",
       "    .dataframe tbody tr th {\n",
       "        vertical-align: top;\n",
       "    }\n",
       "\n",
       "    .dataframe thead th {\n",
       "        text-align: right;\n",
       "    }\n",
       "</style>\n",
       "<table border=\"1\" class=\"dataframe\">\n",
       "  <thead>\n",
       "    <tr style=\"text-align: right;\">\n",
       "      <th></th>\n",
       "      <th>filename</th>\n",
       "      <th>match_count</th>\n",
       "      <th>confidence</th>\n",
       "    </tr>\n",
       "  </thead>\n",
       "  <tbody>\n",
       "    <tr>\n",
       "      <th>0</th>\n",
       "      <td>Kendrick Lamar - tv off (Official Audio).mp3</td>\n",
       "      <td>149</td>\n",
       "      <td>0.814208</td>\n",
       "    </tr>\n",
       "    <tr>\n",
       "      <th>1</th>\n",
       "      <td>Lady Gaga, Bruno Mars - Die With A Smile (Official Music Video).mp3</td>\n",
       "      <td>12</td>\n",
       "      <td>0.065574</td>\n",
       "    </tr>\n",
       "    <tr>\n",
       "      <th>2</th>\n",
       "      <td>Teddy Swims - Lose Control (The Village Sessions).mp3</td>\n",
       "      <td>5</td>\n",
       "      <td>0.027322</td>\n",
       "    </tr>\n",
       "    <tr>\n",
       "      <th>3</th>\n",
       "      <td>Kendrick Lamar - Not Like Us.mp3</td>\n",
       "      <td>197</td>\n",
       "      <td>1.076503</td>\n",
       "    </tr>\n",
       "    <tr>\n",
       "      <th>4</th>\n",
       "      <td>PARTYNEXTDOOR &amp; DRAKE - NOKIA (Official Lyric Video).mp3</td>\n",
       "      <td>5</td>\n",
       "      <td>0.027322</td>\n",
       "    </tr>\n",
       "    <tr>\n",
       "      <th>5</th>\n",
       "      <td>ROSÉ &amp; Bruno Mars - APT. (Official Music Video).mp3</td>\n",
       "      <td>19</td>\n",
       "      <td>0.103825</td>\n",
       "    </tr>\n",
       "    <tr>\n",
       "      <th>6</th>\n",
       "      <td>Billie Eilish - BIRDS OF A FEATHER (Official Music Video).mp3</td>\n",
       "      <td>2</td>\n",
       "      <td>0.010929</td>\n",
       "    </tr>\n",
       "    <tr>\n",
       "      <th>7</th>\n",
       "      <td>Kendrick Lamar - luther (Official Audio).mp3</td>\n",
       "      <td>9</td>\n",
       "      <td>0.049180</td>\n",
       "    </tr>\n",
       "    <tr>\n",
       "      <th>8</th>\n",
       "      <td>Shaboozey - A Bar Song (Tipsy) [Official Visualizer].mp3</td>\n",
       "      <td>9</td>\n",
       "      <td>0.049180</td>\n",
       "    </tr>\n",
       "    <tr>\n",
       "      <th>9</th>\n",
       "      <td>Chappell Roan - Pink Pony Club (Official Music Video).mp3</td>\n",
       "      <td>21</td>\n",
       "      <td>0.114754</td>\n",
       "    </tr>\n",
       "  </tbody>\n",
       "</table>\n",
       "</div>"
      ]
     },
     "metadata": {
      "application/vnd.databricks.v1+output": {
       "addedWidgets": {},
       "arguments": {},
       "data": "<div>\n<style scoped>\n    .dataframe tbody tr th:only-of-type {\n        vertical-align: middle;\n    }\n\n    .dataframe tbody tr th {\n        vertical-align: top;\n    }\n\n    .dataframe thead th {\n        text-align: right;\n    }\n</style>\n<table border=\"1\" class=\"dataframe\">\n  <thead>\n    <tr style=\"text-align: right;\">\n      <th></th>\n      <th>filename</th>\n      <th>match_count</th>\n      <th>confidence</th>\n    </tr>\n  </thead>\n  <tbody>\n    <tr>\n      <th>0</th>\n      <td>Kendrick Lamar - tv off (Official Audio).mp3</td>\n      <td>149</td>\n      <td>0.814208</td>\n    </tr>\n    <tr>\n      <th>1</th>\n      <td>Lady Gaga, Bruno Mars - Die With A Smile (Official Music Video).mp3</td>\n      <td>12</td>\n      <td>0.065574</td>\n    </tr>\n    <tr>\n      <th>2</th>\n      <td>Teddy Swims - Lose Control (The Village Sessions).mp3</td>\n      <td>5</td>\n      <td>0.027322</td>\n    </tr>\n    <tr>\n      <th>3</th>\n      <td>Kendrick Lamar - Not Like Us.mp3</td>\n      <td>197</td>\n      <td>1.076503</td>\n    </tr>\n    <tr>\n      <th>4</th>\n      <td>PARTYNEXTDOOR &amp; DRAKE - NOKIA (Official Lyric Video).mp3</td>\n      <td>5</td>\n      <td>0.027322</td>\n    </tr>\n    <tr>\n      <th>5</th>\n      <td>ROSÉ &amp; Bruno Mars - APT. (Official Music Video).mp3</td>\n      <td>19</td>\n      <td>0.103825</td>\n    </tr>\n    <tr>\n      <th>6</th>\n      <td>Billie Eilish - BIRDS OF A FEATHER (Official Music Video).mp3</td>\n      <td>2</td>\n      <td>0.010929</td>\n    </tr>\n    <tr>\n      <th>7</th>\n      <td>Kendrick Lamar - luther (Official Audio).mp3</td>\n      <td>9</td>\n      <td>0.049180</td>\n    </tr>\n    <tr>\n      <th>8</th>\n      <td>Shaboozey - A Bar Song (Tipsy) [Official Visualizer].mp3</td>\n      <td>9</td>\n      <td>0.049180</td>\n    </tr>\n    <tr>\n      <th>9</th>\n      <td>Chappell Roan - Pink Pony Club (Official Music Video).mp3</td>\n      <td>21</td>\n      <td>0.114754</td>\n    </tr>\n  </tbody>\n</table>\n</div>",
       "datasetInfos": [],
       "metadata": {},
       "removedWidgets": [],
       "textData": null,
       "type": "htmlSandbox"
      }
     },
     "output_type": "display_data"
    }
   ],
   "source": [
    "from pyspark.sql.functions import col, count, desc, expr\n",
    "\n",
    "clip_total_hashes = clip.count()\n",
    "match_counts = match_counts.withColumn(\"confidence\", expr(f\"match_count / {clip_total_hashes}\"))\n",
    "match_counts.toPandas()"
   ]
  },
  {
   "cell_type": "code",
   "execution_count": 0,
   "metadata": {
    "application/vnd.databricks.v1+cell": {
     "cellMetadata": {
      "byteLimit": 2048000,
      "rowLimit": 10000
     },
     "inputWidgets": {},
     "nuid": "02acdd21-cb61-4101-8208-ee608911338e",
     "showTitle": false,
     "tableResultSettingsMap": {},
     "title": ""
    }
   },
   "outputs": [
    {
     "output_type": "display_data",
     "data": {
      "text/html": [
       "<div>\n",
       "<style scoped>\n",
       "    .dataframe tbody tr th:only-of-type {\n",
       "        vertical-align: middle;\n",
       "    }\n",
       "\n",
       "    .dataframe tbody tr th {\n",
       "        vertical-align: top;\n",
       "    }\n",
       "\n",
       "    .dataframe thead th {\n",
       "        text-align: right;\n",
       "    }\n",
       "</style>\n",
       "<table border=\"1\" class=\"dataframe\">\n",
       "  <thead>\n",
       "    <tr style=\"text-align: right;\">\n",
       "      <th></th>\n",
       "      <th>filename</th>\n",
       "      <th>match_count</th>\n",
       "      <th>confidence</th>\n",
       "    </tr>\n",
       "  </thead>\n",
       "  <tbody>\n",
       "    <tr>\n",
       "      <th>0</th>\n",
       "      <td>Kendrick Lamar - Not Like Us.mp3</td>\n",
       "      <td>197</td>\n",
       "      <td>1.076503</td>\n",
       "    </tr>\n",
       "    <tr>\n",
       "      <th>1</th>\n",
       "      <td>Kendrick Lamar - tv off (Official Audio).mp3</td>\n",
       "      <td>149</td>\n",
       "      <td>0.814208</td>\n",
       "    </tr>\n",
       "  </tbody>\n",
       "</table>\n",
       "</div>"
      ]
     },
     "metadata": {
      "application/vnd.databricks.v1+output": {
       "addedWidgets": {},
       "arguments": {},
       "data": "<div>\n<style scoped>\n    .dataframe tbody tr th:only-of-type {\n        vertical-align: middle;\n    }\n\n    .dataframe tbody tr th {\n        vertical-align: top;\n    }\n\n    .dataframe thead th {\n        text-align: right;\n    }\n</style>\n<table border=\"1\" class=\"dataframe\">\n  <thead>\n    <tr style=\"text-align: right;\">\n      <th></th>\n      <th>filename</th>\n      <th>match_count</th>\n      <th>confidence</th>\n    </tr>\n  </thead>\n  <tbody>\n    <tr>\n      <th>0</th>\n      <td>Kendrick Lamar - Not Like Us.mp3</td>\n      <td>197</td>\n      <td>1.076503</td>\n    </tr>\n    <tr>\n      <th>1</th>\n      <td>Kendrick Lamar - tv off (Official Audio).mp3</td>\n      <td>149</td>\n      <td>0.814208</td>\n    </tr>\n  </tbody>\n</table>\n</div>",
       "datasetInfos": [],
       "metadata": {},
       "removedWidgets": [],
       "textData": null,
       "type": "htmlSandbox"
      }
     },
     "output_type": "display_data"
    }
   ],
   "source": [
    "threshold = 0.7  # 70% of clip hashes must match to be considered a confident match\n",
    "result = match_counts.filter(col(\"confidence\") >= threshold).orderBy(desc(\"confidence\"))\n",
    "result.toPandas()"
   ]
  },
  {
   "cell_type": "markdown",
   "metadata": {
    "application/vnd.databricks.v1+cell": {
     "cellMetadata": {},
     "inputWidgets": {},
     "nuid": "f9b08c0a-d853-47f3-986b-647a02040a59",
     "showTitle": false,
     "tableResultSettingsMap": {},
     "title": ""
    }
   },
   "source": [
    "App Results"
   ]
  },
  {
   "cell_type": "code",
   "execution_count": 0,
   "metadata": {
    "application/vnd.databricks.v1+cell": {
     "cellMetadata": {
      "byteLimit": 2048000,
      "rowLimit": 10000
     },
     "inputWidgets": {},
     "nuid": "b4da6969-8deb-48f0-be59-f038569a81f5",
     "showTitle": false,
     "tableResultSettingsMap": {},
     "title": ""
    }
   },
   "outputs": [],
   "source": [
    "from pyspark.sql.functions import col\n",
    "\n",
    "# Rename clip DataFrame columns\n",
    "clips = clips.select(\n",
    "    col(\"filename\").alias(\"clip_filename\"),\n",
    "    col(\"freq1\").alias(\"clip_freq1\"),\n",
    "    col(\"freq2\").alias(\"clip_freq2\"),\n",
    "    col(\"delta_time\").alias(\"clip_delta_time\"),\n",
    "    col(\"delta_time\").alias(\"clip_anchor_time\"),\n",
    "    col(\"fingerprint_hash\")\n",
    ")\n",
    "\n",
    "# Rename song DataFrame columns\n",
    "songs = songs.select(\n",
    "    col(\"filename\").alias(\"song_filename\"),\n",
    "    col(\"freq1\").alias(\"song_freq1\"),\n",
    "    col(\"freq2\").alias(\"song_freq2\"),\n",
    "    col(\"delta_time\").alias(\"song_delta_time\"),\n",
    "    col(\"delta_time\").alias(\"song_anchor_time\"),\n",
    "    col(\"fingerprint_hash\")\n",
    ")"
   ]
  },
  {
   "cell_type": "code",
   "execution_count": 0,
   "metadata": {
    "application/vnd.databricks.v1+cell": {
     "cellMetadata": {
      "byteLimit": 2048000,
      "rowLimit": 10000
     },
     "inputWidgets": {},
     "nuid": "a70ddcd5-7768-40c4-a79e-21a7fb0cf2ea",
     "showTitle": false,
     "tableResultSettingsMap": {},
     "title": ""
    }
   },
   "outputs": [],
   "source": [
    "matches = clips.join(\n",
    "    songs,\n",
    "    on=\"fingerprint_hash\",  # Match based on shared hash\n",
    "    how=\"inner\"\n",
    ")"
   ]
  },
  {
   "cell_type": "code",
   "execution_count": 0,
   "metadata": {
    "application/vnd.databricks.v1+cell": {
     "cellMetadata": {
      "byteLimit": 2048000,
      "rowLimit": 10000
     },
     "inputWidgets": {},
     "nuid": "13ce851d-6333-4488-9959-3303fa5471c0",
     "showTitle": false,
     "tableResultSettingsMap": {},
     "title": ""
    }
   },
   "outputs": [
    {
     "output_type": "display_data",
     "data": {
      "text/html": [
       "<div>\n",
       "<style scoped>\n",
       "    .dataframe tbody tr th:only-of-type {\n",
       "        vertical-align: middle;\n",
       "    }\n",
       "\n",
       "    .dataframe tbody tr th {\n",
       "        vertical-align: top;\n",
       "    }\n",
       "\n",
       "    .dataframe thead th {\n",
       "        text-align: right;\n",
       "    }\n",
       "</style>\n",
       "<table border=\"1\" class=\"dataframe\">\n",
       "  <thead>\n",
       "    <tr style=\"text-align: right;\">\n",
       "      <th></th>\n",
       "      <th>clip_filename</th>\n",
       "      <th>song_filename</th>\n",
       "      <th>num_matches</th>\n",
       "    </tr>\n",
       "  </thead>\n",
       "  <tbody>\n",
       "    <tr>\n",
       "      <th>0</th>\n",
       "      <td>clip_Chappell Roan - Pink Pony Club (Official Music Video).mp3</td>\n",
       "      <td>Chappell Roan - Pink Pony Club (Official Music Video).mp3</td>\n",
       "      <td>83</td>\n",
       "    </tr>\n",
       "    <tr>\n",
       "      <th>1</th>\n",
       "      <td>clip_Kendrick Lamar - Not Like Us.mp3</td>\n",
       "      <td>Kendrick Lamar - Not Like Us.mp3</td>\n",
       "      <td>1641</td>\n",
       "    </tr>\n",
       "    <tr>\n",
       "      <th>2</th>\n",
       "      <td>clip_Kendrick Lamar - luther (Official Audio).mp3</td>\n",
       "      <td>PARTYNEXTDOOR &amp; DRAKE - NOKIA (Official Lyric Video).mp3</td>\n",
       "      <td>200</td>\n",
       "    </tr>\n",
       "    <tr>\n",
       "      <th>3</th>\n",
       "      <td>clip_Kendrick Lamar - tv off (Official Audio).mp3</td>\n",
       "      <td>Kendrick Lamar - Not Like Us.mp3</td>\n",
       "      <td>197</td>\n",
       "    </tr>\n",
       "    <tr>\n",
       "      <th>4</th>\n",
       "      <td>clip_Lady Gaga, Bruno Mars - Die With A Smile (Official Music Video).mp3</td>\n",
       "      <td>Lady Gaga, Bruno Mars - Die With A Smile (Official Music Video).mp3</td>\n",
       "      <td>184</td>\n",
       "    </tr>\n",
       "    <tr>\n",
       "      <th>5</th>\n",
       "      <td>clip_PARTYNEXTDOOR &amp; DRAKE - NOKIA (Official Lyric Video).mp3</td>\n",
       "      <td>PARTYNEXTDOOR &amp; DRAKE - NOKIA (Official Lyric Video).mp3</td>\n",
       "      <td>1231</td>\n",
       "    </tr>\n",
       "    <tr>\n",
       "      <th>6</th>\n",
       "      <td>clip_ROSÉ &amp; Bruno Mars - APT. (Official Music Video).mp3</td>\n",
       "      <td>ROSÉ &amp; Bruno Mars - APT. (Official Music Video).mp3</td>\n",
       "      <td>200</td>\n",
       "    </tr>\n",
       "    <tr>\n",
       "      <th>7</th>\n",
       "      <td>clip_Shaboozey - A Bar Song (Tipsy) [Official Visualizer].mp3</td>\n",
       "      <td>Lady Gaga, Bruno Mars - Die With A Smile (Official Music Video).mp3</td>\n",
       "      <td>46</td>\n",
       "    </tr>\n",
       "    <tr>\n",
       "      <th>8</th>\n",
       "      <td>clip_Teddy Swims - Lose Control (The Village Sessions).mp3</td>\n",
       "      <td>Teddy Swims - Lose Control (The Village Sessions).mp3</td>\n",
       "      <td>446</td>\n",
       "    </tr>\n",
       "  </tbody>\n",
       "</table>\n",
       "</div>"
      ]
     },
     "metadata": {
      "application/vnd.databricks.v1+output": {
       "addedWidgets": {},
       "arguments": {},
       "data": "<div>\n<style scoped>\n    .dataframe tbody tr th:only-of-type {\n        vertical-align: middle;\n    }\n\n    .dataframe tbody tr th {\n        vertical-align: top;\n    }\n\n    .dataframe thead th {\n        text-align: right;\n    }\n</style>\n<table border=\"1\" class=\"dataframe\">\n  <thead>\n    <tr style=\"text-align: right;\">\n      <th></th>\n      <th>clip_filename</th>\n      <th>song_filename</th>\n      <th>num_matches</th>\n    </tr>\n  </thead>\n  <tbody>\n    <tr>\n      <th>0</th>\n      <td>clip_Chappell Roan - Pink Pony Club (Official Music Video).mp3</td>\n      <td>Chappell Roan - Pink Pony Club (Official Music Video).mp3</td>\n      <td>83</td>\n    </tr>\n    <tr>\n      <th>1</th>\n      <td>clip_Kendrick Lamar - Not Like Us.mp3</td>\n      <td>Kendrick Lamar - Not Like Us.mp3</td>\n      <td>1641</td>\n    </tr>\n    <tr>\n      <th>2</th>\n      <td>clip_Kendrick Lamar - luther (Official Audio).mp3</td>\n      <td>PARTYNEXTDOOR &amp; DRAKE - NOKIA (Official Lyric Video).mp3</td>\n      <td>200</td>\n    </tr>\n    <tr>\n      <th>3</th>\n      <td>clip_Kendrick Lamar - tv off (Official Audio).mp3</td>\n      <td>Kendrick Lamar - Not Like Us.mp3</td>\n      <td>197</td>\n    </tr>\n    <tr>\n      <th>4</th>\n      <td>clip_Lady Gaga, Bruno Mars - Die With A Smile (Official Music Video).mp3</td>\n      <td>Lady Gaga, Bruno Mars - Die With A Smile (Official Music Video).mp3</td>\n      <td>184</td>\n    </tr>\n    <tr>\n      <th>5</th>\n      <td>clip_PARTYNEXTDOOR &amp; DRAKE - NOKIA (Official Lyric Video).mp3</td>\n      <td>PARTYNEXTDOOR &amp; DRAKE - NOKIA (Official Lyric Video).mp3</td>\n      <td>1231</td>\n    </tr>\n    <tr>\n      <th>6</th>\n      <td>clip_ROSÉ &amp; Bruno Mars - APT. (Official Music Video).mp3</td>\n      <td>ROSÉ &amp; Bruno Mars - APT. (Official Music Video).mp3</td>\n      <td>200</td>\n    </tr>\n    <tr>\n      <th>7</th>\n      <td>clip_Shaboozey - A Bar Song (Tipsy) [Official Visualizer].mp3</td>\n      <td>Lady Gaga, Bruno Mars - Die With A Smile (Official Music Video).mp3</td>\n      <td>46</td>\n    </tr>\n    <tr>\n      <th>8</th>\n      <td>clip_Teddy Swims - Lose Control (The Village Sessions).mp3</td>\n      <td>Teddy Swims - Lose Control (The Village Sessions).mp3</td>\n      <td>446</td>\n    </tr>\n  </tbody>\n</table>\n</div>",
       "datasetInfos": [],
       "metadata": {},
       "removedWidgets": [],
       "textData": null,
       "type": "htmlSandbox"
      }
     },
     "output_type": "display_data"
    }
   ],
   "source": [
    "from pyspark.sql.window import Window\n",
    "from pyspark.sql.functions import row_number\n",
    "from pyspark.sql.functions import count\n",
    "\n",
    "match_counts = matches.groupBy(\"clip_filename\", \"song_filename\").agg(count(\"*\").alias(\"num_matches\"))\n",
    "\n",
    "w = Window.partitionBy(\"clip_filename\").orderBy(match_counts[\"num_matches\"].desc())\n",
    "\n",
    "best_matches = match_counts.withColumn(\"rank\", row_number().over(w)).filter(\"rank = 1\")\n",
    "\n",
    "results = best_matches.select(\"clip_filename\", \"song_filename\", \"num_matches\")\n",
    "results.toPandas()"
   ]
  },
  {
   "cell_type": "code",
   "execution_count": 0,
   "metadata": {
    "application/vnd.databricks.v1+cell": {
     "cellMetadata": {
      "byteLimit": 2048000,
      "rowLimit": 10000
     },
     "inputWidgets": {},
     "nuid": "591c81ad-6233-4716-a8cc-8674e77d9494",
     "showTitle": false,
     "tableResultSettingsMap": {},
     "title": ""
    }
   },
   "outputs": [
    {
     "output_type": "stream",
     "name": "stdout",
     "output_type": "stream",
     "text": [
      "Matching accuracy: 66.67%\n"
     ]
    }
   ],
   "source": [
    "from pyspark.sql.functions import regexp_replace\n",
    "from pyspark.sql.functions import expr\n",
    "\n",
    "results = results.withColumn(\"true_song_name\", regexp_replace(\"clip_filename\", \"^clip_\", \"\"))\n",
    "results = results.withColumn(\"is_correct\", expr(\"true_song_name = song_filename\"))\n",
    "\n",
    "accuracy = results.filter(\"is_correct = true\").count() / results.count()\n",
    "print(f\"Matching accuracy: {accuracy * 100:.2f}%\")"
   ]
  },
  {
   "cell_type": "code",
   "execution_count": 0,
   "metadata": {
    "application/vnd.databricks.v1+cell": {
     "cellMetadata": {
      "byteLimit": 2048000,
      "rowLimit": 10000
     },
     "inputWidgets": {},
     "nuid": "0905bd0e-7602-405b-8806-d396852a4f05",
     "showTitle": false,
     "tableResultSettingsMap": {},
     "title": ""
    }
   },
   "outputs": [
    {
     "output_type": "display_data",
     "data": {
      "text/html": [
       "<div>\n",
       "<style scoped>\n",
       "    .dataframe tbody tr th:only-of-type {\n",
       "        vertical-align: middle;\n",
       "    }\n",
       "\n",
       "    .dataframe tbody tr th {\n",
       "        vertical-align: top;\n",
       "    }\n",
       "\n",
       "    .dataframe thead th {\n",
       "        text-align: right;\n",
       "    }\n",
       "</style>\n",
       "<table border=\"1\" class=\"dataframe\">\n",
       "  <thead>\n",
       "    <tr style=\"text-align: right;\">\n",
       "      <th></th>\n",
       "      <th>is_correct</th>\n",
       "      <th>count</th>\n",
       "    </tr>\n",
       "  </thead>\n",
       "  <tbody>\n",
       "    <tr>\n",
       "      <th>0</th>\n",
       "      <td>True</td>\n",
       "      <td>6</td>\n",
       "    </tr>\n",
       "    <tr>\n",
       "      <th>1</th>\n",
       "      <td>False</td>\n",
       "      <td>3</td>\n",
       "    </tr>\n",
       "  </tbody>\n",
       "</table>\n",
       "</div>"
      ]
     },
     "metadata": {
      "application/vnd.databricks.v1+output": {
       "addedWidgets": {},
       "arguments": {},
       "data": "<div>\n<style scoped>\n    .dataframe tbody tr th:only-of-type {\n        vertical-align: middle;\n    }\n\n    .dataframe tbody tr th {\n        vertical-align: top;\n    }\n\n    .dataframe thead th {\n        text-align: right;\n    }\n</style>\n<table border=\"1\" class=\"dataframe\">\n  <thead>\n    <tr style=\"text-align: right;\">\n      <th></th>\n      <th>is_correct</th>\n      <th>count</th>\n    </tr>\n  </thead>\n  <tbody>\n    <tr>\n      <th>0</th>\n      <td>True</td>\n      <td>6</td>\n    </tr>\n    <tr>\n      <th>1</th>\n      <td>False</td>\n      <td>3</td>\n    </tr>\n  </tbody>\n</table>\n</div>",
       "datasetInfos": [],
       "metadata": {},
       "removedWidgets": [],
       "textData": null,
       "type": "htmlSandbox"
      }
     },
     "output_type": "display_data"
    }
   ],
   "source": [
    "results.groupBy(\"is_correct\").count().toPandas()"
   ]
  },
  {
   "cell_type": "markdown",
   "metadata": {
    "application/vnd.databricks.v1+cell": {
     "cellMetadata": {},
     "inputWidgets": {},
     "nuid": "12c0a695-9e04-48c4-bce3-90a6d8d688db",
     "showTitle": false,
     "tableResultSettingsMap": {},
     "title": ""
    }
   },
   "source": [
    "Save Results"
   ]
  },
  {
   "cell_type": "code",
   "execution_count": 0,
   "metadata": {
    "application/vnd.databricks.v1+cell": {
     "cellMetadata": {},
     "inputWidgets": {},
     "nuid": "e0cb20d7-0ad5-4afb-9d6e-557b37875fba",
     "showTitle": false,
     "tableResultSettingsMap": {},
     "title": ""
    }
   },
   "outputs": [],
   "source": [
    "df_score.write.mode(\"overwrite\").parquet(\"dbfs:/FileStore/staging/match_results/\")"
   ]
  },
  {
   "cell_type": "code",
   "execution_count": 0,
   "metadata": {
    "application/vnd.databricks.v1+cell": {
     "cellMetadata": {},
     "inputWidgets": {},
     "nuid": "4d19663c-4e5d-4982-b778-96ddd93881b3",
     "showTitle": false,
     "tableResultSettingsMap": {},
     "title": ""
    }
   },
   "outputs": [],
   "source": [
    "spark.stop()"
   ]
  }
 ],
 "metadata": {
  "application/vnd.databricks.v1+notebook": {
   "computePreferences": null,
   "dashboards": [],
   "environmentMetadata": {
    "base_environment": "",
    "environment_version": "1"
   },
   "inputWidgetPreferences": null,
   "language": "python",
   "notebookMetadata": {
    "pythonIndentUnit": 4
   },
   "notebookName": "FINAL_NOTEBOOK",
   "widgets": {}
  }
 },
 "nbformat": 4,
 "nbformat_minor": 0
}
