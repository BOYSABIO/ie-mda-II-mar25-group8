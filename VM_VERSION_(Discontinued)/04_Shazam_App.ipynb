{
 "cells": [
  {
   "cell_type": "markdown",
   "id": "2db3617e-953e-4091-9bb9-b98be04736fa",
   "metadata": {},
   "source": [
    "# Matching Short Fingerprints with Database of Fingerprints"
   ]
  },
  {
   "cell_type": "code",
   "execution_count": 1,
   "id": "bb7bee10-a934-4b00-bb50-e2f89433fa8a",
   "metadata": {},
   "outputs": [
    {
     "name": "stdout",
     "output_type": "stream",
     "text": [
      "🔍 Closest match: Michael Jackson - Billie Jean (Official Video)\n"
     ]
    }
   ],
   "source": [
    "import librosa\n",
    "import numpy as np\n",
    "import os\n",
    "\n",
    "# Define folders\n",
    "songs_folder = \"songs_mp3\"  # Full song database\n",
    "fingerprints_folder = \"fingerprints\"  # Precomputed fingerprints\n",
    "\n",
    "def generate_snippet_fingerprint(file_path, start_time=10, duration=5):\n",
    "    \"\"\"Extracts a fingerprint from a short audio snippet\"\"\"\n",
    "    try:\n",
    "        # Load only a small snippet of the audio file\n",
    "        y, sr = librosa.load(file_path, sr=44100, offset=start_time, duration=duration)\n",
    "        \n",
    "        # Compute spectrogram\n",
    "        D = librosa.amplitude_to_db(np.abs(librosa.stft(y)), ref=np.max)\n",
    "        \n",
    "        # Get peaks (top 5% of intensities)\n",
    "        peaks = np.argwhere(D > np.percentile(D, 95))\n",
    "        \n",
    "        return peaks  # Return the fingerprint\n",
    "\n",
    "    except Exception as e:\n",
    "        print(f\"⚠️ Error processing snippet: {e}\")\n",
    "        return None\n",
    "\n",
    "def find_closest_match(snippet_fingerprint):\n",
    "    \"\"\"Find the song with the closest matching fingerprint\"\"\"\n",
    "    best_match = None\n",
    "    best_score = float('inf')  # Lower score means better match\n",
    "\n",
    "    for fingerprint_file in os.listdir(fingerprints_folder):\n",
    "        if fingerprint_file.endswith(\".npy\"):\n",
    "            song_fingerprint = np.load(os.path.join(fingerprints_folder, fingerprint_file))\n",
    "            \n",
    "            # Compare snippet fingerprint to full song fingerprint\n",
    "            difference = len(set(map(tuple, snippet_fingerprint)) - set(map(tuple, song_fingerprint)))\n",
    "\n",
    "            if difference < best_score:  # Lower difference means better match\n",
    "                best_score = difference\n",
    "                best_match = fingerprint_file.replace(\".npy\", \"\")\n",
    "\n",
    "    return best_match if best_match else \"No match found\"\n",
    "\n",
    "# Test with a snippet from a song\n",
    "test_song = os.path.join(songs_folder, \"Michael Jackson - Billie Jean (Official Video).mp3\")  # Change this to an actual song in your database\n",
    "snippet_fingerprint = generate_snippet_fingerprint(test_song)\n",
    "\n",
    "if snippet_fingerprint is not None:\n",
    "    match = find_closest_match(snippet_fingerprint)\n",
    "    print(f\"Closest match: {match}\")"
   ]
  }
 ],
 "metadata": {
  "kernelspec": {
   "display_name": "Python 3 (ipykernel)",
   "language": "python",
   "name": "python3"
  },
  "language_info": {
   "codemirror_mode": {
    "name": "ipython",
    "version": 3
   },
   "file_extension": ".py",
   "mimetype": "text/x-python",
   "name": "python",
   "nbconvert_exporter": "python",
   "pygments_lexer": "ipython3",
   "version": "3.11.2"
  }
 },
 "nbformat": 4,
 "nbformat_minor": 5
}
