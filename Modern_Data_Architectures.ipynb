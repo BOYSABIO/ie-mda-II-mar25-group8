{
 "cells": [
  {
   "cell_type": "markdown",
   "id": "0dab8917-e629-4826-b1b5-a1f9b6d40d88",
   "metadata": {},
   "source": [
    "# Modern Data Architectures Group Project"
   ]
  },
  {
   "cell_type": "code",
   "execution_count": 2,
   "id": "063b331f-8003-400f-9b9c-1c62282024bf",
   "metadata": {},
   "outputs": [
    {
     "name": "stdout",
     "output_type": "stream",
     "text": [
      "Collecting yt-dlp\n",
      "  Downloading yt_dlp-2025.2.19-py3-none-any.whl.metadata (171 kB)\n",
      "Downloading yt_dlp-2025.2.19-py3-none-any.whl (3.2 MB)\n",
      "\u001b[2K   \u001b[90m━━━━━━━━━━━━━━━━━━━━━━━━━━━━━━━━━━━━━━━━\u001b[0m \u001b[32m3.2/3.2 MB\u001b[0m \u001b[31m35.4 MB/s\u001b[0m eta \u001b[36m0:00:00\u001b[0m\n",
      "\u001b[?25hInstalling collected packages: yt-dlp\n",
      "Successfully installed yt-dlp-2025.2.19\n",
      "\n",
      "\u001b[1m[\u001b[0m\u001b[34;49mnotice\u001b[0m\u001b[1;39;49m]\u001b[0m\u001b[39;49m A new release of pip is available: \u001b[0m\u001b[31;49m25.0\u001b[0m\u001b[39;49m -> \u001b[0m\u001b[32;49m25.0.1\u001b[0m\n",
      "\u001b[1m[\u001b[0m\u001b[34;49mnotice\u001b[0m\u001b[1;39;49m]\u001b[0m\u001b[39;49m To update, run: \u001b[0m\u001b[32;49mpython3 -m pip install --upgrade pip\u001b[0m\n",
      "Note: you may need to restart the kernel to use updated packages.\n"
     ]
    }
   ],
   "source": [
    "pip install yt-dlp"
   ]
  },
  {
   "cell_type": "code",
   "execution_count": 1,
   "id": "a4694d6d-cf35-428a-a258-57a78903d507",
   "metadata": {},
   "outputs": [
    {
     "ename": "ModuleNotFoundError",
     "evalue": "No module named 'yt_dlp'",
     "output_type": "error",
     "traceback": [
      "\u001b[0;31m---------------------------------------------------------------------------\u001b[0m",
      "\u001b[0;31mModuleNotFoundError\u001b[0m                       Traceback (most recent call last)",
      "Cell \u001b[0;32mIn[1], line 1\u001b[0m\n\u001b[0;32m----> 1\u001b[0m \u001b[38;5;28;01mimport\u001b[39;00m \u001b[38;5;21;01myt_dlp\u001b[39;00m\n\u001b[1;32m      2\u001b[0m \u001b[38;5;28;01mimport\u001b[39;00m \u001b[38;5;21;01mos\u001b[39;00m\n\u001b[1;32m      4\u001b[0m FFMPEG_PATH \u001b[38;5;241m=\u001b[39m \u001b[38;5;124m\"\u001b[39m\u001b[38;5;124m/home/osbdet/ffmpeg\u001b[39m\u001b[38;5;124m\"\u001b[39m  \u001b[38;5;66;03m# Adjust if needed\u001b[39;00m\n",
      "\u001b[0;31mModuleNotFoundError\u001b[0m: No module named 'yt_dlp'"
     ]
    }
   ],
   "source": [
    "import yt_dlp\n",
    "import os\n",
    "\n",
    "FFMPEG_PATH = \"/home/osbdet/ffmpeg\"  # Adjust if needed\n",
    "\n",
    "# Create download directory\n",
    "download_path = \"songs\"\n",
    "os.makedirs(download_path, exist_ok=True)\n",
    "\n",
    "def download_song(song_name):\n",
    "    \"\"\"Download a song from YouTube and force MP3 conversion\"\"\"\n",
    "    ydl_opts = {\n",
    "        'format': 'bestaudio/best',\n",
    "        'default_search': 'ytsearch1',\n",
    "        'noplaylist': True,\n",
    "        'outtmpl': f'{download_path}/%(title)s.%(ext)s',\n",
    "        'ffmpeg_location': FFMPEG_PATH,\n",
    "        'postprocessors': [{\n",
    "            'key': 'FFmpegExtractAudio',\n",
    "            'preferredcodec': 'mp3',\n",
    "            'preferredquality': '192',\n",
    "        }],\n",
    "        'quiet': False  # You can set this to True if you want cleaner output\n",
    "    }\n",
    "    \n",
    "    with yt_dlp.YoutubeDL(ydl_opts) as ydl:\n",
    "        ydl.download([song_name])\n",
    "    \n",
    "    print(f\"[INFO] Downloaded and converted: {song_name}\")\n",
    "\n",
    "try:\n",
    "    with open(\"songs_list.txt\", \"r\") as f:\n",
    "        songs = [line.strip() for line in f if line.strip()]\n",
    "except FileNotFoundError:\n",
    "    print(\"[ERROR] songs_list.txt not found in the current directory.\")\n",
    "    songs = []\n",
    "\n",
    "for song in songs:\n",
    "    try:\n",
    "        download_song(song)\n",
    "    except Exception as e:\n",
    "        print(f\"[WARNING] Skipped due to error: {song}\")\n",
    "        print(e)"
   ]
  },
  {
   "cell_type": "code",
   "execution_count": 2,
   "id": "4093c749-b25a-458c-b88b-d3e25d15029b",
   "metadata": {},
   "outputs": [
    {
     "data": {
      "text/plain": [
       "'/home/osbdet/notebooks/spark/Modern-Data-Architectures'"
      ]
     },
     "execution_count": 2,
     "metadata": {},
     "output_type": "execute_result"
    }
   ],
   "source": [
    "pwd"
   ]
  },
  {
   "cell_type": "code",
   "execution_count": 2,
   "id": "b518ce1a",
   "metadata": {},
   "outputs": [
    {
     "name": "stderr",
     "output_type": "stream",
     "text": [
      "ffmpeg version 5.1.6-0+deb12u1 Copyright (c) 2000-2024 the FFmpeg developers\n",
      "  built with gcc 12 (Debian 12.2.0-14)\n",
      "  configuration: --prefix=/usr --extra-version=0+deb12u1 --toolchain=hardened --libdir=/usr/lib/x86_64-linux-gnu --incdir=/usr/include/x86_64-linux-gnu --arch=amd64 --enable-gpl --disable-stripping --enable-gnutls --enable-ladspa --enable-libaom --enable-libass --enable-libbluray --enable-libbs2b --enable-libcaca --enable-libcdio --enable-libcodec2 --enable-libdav1d --enable-libflite --enable-libfontconfig --enable-libfreetype --enable-libfribidi --enable-libglslang --enable-libgme --enable-libgsm --enable-libjack --enable-libmp3lame --enable-libmysofa --enable-libopenjpeg --enable-libopenmpt --enable-libopus --enable-libpulse --enable-librabbitmq --enable-librist --enable-librubberband --enable-libshine --enable-libsnappy --enable-libsoxr --enable-libspeex --enable-libsrt --enable-libssh --enable-libsvtav1 --enable-libtheora --enable-libtwolame --enable-libvidstab --enable-libvorbis --enable-libvpx --enable-libwebp --enable-libx265 --enable-libxml2 --enable-libxvid --enable-libzimg --enable-libzmq --enable-libzvbi --enable-lv2 --enable-omx --enable-openal --enable-opencl --enable-opengl --enable-sdl2 --disable-sndio --enable-libjxl --enable-pocketsphinx --enable-librsvg --enable-libmfx --enable-libdc1394 --enable-libdrm --enable-libiec61883 --enable-chromaprint --enable-frei0r --enable-libx264 --enable-libplacebo --enable-librav1e --enable-shared\n",
      "  libavutil      57. 28.100 / 57. 28.100\n",
      "  libavcodec     59. 37.100 / 59. 37.100\n",
      "  libavformat    59. 27.100 / 59. 27.100\n",
      "  libavdevice    59.  7.100 / 59.  7.100\n",
      "  libavfilter     8. 44.100 /  8. 44.100\n",
      "  libswscale      6.  7.100 /  6.  7.100\n",
      "  libswresample   4.  7.100 /  4.  7.100\n",
      "  libpostproc    56.  6.100 / 56.  6.100\n",
      "Input #0, matroska,webm, from '/home/osbdet/notebooks/spark/Modern-Data-Architectures/songs/Michael Jackson - Billie Jean (Official Video).webm':\n",
      "  Metadata:\n",
      "    encoder         : google/video-file\n",
      "  Duration: 00:04:55.86, start: -0.007000, bitrate: 133 kb/s\n",
      "  Stream #0:0(eng): Audio: opus, 48000 Hz, stereo, fltp (default)\n",
      "Stream mapping:\n",
      "  Stream #0:0 -> #0:0 (opus (native) -> mp3 (libmp3lame))\n",
      "Press [q] to stop, [?] for help\n",
      "Output #0, mp3, to '/home/osbdet/notebooks/spark/Modern-Data-Architectures/songs_mp3/Michael Jackson - Billie Jean (Official Video).mp3':\n",
      "  Metadata:\n",
      "    TSSE            : Lavf59.27.100\n",
      "  Stream #0:0(eng): Audio: mp3, 48000 Hz, stereo, fltp, 192 kb/s (default)\n",
      "    Metadata:\n",
      "      encoder         : Lavc59.37.100 libmp3lame\n",
      "size=    6400kB time=00:04:42.60 bitrate= 185.5kbits/s speed=56.5x    \r"
     ]
    },
    {
     "name": "stdout",
     "output_type": "stream",
     "text": [
      "✅ Converted: Michael Jackson - Billie Jean (Official Video).webm -> /home/osbdet/notebooks/spark/Modern-Data-Architectures/songs_mp3/Michael Jackson - Billie Jean (Official Video).mp3\n"
     ]
    },
    {
     "name": "stderr",
     "output_type": "stream",
     "text": [
      "size=    6935kB time=00:04:55.85 bitrate= 192.0kbits/s speed=55.1x    \n",
      "video:0kB audio:6934kB subtitle:0kB other streams:0kB global headers:0kB muxing overhead: 0.008745%\n"
     ]
    }
   ],
   "source": [
    "import os\n",
    "import subprocess\n",
    "\n",
    "# FFMPEG_PATH = \"/home/osbdet/ffmpeg\"  # Ensure this path is correct\n",
    "\n",
    "# Define input (where your WEBM files are) and output folders\n",
    "input_folder = \"/home/osbdet/notebooks/spark/Modern-Data-Architectures/songs\"  \n",
    "output_folder = \"/home/osbdet/notebooks/spark/Modern-Data-Architectures/songs_mp3\"\n",
    "os.makedirs(output_folder, exist_ok=True)  \n",
    "\n",
    "def convert_webm_to_mp3():\n",
    "    \"\"\"Convert all .webm files in a folder to .mp3\"\"\"\n",
    "    for file in os.listdir(input_folder):\n",
    "        if file.endswith(\".webm\"):\n",
    "            input_path = os.path.join(input_folder, file)\n",
    "            output_path = os.path.join(output_folder, file.replace(\".webm\", \".mp3\"))\n",
    "            \n",
    "            # Use full path to FFmpeg\n",
    "            command = [\"ffmpeg\", \"-i\", input_path, \"-vn\", \"-ab\", \"192k\", output_path]\n",
    "            \n",
    "            # Run FFmpeg command\n",
    "            try:\n",
    "                subprocess.run(command, check=True)\n",
    "                print(f\"Converted: {file} -> {output_path}\")\n",
    "            except FileNotFoundError:\n",
    "                print(f\"Error: FFmpeg not found at {FFMPEG_PATH}\")\n",
    "                break\n",
    "            except subprocess.CalledProcessError as e:\n",
    "                print(f\"FFmpeg Error: {e}\")\n",
    "                break\n",
    "\n",
    "convert_webm_to_mp3()"
   ]
  },
  {
   "cell_type": "code",
   "execution_count": 4,
   "id": "c62f942c-1966-4e36-9db1-eb81023a5662",
   "metadata": {},
   "outputs": [
    {
     "name": "stdout",
     "output_type": "stream",
     "text": [
      "Collecting librosa\n",
      "  Downloading librosa-0.10.2.post1-py3-none-any.whl.metadata (8.6 kB)\n",
      "Collecting audioread>=2.1.9 (from librosa)\n",
      "  Downloading audioread-3.0.1-py3-none-any.whl.metadata (8.4 kB)\n",
      "Requirement already satisfied: numpy!=1.22.0,!=1.22.1,!=1.22.2,>=1.20.3 in /home/osbdet/.jupyter_venv/lib/python3.11/site-packages (from librosa) (1.26.2)\n",
      "Requirement already satisfied: scipy>=1.2.0 in /home/osbdet/.jupyter_venv/lib/python3.11/site-packages (from librosa) (1.11.4)\n",
      "Collecting scikit-learn>=0.20.0 (from librosa)\n",
      "  Downloading scikit_learn-1.6.1-cp311-cp311-manylinux_2_17_x86_64.manylinux2014_x86_64.whl.metadata (18 kB)\n",
      "Collecting joblib>=0.14 (from librosa)\n",
      "  Downloading joblib-1.4.2-py3-none-any.whl.metadata (5.4 kB)\n",
      "Requirement already satisfied: decorator>=4.3.0 in /home/osbdet/.jupyter_venv/lib/python3.11/site-packages (from librosa) (5.1.1)\n",
      "Collecting numba>=0.51.0 (from librosa)\n",
      "  Downloading numba-0.61.0-cp311-cp311-manylinux2014_x86_64.manylinux_2_17_x86_64.whl.metadata (2.8 kB)\n",
      "Collecting soundfile>=0.12.1 (from librosa)\n",
      "  Downloading soundfile-0.13.1-py2.py3-none-manylinux_2_28_x86_64.whl.metadata (16 kB)\n",
      "Collecting pooch>=1.1 (from librosa)\n",
      "  Downloading pooch-1.8.2-py3-none-any.whl.metadata (10 kB)\n",
      "Collecting soxr>=0.3.2 (from librosa)\n",
      "  Downloading soxr-0.5.0.post1-cp311-cp311-manylinux_2_17_x86_64.manylinux2014_x86_64.whl.metadata (5.6 kB)\n",
      "Requirement already satisfied: typing-extensions>=4.1.1 in /home/osbdet/.jupyter_venv/lib/python3.11/site-packages (from librosa) (4.9.0)\n",
      "Collecting lazy-loader>=0.1 (from librosa)\n",
      "  Downloading lazy_loader-0.4-py3-none-any.whl.metadata (7.6 kB)\n",
      "Collecting msgpack>=1.0 (from librosa)\n",
      "  Downloading msgpack-1.1.0-cp311-cp311-manylinux_2_17_x86_64.manylinux2014_x86_64.whl.metadata (8.4 kB)\n",
      "Requirement already satisfied: packaging in /home/osbdet/.jupyter_venv/lib/python3.11/site-packages (from lazy-loader>=0.1->librosa) (23.2)\n",
      "Collecting llvmlite<0.45,>=0.44.0dev0 (from numba>=0.51.0->librosa)\n",
      "  Downloading llvmlite-0.44.0-cp311-cp311-manylinux_2_17_x86_64.manylinux2014_x86_64.whl.metadata (4.8 kB)\n",
      "Requirement already satisfied: platformdirs>=2.5.0 in /home/osbdet/.jupyter_venv/lib/python3.11/site-packages (from pooch>=1.1->librosa) (4.1.0)\n",
      "Requirement already satisfied: requests>=2.19.0 in /home/osbdet/.jupyter_venv/lib/python3.11/site-packages (from pooch>=1.1->librosa) (2.31.0)\n",
      "Collecting threadpoolctl>=3.1.0 (from scikit-learn>=0.20.0->librosa)\n",
      "  Downloading threadpoolctl-3.5.0-py3-none-any.whl.metadata (13 kB)\n",
      "Requirement already satisfied: cffi>=1.0 in /home/osbdet/.jupyter_venv/lib/python3.11/site-packages (from soundfile>=0.12.1->librosa) (1.16.0)\n",
      "Requirement already satisfied: pycparser in /home/osbdet/.jupyter_venv/lib/python3.11/site-packages (from cffi>=1.0->soundfile>=0.12.1->librosa) (2.21)\n",
      "Requirement already satisfied: charset-normalizer<4,>=2 in /home/osbdet/.jupyter_venv/lib/python3.11/site-packages (from requests>=2.19.0->pooch>=1.1->librosa) (3.3.2)\n",
      "Requirement already satisfied: idna<4,>=2.5 in /home/osbdet/.jupyter_venv/lib/python3.11/site-packages (from requests>=2.19.0->pooch>=1.1->librosa) (3.6)\n",
      "Requirement already satisfied: urllib3<3,>=1.21.1 in /home/osbdet/.jupyter_venv/lib/python3.11/site-packages (from requests>=2.19.0->pooch>=1.1->librosa) (2.1.0)\n",
      "Requirement already satisfied: certifi>=2017.4.17 in /home/osbdet/.jupyter_venv/lib/python3.11/site-packages (from requests>=2.19.0->pooch>=1.1->librosa) (2023.11.17)\n",
      "Downloading librosa-0.10.2.post1-py3-none-any.whl (260 kB)\n",
      "Downloading audioread-3.0.1-py3-none-any.whl (23 kB)\n",
      "Downloading joblib-1.4.2-py3-none-any.whl (301 kB)\n",
      "Downloading lazy_loader-0.4-py3-none-any.whl (12 kB)\n",
      "Downloading msgpack-1.1.0-cp311-cp311-manylinux_2_17_x86_64.manylinux2014_x86_64.whl (403 kB)\n",
      "Downloading numba-0.61.0-cp311-cp311-manylinux2014_x86_64.manylinux_2_17_x86_64.whl (3.8 MB)\n",
      "\u001b[2K   \u001b[90m━━━━━━━━━━━━━━━━━━━━━━━━━━━━━━━━━━━━━━━━\u001b[0m \u001b[32m3.8/3.8 MB\u001b[0m \u001b[31m58.5 MB/s\u001b[0m eta \u001b[36m0:00:00\u001b[0m\n",
      "\u001b[?25hDownloading pooch-1.8.2-py3-none-any.whl (64 kB)\n",
      "Downloading scikit_learn-1.6.1-cp311-cp311-manylinux_2_17_x86_64.manylinux2014_x86_64.whl (13.5 MB)\n",
      "\u001b[2K   \u001b[90m━━━━━━━━━━━━━━━━━━━━━━━━━━━━━━━━━━━━━━━━\u001b[0m \u001b[32m13.5/13.5 MB\u001b[0m \u001b[31m58.1 MB/s\u001b[0m eta \u001b[36m0:00:00\u001b[0m00:01\u001b[0m\n",
      "\u001b[?25hDownloading soundfile-0.13.1-py2.py3-none-manylinux_2_28_x86_64.whl (1.3 MB)\n",
      "\u001b[2K   \u001b[90m━━━━━━━━━━━━━━━━━━━━━━━━━━━━━━━━━━━━━━━━\u001b[0m \u001b[32m1.3/1.3 MB\u001b[0m \u001b[31m78.9 MB/s\u001b[0m eta \u001b[36m0:00:00\u001b[0m\n",
      "\u001b[?25hDownloading soxr-0.5.0.post1-cp311-cp311-manylinux_2_17_x86_64.manylinux2014_x86_64.whl (252 kB)\n",
      "Downloading llvmlite-0.44.0-cp311-cp311-manylinux_2_17_x86_64.manylinux2014_x86_64.whl (42.4 MB)\n",
      "\u001b[2K   \u001b[90m━━━━━━━━━━━━━━━━━━━━━━━━━━━━━━━━━━━━━━━━\u001b[0m \u001b[32m42.4/42.4 MB\u001b[0m \u001b[31m39.1 MB/s\u001b[0m eta \u001b[36m0:00:00\u001b[0m00:01\u001b[0m00:01\u001b[0m\n",
      "\u001b[?25hDownloading threadpoolctl-3.5.0-py3-none-any.whl (18 kB)\n",
      "Installing collected packages: threadpoolctl, soxr, msgpack, llvmlite, lazy-loader, joblib, audioread, soundfile, scikit-learn, pooch, numba, librosa\n",
      "Successfully installed audioread-3.0.1 joblib-1.4.2 lazy-loader-0.4 librosa-0.10.2.post1 llvmlite-0.44.0 msgpack-1.1.0 numba-0.61.0 pooch-1.8.2 scikit-learn-1.6.1 soundfile-0.13.1 soxr-0.5.0.post1 threadpoolctl-3.5.0\n",
      "\n",
      "\u001b[1m[\u001b[0m\u001b[34;49mnotice\u001b[0m\u001b[1;39;49m]\u001b[0m\u001b[39;49m A new release of pip is available: \u001b[0m\u001b[31;49m25.0\u001b[0m\u001b[39;49m -> \u001b[0m\u001b[32;49m25.0.1\u001b[0m\n",
      "\u001b[1m[\u001b[0m\u001b[34;49mnotice\u001b[0m\u001b[1;39;49m]\u001b[0m\u001b[39;49m To update, run: \u001b[0m\u001b[32;49mpython3 -m pip install --upgrade pip\u001b[0m\n",
      "Note: you may need to restart the kernel to use updated packages.\n"
     ]
    }
   ],
   "source": [
    "pip install librosa"
   ]
  },
  {
   "cell_type": "code",
   "execution_count": 5,
   "id": "8eae78ad",
   "metadata": {},
   "outputs": [
    {
     "name": "stdout",
     "output_type": "stream",
     "text": [
      "✅ Fingerprint created for Michael Jackson - Billie Jean (Official Video).mp3\n"
     ]
    }
   ],
   "source": [
    "import librosa\n",
    "import librosa.display\n",
    "import numpy as np\n",
    "import os\n",
    "import matplotlib.pyplot as plt\n",
    "\n",
    "# Define folder containing MP3 files\n",
    "input_folder = \"songs_mp3\"  \n",
    "output_folder = \"fingerprints\"\n",
    "os.makedirs(output_folder, exist_ok=True)  \n",
    "\n",
    "def generate_fingerprint(file_path):\n",
    "    \"\"\"Extracts a fingerprint (spectrogram peaks) from an audio file\"\"\"\n",
    "    try:\n",
    "        # Load audio file\n",
    "        y, sr = librosa.load(file_path, sr=44100)\n",
    "        \n",
    "        # Compute Spectrogram\n",
    "        D = librosa.amplitude_to_db(np.abs(librosa.stft(y)), ref=np.max)\n",
    "        \n",
    "        # Get peaks in the spectrogram (Shazam-like fingerprinting)\n",
    "        peaks = np.argwhere(D > np.percentile(D, 95))  # Extract top 5% peaks\n",
    "        \n",
    "        # Convert peaks into a unique fingerprint\n",
    "        fingerprint = peaks.tolist()  # Convert to list format\n",
    "        \n",
    "        # Save fingerprint as a NumPy file\n",
    "        fingerprint_file = os.path.join(output_folder, os.path.basename(file_path).replace(\".mp3\", \".npy\"))\n",
    "        np.save(fingerprint_file, fingerprint)\n",
    "        \n",
    "        print(f\"Fingerprint created for {os.path.basename(file_path)}\")\n",
    "\n",
    "        plt.figure(figsize=(10, 6))\n",
    "        librosa.display.specshow(D, sr=sr, x_axis=\"time\", y_axis=\"log\")\n",
    "        plt.colorbar(format=\"%+2.0f dB\")\n",
    "        plt.title(f\"Spectrogram - {os.path.basename(file_path)}\")\n",
    "        plt.savefig(f\"{file_path.replace('.mp3', '.png')}\")\n",
    "        plt.close()\n",
    "\n",
    "    except Exception as e:\n",
    "        print(f\"Error processing {file_path}: {e}\")\n",
    "\n",
    "# Process all MP3 files in the folder\n",
    "for file in os.listdir(input_folder):\n",
    "    if file.endswith(\".mp3\"):\n",
    "        file_path = os.path.join(input_folder, file)\n",
    "        generate_fingerprint(file_path)"
   ]
  },
  {
   "cell_type": "code",
   "execution_count": 6,
   "id": "80604abd",
   "metadata": {},
   "outputs": [
    {
     "name": "stdout",
     "output_type": "stream",
     "text": [
      "🔍 Closest match: Michael Jackson - Billie Jean (Official Video)\n"
     ]
    }
   ],
   "source": [
    "import librosa\n",
    "import numpy as np\n",
    "import os\n",
    "\n",
    "# Define folders\n",
    "songs_folder = \"songs_mp3\"  # Full song database\n",
    "fingerprints_folder = \"fingerprints\"  # Precomputed fingerprints\n",
    "\n",
    "def generate_snippet_fingerprint(file_path, start_time=10, duration=5):\n",
    "    \"\"\"Extracts a fingerprint from a short audio snippet\"\"\"\n",
    "    try:\n",
    "        # Load only a small snippet of the audio file\n",
    "        y, sr = librosa.load(file_path, sr=44100, offset=start_time, duration=duration)\n",
    "        \n",
    "        # Compute spectrogram\n",
    "        D = librosa.amplitude_to_db(np.abs(librosa.stft(y)), ref=np.max)\n",
    "        \n",
    "        # Get peaks (top 5% of intensities)\n",
    "        peaks = np.argwhere(D > np.percentile(D, 95))\n",
    "        \n",
    "        return peaks  # Return the fingerprint\n",
    "\n",
    "    except Exception as e:\n",
    "        print(f\"Error processing snippet: {e}\")\n",
    "        return None\n",
    "\n",
    "def find_closest_match(snippet_fingerprint):\n",
    "    \"\"\"Find the song with the closest matching fingerprint\"\"\"\n",
    "    best_match = None\n",
    "    best_score = float('inf')  # Lower score means better match\n",
    "\n",
    "    for fingerprint_file in os.listdir(fingerprints_folder):\n",
    "        if fingerprint_file.endswith(\".npy\"):\n",
    "            song_fingerprint = np.load(os.path.join(fingerprints_folder, fingerprint_file))\n",
    "            \n",
    "            # Compare snippet fingerprint to full song fingerprint\n",
    "            difference = len(set(map(tuple, snippet_fingerprint)) - set(map(tuple, song_fingerprint)))\n",
    "\n",
    "            if difference < best_score:  # Lower difference means better match\n",
    "                best_score = difference\n",
    "                best_match = fingerprint_file.replace(\".npy\", \"\")\n",
    "\n",
    "    return best_match if best_match else \"No match found\"\n",
    "\n",
    "# Test with a snippet from a song\n",
    "test_song = os.path.join(songs_folder, \"Michael Jackson - Billie Jean (Official Video).mp3\")  # Change this to an actual song in your database\n",
    "snippet_fingerprint = generate_snippet_fingerprint(test_song)\n",
    "\n",
    "if snippet_fingerprint is not None:\n",
    "    match = find_closest_match(snippet_fingerprint)\n",
    "    print(f\"Closest match: {match}\")"
   ]
  }
 ],
 "metadata": {
  "kernelspec": {
   "display_name": "Python 3 (ipykernel)",
   "language": "python",
   "name": "python3"
  },
  "language_info": {
   "codemirror_mode": {
    "name": "ipython",
    "version": 3
   },
   "file_extension": ".py",
   "mimetype": "text/x-python",
   "name": "python",
   "nbconvert_exporter": "python",
   "pygments_lexer": "ipython3",
   "version": "3.11.2"
  }
 },
 "nbformat": 4,
 "nbformat_minor": 5
}
