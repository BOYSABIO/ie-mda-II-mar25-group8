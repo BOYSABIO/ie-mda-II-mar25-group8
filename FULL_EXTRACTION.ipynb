{
 "cells": [
  {
   "cell_type": "code",
   "execution_count": 1,
   "metadata": {},
   "outputs": [],
   "source": [
    "import os\n",
    "import librosa\n",
    "import numpy as np\n",
    "from scipy.ndimage import maximum_filter\n",
    "\n",
    "def get_audio_files_from_dir(directory, extensions={\".wav\", \".mp3\"}):\n",
    "    return [\n",
    "        os.path.join(directory, f)\n",
    "        for f in os.listdir(directory)\n",
    "        if os.path.splitext(f)[1].lower() in extensions\n",
    "    ]\n",
    "\n",
    "def get_spectrogram_peaks(y, sr, n_fft=4096, hop_length=512, threshold_db=-30):\n",
    "    S = np.abs(librosa.stft(y, n_fft=n_fft, hop_length=hop_length))\n",
    "    S_db = librosa.amplitude_to_db(S, ref=np.max)\n",
    "    \n",
    "    # Local maxima detection\n",
    "    neighborhood_size = (20, 20)\n",
    "    local_max = (S_db == maximum_filter(S_db, footprint=np.ones(neighborhood_size)))\n",
    "    peaks = np.argwhere(local_max & (S_db > threshold_db))  # (freq_bin, time_bin)\n",
    "\n",
    "    return peaks\n",
    "\n",
    "def generate_peak_pairs(peaks, fanout=5, time_window=50):\n",
    "    pairs = []\n",
    "    for i in range(len(peaks)):\n",
    "        freq1, t1 = peaks[i]\n",
    "        for j in range(1, fanout):\n",
    "            if i + j < len(peaks):\n",
    "                freq2, t2 = peaks[i + j]\n",
    "                delta_t = t2 - t1\n",
    "                if 0 < delta_t <= time_window:\n",
    "                    pairs.append((freq1, freq2, delta_t, t1))\n",
    "    return pairs\n",
    "\n",
    "def process_audio_directory(directory_path):\n",
    "    all_fingerprints = []\n",
    "    audio_files = get_audio_files_from_dir(directory_path)\n",
    "\n",
    "    for audio_path in audio_files:\n",
    "        try:\n",
    "            filename = os.path.basename(audio_path)\n",
    "            y, sr = librosa.load(audio_path, sr=None, mono=True)\n",
    "            peaks = get_spectrogram_peaks(y, sr)\n",
    "            peak_pairs = generate_peak_pairs(peaks)\n",
    "\n",
    "            for (freq1, freq2, delta_t, anchor_time) in peak_pairs:\n",
    "                all_fingerprints.append((filename, int(freq1), int(freq2), int(delta_t), int(anchor_time)))\n",
    "        except Exception as e:\n",
    "            print(f\"[ERROR] Skipping {audio_path}: {e}\")\n",
    "\n",
    "    return all_fingerprints"
   ]
  },
  {
   "cell_type": "code",
   "execution_count": 2,
   "metadata": {},
   "outputs": [
    {
     "name": "stdout",
     "output_type": "stream",
     "text": [
      "Processing songs in: songs_mp3\n"
     ]
    }
   ],
   "source": [
    "directory_path = \"songs_mp3\"  # Change this to your folder path if needed\n",
    "\n",
    "print(f\"Processing songs in: {directory_path}\")\n",
    "all_fingerprints = process_audio_directory(directory_path)"
   ]
  },
  {
   "cell_type": "code",
   "execution_count": 3,
   "metadata": {},
   "outputs": [
    {
     "data": {
      "text/html": [
       "<div>\n",
       "<style scoped>\n",
       "    .dataframe tbody tr th:only-of-type {\n",
       "        vertical-align: middle;\n",
       "    }\n",
       "\n",
       "    .dataframe tbody tr th {\n",
       "        vertical-align: top;\n",
       "    }\n",
       "\n",
       "    .dataframe thead th {\n",
       "        text-align: right;\n",
       "    }\n",
       "</style>\n",
       "<table border=\"1\" class=\"dataframe\">\n",
       "  <thead>\n",
       "    <tr style=\"text-align: right;\">\n",
       "      <th></th>\n",
       "      <th>filename</th>\n",
       "      <th>freq1</th>\n",
       "      <th>freq2</th>\n",
       "      <th>delta_time</th>\n",
       "      <th>anchor_time</th>\n",
       "    </tr>\n",
       "  </thead>\n",
       "  <tbody>\n",
       "    <tr>\n",
       "      <th>0</th>\n",
       "      <td>Billie Eilish - BIRDS OF A FEATHER (Official M...</td>\n",
       "      <td>3</td>\n",
       "      <td>3</td>\n",
       "      <td>21</td>\n",
       "      <td>17784</td>\n",
       "    </tr>\n",
       "    <tr>\n",
       "      <th>1</th>\n",
       "      <td>Billie Eilish - BIRDS OF A FEATHER (Official M...</td>\n",
       "      <td>3</td>\n",
       "      <td>3</td>\n",
       "      <td>20</td>\n",
       "      <td>18210</td>\n",
       "    </tr>\n",
       "    <tr>\n",
       "      <th>2</th>\n",
       "      <td>Billie Eilish - BIRDS OF A FEATHER (Official M...</td>\n",
       "      <td>4</td>\n",
       "      <td>4</td>\n",
       "      <td>20</td>\n",
       "      <td>15066</td>\n",
       "    </tr>\n",
       "    <tr>\n",
       "      <th>3</th>\n",
       "      <td>Billie Eilish - BIRDS OF A FEATHER (Official M...</td>\n",
       "      <td>4</td>\n",
       "      <td>4</td>\n",
       "      <td>37</td>\n",
       "      <td>15903</td>\n",
       "    </tr>\n",
       "    <tr>\n",
       "      <th>4</th>\n",
       "      <td>Billie Eilish - BIRDS OF A FEATHER (Official M...</td>\n",
       "      <td>4</td>\n",
       "      <td>4</td>\n",
       "      <td>39</td>\n",
       "      <td>17654</td>\n",
       "    </tr>\n",
       "  </tbody>\n",
       "</table>\n",
       "</div>"
      ],
      "text/plain": [
       "                                            filename  freq1  freq2  \\\n",
       "0  Billie Eilish - BIRDS OF A FEATHER (Official M...      3      3   \n",
       "1  Billie Eilish - BIRDS OF A FEATHER (Official M...      3      3   \n",
       "2  Billie Eilish - BIRDS OF A FEATHER (Official M...      4      4   \n",
       "3  Billie Eilish - BIRDS OF A FEATHER (Official M...      4      4   \n",
       "4  Billie Eilish - BIRDS OF A FEATHER (Official M...      4      4   \n",
       "\n",
       "   delta_time  anchor_time  \n",
       "0          21        17784  \n",
       "1          20        18210  \n",
       "2          20        15066  \n",
       "3          37        15903  \n",
       "4          39        17654  "
      ]
     },
     "execution_count": 3,
     "metadata": {},
     "output_type": "execute_result"
    }
   ],
   "source": [
    "import pandas as pd\n",
    "\n",
    "df = pd.DataFrame(\n",
    "    all_fingerprints,\n",
    "    columns=[\"filename\", \"freq1\", \"freq2\", \"delta_time\", \"anchor_time\"]\n",
    ")\n",
    "\n",
    "# Preview results\n",
    "df.head()"
   ]
  },
  {
   "cell_type": "code",
   "execution_count": 6,
   "metadata": {},
   "outputs": [
    {
     "name": "stdout",
     "output_type": "stream",
     "text": [
      "Saved to Flattened_Fingerprints.csv\n"
     ]
    }
   ],
   "source": [
    "df.to_csv(\"Flattened_Fingerprints.csv\", index=False)\n",
    "print(\"Saved to Flattened_Fingerprints.csv\")"
   ]
  },
  {
   "cell_type": "code",
   "execution_count": null,
   "metadata": {},
   "outputs": [],
   "source": [
    "import pandas as pd\n",
    "\n",
    "df = pd.DataFrame(all_fingerprints, columns=[\"filename\", \"freq1\", \"freq2\", \"delta_time\", \"anchor_time\"])\n",
    "df.to_csv(\"flattened_fingerprints.csv\", index=False)"
   ]
  }
 ],
 "metadata": {
  "kernelspec": {
   "display_name": "Python 3",
   "language": "python",
   "name": "python3"
  },
  "language_info": {
   "codemirror_mode": {
    "name": "ipython",
    "version": 3
   },
   "file_extension": ".py",
   "mimetype": "text/x-python",
   "name": "python",
   "nbconvert_exporter": "python",
   "pygments_lexer": "ipython3",
   "version": "3.13.2"
  }
 },
 "nbformat": 4,
 "nbformat_minor": 2
}
