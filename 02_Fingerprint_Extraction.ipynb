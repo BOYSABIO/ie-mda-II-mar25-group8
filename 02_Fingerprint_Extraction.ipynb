{
 "cells": [
  {
   "cell_type": "code",
   "execution_count": 0,
   "metadata": {
    "application/vnd.databricks.v1+cell": {
     "cellMetadata": {
      "byteLimit": 2048000,
      "rowLimit": 10000
     },
     "inputWidgets": {},
     "nuid": "d7e0e8db-2dc4-466c-b819-37040dff83dd",
     "showTitle": false,
     "tableResultSettingsMap": {},
     "title": ""
    }
   },
   "outputs": [
    {
     "output_type": "stream",
     "name": "stdout",
     "output_type": "stream",
     "text": [
      "Python interpreter will be restarted.\nCollecting librosa\n  Downloading librosa-0.11.0-py3-none-any.whl (260 kB)\nCollecting numpy>=1.22.3\n  Downloading numpy-2.0.2-cp39-cp39-manylinux_2_17_x86_64.manylinux2014_x86_64.whl (19.5 MB)\nCollecting numba>=0.51.0\n  Downloading numba-0.60.0-cp39-cp39-manylinux2014_x86_64.manylinux_2_17_x86_64.whl (3.7 MB)\nCollecting pooch>=1.1\n  Downloading pooch-1.8.2-py3-none-any.whl (64 kB)\nRequirement already satisfied: typing_extensions>=4.1.1 in /databricks/python3/lib/python3.9/site-packages (from librosa) (4.1.1)\nCollecting msgpack>=1.0\n  Downloading msgpack-1.1.0-cp39-cp39-manylinux_2_17_x86_64.manylinux2014_x86_64.whl (377 kB)\nCollecting audioread>=2.1.9\n  Downloading audioread-3.0.1-py3-none-any.whl (23 kB)\nRequirement already satisfied: decorator>=4.3.0 in /databricks/python3/lib/python3.9/site-packages (from librosa) (5.1.1)\nCollecting soundfile>=0.12.1\n  Downloading soundfile-0.13.1-py2.py3-none-manylinux_2_28_x86_64.whl (1.3 MB)\nRequirement already satisfied: joblib>=1.0 in /databricks/python3/lib/python3.9/site-packages (from librosa) (1.1.1)\nCollecting soxr>=0.3.2\n  Downloading soxr-0.5.0.post1-cp39-cp39-manylinux_2_17_x86_64.manylinux2014_x86_64.whl (253 kB)\nCollecting lazy_loader>=0.1\n  Downloading lazy_loader-0.4-py3-none-any.whl (12 kB)\nCollecting scikit-learn>=1.1.0\n  Downloading scikit_learn-1.6.1-cp39-cp39-manylinux_2_17_x86_64.manylinux2014_x86_64.whl (13.5 MB)\nRequirement already satisfied: scipy>=1.6.0 in /databricks/python3/lib/python3.9/site-packages (from librosa) (1.7.3)\nRequirement already satisfied: packaging in /databricks/python3/lib/python3.9/site-packages (from lazy_loader>=0.1->librosa) (21.3)\nCollecting llvmlite<0.44,>=0.43.0dev0\n  Downloading llvmlite-0.43.0-cp39-cp39-manylinux_2_17_x86_64.manylinux2014_x86_64.whl (43.9 MB)\nRequirement already satisfied: platformdirs>=2.5.0 in /usr/local/lib/python3.9/dist-packages (from pooch>=1.1->librosa) (2.6.2)\nRequirement already satisfied: requests>=2.19.0 in /databricks/python3/lib/python3.9/site-packages (from pooch>=1.1->librosa) (2.27.1)\nRequirement already satisfied: pyparsing!=3.0.5,>=2.0.2 in /databricks/python3/lib/python3.9/site-packages (from packaging->lazy_loader>=0.1->librosa) (3.0.4)\nRequirement already satisfied: charset-normalizer~=2.0.0 in /databricks/python3/lib/python3.9/site-packages (from requests>=2.19.0->pooch>=1.1->librosa) (2.0.4)\nRequirement already satisfied: idna<4,>=2.5 in /databricks/python3/lib/python3.9/site-packages (from requests>=2.19.0->pooch>=1.1->librosa) (3.3)\nRequirement already satisfied: certifi>=2017.4.17 in /databricks/python3/lib/python3.9/site-packages (from requests>=2.19.0->pooch>=1.1->librosa) (2021.10.8)\nRequirement already satisfied: urllib3<1.27,>=1.21.1 in /databricks/python3/lib/python3.9/site-packages (from requests>=2.19.0->pooch>=1.1->librosa) (1.26.9)\nCollecting joblib>=1.0\n  Downloading joblib-1.4.2-py3-none-any.whl (301 kB)\nCollecting threadpoolctl>=3.1.0\n  Downloading threadpoolctl-3.6.0-py3-none-any.whl (18 kB)\nCollecting numpy>=1.22.3\n  Downloading numpy-1.22.4-cp39-cp39-manylinux_2_17_x86_64.manylinux2014_x86_64.whl (16.8 MB)\nRequirement already satisfied: cffi>=1.0 in /databricks/python3/lib/python3.9/site-packages (from soundfile>=0.12.1->librosa) (1.15.0)\nRequirement already satisfied: pycparser in /databricks/python3/lib/python3.9/site-packages (from cffi>=1.0->soundfile>=0.12.1->librosa) (2.21)\nInstalling collected packages: numpy, threadpoolctl, llvmlite, joblib, soxr, soundfile, scikit-learn, pooch, numba, msgpack, lazy-loader, audioread, librosa\n  Attempting uninstall: numpy\n    Found existing installation: numpy 1.21.5\n    Not uninstalling numpy at /databricks/python3/lib/python3.9/site-packages, outside environment /local_disk0/.ephemeral_nfs/envs/pythonEnv-2ac62241-9a95-414a-b9f4-8c06488685e0\n    Can't uninstall 'numpy'. No files were found to uninstall.\n  Attempting uninstall: threadpoolctl\n    Found existing installation: threadpoolctl 2.2.0\n    Not uninstalling threadpoolctl at /databricks/python3/lib/python3.9/site-packages, outside environment /local_disk0/.ephemeral_nfs/envs/pythonEnv-2ac62241-9a95-414a-b9f4-8c06488685e0\n    Can't uninstall 'threadpoolctl'. No files were found to uninstall.\n  Attempting uninstall: joblib\n    Found existing installation: joblib 1.1.1\n    Not uninstalling joblib at /databricks/python3/lib/python3.9/site-packages, outside environment /local_disk0/.ephemeral_nfs/envs/pythonEnv-2ac62241-9a95-414a-b9f4-8c06488685e0\n    Can't uninstall 'joblib'. No files were found to uninstall.\n  Attempting uninstall: scikit-learn\n    Found existing installation: scikit-learn 1.0.2\n    Not uninstalling scikit-learn at /databricks/python3/lib/python3.9/site-packages, outside environment /local_disk0/.ephemeral_nfs/envs/pythonEnv-2ac62241-9a95-414a-b9f4-8c06488685e0\n    Can't uninstall 'scikit-learn'. No files were found to uninstall.\nSuccessfully installed audioread-3.0.1 joblib-1.4.2 lazy-loader-0.4 librosa-0.11.0 llvmlite-0.43.0 msgpack-1.1.0 numba-0.60.0 numpy-1.22.4 pooch-1.8.2 scikit-learn-1.6.1 soundfile-0.13.1 soxr-0.5.0.post1 threadpoolctl-3.6.0\nPython interpreter will be restarted.\n"
     ]
    }
   ],
   "source": [
    "pip install librosa"
   ]
  },
  {
   "cell_type": "code",
   "execution_count": 0,
   "metadata": {
    "application/vnd.databricks.v1+cell": {
     "cellMetadata": {
      "byteLimit": 2048000,
      "rowLimit": 10000
     },
     "inputWidgets": {},
     "nuid": "bfa3f6df-4e22-46ef-b4fd-5372d11e8e75",
     "showTitle": false,
     "tableResultSettingsMap": {},
     "title": ""
    }
   },
   "outputs": [],
   "source": [
    "\n",
    "from pyspark.sql import SparkSession\n",
    "from pyspark.sql.functions import col, pandas_udf\n",
    "from pyspark.sql.types import StructType, StructField, ArrayType, DoubleType, FloatType, StringType\n",
    "\n",
    "import os\n",
    "import librosa\n",
    "import numpy as np\n",
    "import pandas as pd\n",
    "\n",
    "spark = SparkSession.builder.appName(\"FingerprintExtraction\").getOrCreate()"
   ]
  },
  {
   "cell_type": "code",
   "execution_count": 0,
   "metadata": {
    "application/vnd.databricks.v1+cell": {
     "cellMetadata": {
      "byteLimit": 2048000,
      "rowLimit": 10000
     },
     "inputWidgets": {},
     "nuid": "ca0fd243-5cec-4e7b-9eb1-2eef1144b7ce",
     "showTitle": false,
     "tableResultSettingsMap": {},
     "title": ""
    }
   },
   "outputs": [
    {
     "output_type": "stream",
     "name": "stdout",
     "output_type": "stream",
     "text": [
      "+----------------------------------------------------------------------------------------------+\n|file_name                                                                                     |\n+----------------------------------------------------------------------------------------------+\n|dbfs:/FileStore/bronze/mp3/Kendrick_Lamar___Not_Like_Us.mp3                                   |\n|dbfs:/FileStore/bronze/mp3/Chappell_Roan___Pink_Pony_Club__Official_Music_Video_.mp3          |\n|dbfs:/FileStore/bronze/mp3/Lady_Gaga__Bruno_Mars___Die_With_A_Smile__Official_Music_Video_.mp3|\n|dbfs:/FileStore/bronze/mp3/PARTYNEXTDOOR___DRAKE___NOKIA__Official_Lyric_Video_.mp3           |\n|dbfs:/FileStore/bronze/mp3/Billie_Eilish___BIRDS_OF_A_FEATHER__Official_Music_Video_.mp3      |\n|dbfs:/FileStore/bronze/mp3/Kendrick_Lamar___tv_off__Official_Audio_.mp3                       |\n|dbfs:/FileStore/bronze/mp3/Teddy_Swims___Lose_Control__The_Village_Sessions_.mp3              |\n|dbfs:/FileStore/bronze/mp3/Kendrick_Lamar___luther__Official_Audio_.mp3                       |\n|dbfs:/FileStore/bronze/mp3/ROSE____Bruno_Mars___APT___Official_Music_Video_.mp3               |\n|dbfs:/FileStore/bronze/mp3/Shaboozey___A_Bar_Song__Tipsy___Official_Visualizer_.mp3           |\n+----------------------------------------------------------------------------------------------+\n\n"
     ]
    }
   ],
   "source": [
    "from pyspark.sql.functions import input_file_name\n",
    "import os\n",
    "\n",
    "# Read list of MP3 files in Bronze layer\n",
    "mp3_path = \"dbfs:/FileStore/bronze/mp3/\"\n",
    "\n",
    "# Create DataFrame from file paths\n",
    "df_mp3_files = spark.read.format(\"binaryFile\").load(mp3_path)\n",
    "df_mp3_files = df_mp3_files.withColumn(\"file_name\", input_file_name())\n",
    "df_mp3_files.select(\"file_name\").show(truncate=False)"
   ]
  },
  {
   "cell_type": "markdown",
   "metadata": {
    "application/vnd.databricks.v1+cell": {
     "cellMetadata": {},
     "inputWidgets": {},
     "nuid": "88b19d8d-59d7-40ca-a3c8-e463177b88c5",
     "showTitle": false,
     "tableResultSettingsMap": {},
     "title": ""
    }
   },
   "source": [
    "Define Fingerprint Extraction Function"
   ]
  },
  {
   "cell_type": "code",
   "execution_count": 0,
   "metadata": {
    "application/vnd.databricks.v1+cell": {
     "cellMetadata": {
      "byteLimit": 2048000,
      "rowLimit": 10000
     },
     "inputWidgets": {},
     "nuid": "4546267f-e566-4ff1-930f-bad86d108831",
     "showTitle": false,
     "tableResultSettingsMap": {},
     "title": ""
    }
   },
   "outputs": [],
   "source": [
    "import librosa\n",
    "import numpy as np\n",
    "\n",
    "def extract_fingerprint_from_path(local_path, top_percentile=95):\n",
    "    try:\n",
    "        y, sr = librosa.load(local_path, sr=44100)\n",
    "        D = librosa.amplitude_to_db(np.abs(librosa.stft(y)), ref=np.max)\n",
    "        threshold = np.percentile(D, top_percentile)\n",
    "        peaks = np.argwhere(D > threshold)  # (freq_bin, time_bin)\n",
    "\n",
    "        # Convert to flattened string format\n",
    "        flattened = [f\"{int(f)},{int(t)}\" for f, t in peaks]\n",
    "        return flattened\n",
    "    except Exception as e:\n",
    "        return [f\"error: {str(e)}\"]"
   ]
  },
  {
   "cell_type": "markdown",
   "metadata": {
    "application/vnd.databricks.v1+cell": {
     "cellMetadata": {},
     "inputWidgets": {},
     "nuid": "ba378b8e-6f23-4bf7-8d19-5f4b66e935e2",
     "showTitle": false,
     "tableResultSettingsMap": {},
     "title": ""
    }
   },
   "source": [
    "Register Spark UDF"
   ]
  },
  {
   "cell_type": "code",
   "execution_count": 0,
   "metadata": {
    "application/vnd.databricks.v1+cell": {
     "cellMetadata": {
      "byteLimit": 2048000,
      "rowLimit": 10000
     },
     "inputWidgets": {},
     "nuid": "bd743ce5-dacd-4f6f-93b0-f0a73594ce7b",
     "showTitle": false,
     "tableResultSettingsMap": {},
     "title": ""
    }
   },
   "outputs": [],
   "source": [
    "from pyspark.sql.functions import udf\n",
    "from pyspark.sql.types import ArrayType, StringType\n",
    "\n",
    "extract_fingerprint_udf = udf(extract_fingerprint_from_path, ArrayType(StringType()))"
   ]
  },
  {
   "cell_type": "markdown",
   "metadata": {
    "application/vnd.databricks.v1+cell": {
     "cellMetadata": {},
     "inputWidgets": {},
     "nuid": "32d1b523-4bb5-41eb-9d00-dcf3e9e884c6",
     "showTitle": false,
     "tableResultSettingsMap": {},
     "title": ""
    }
   },
   "source": [
    "Apply Fingerprint Extraction"
   ]
  },
  {
   "cell_type": "code",
   "execution_count": 0,
   "metadata": {
    "application/vnd.databricks.v1+cell": {
     "cellMetadata": {
      "byteLimit": 2048000,
      "rowLimit": 10000
     },
     "inputWidgets": {},
     "nuid": "e0dea508-b2d2-4532-934f-da544bd9465b",
     "showTitle": false,
     "tableResultSettingsMap": {},
     "title": ""
    }
   },
   "outputs": [
    {
     "output_type": "stream",
     "name": "stdout",
     "output_type": "stream",
     "text": [
      "+----------------------------------------------------------------------------------------------+----------------------------------------------------------------------------------------------------------------------------------------------+\n|file_name                                                                                     |fingerprints                                                                                                                                  |\n+----------------------------------------------------------------------------------------------+----------------------------------------------------------------------------------------------------------------------------------------------+\n|dbfs:/FileStore/bronze/mp3/Kendrick_Lamar___Not_Like_Us.mp3                                   |[error: [Errno 2] No such file or directory: '/dbfs/FileStore/dronze/mp3/Ken/rick_Lamar___Not_Like_Uf.mp3']                                   |\n|dbfs:/FileStore/bronze/mp3/Chappell_Roan___Pink_Pony_Club__Official_Music_Video_.mp3          |[error: [Errno 2] No such file or directory: '/dbfs/FileStore/dronze/mp3/Chappell_Roan___Pink_Pony_Clud__Obbicial_Mufic_Vi/eo_.mp3']          |\n|dbfs:/FileStore/bronze/mp3/Lady_Gaga__Bruno_Mars___Die_With_A_Smile__Official_Music_Video_.mp3|[error: [Errno 2] No such file or directory: '/dbfs/FileStore/dronze/mp3/La/y_Gaga__Bruno_Marf___Die_With_A_Smile__Obbicial_Mufic_Vi/eo_.mp3']|\n|dbfs:/FileStore/bronze/mp3/PARTYNEXTDOOR___DRAKE___NOKIA__Official_Lyric_Video_.mp3           |[error: [Errno 2] No such file or directory: '/dbfs/FileStore/dronze/mp3/PARTYNEXTDOOR___DRAKE___NOKIA__Obbicial_Lyric_Vi/eo_.mp3']           |\n|dbfs:/FileStore/bronze/mp3/Billie_Eilish___BIRDS_OF_A_FEATHER__Official_Music_Video_.mp3      |[error: [Errno 2] No such file or directory: '/dbfs/FileStore/dronze/mp3/Billie_Eilifh___BIRDS_OF_A_FEATHER__Obbicial_Mufic_Vi/eo_.mp3']      |\n|dbfs:/FileStore/bronze/mp3/Kendrick_Lamar___tv_off__Official_Audio_.mp3                       |[error: [Errno 2] No such file or directory: '/dbfs/FileStore/dronze/mp3/Ken/rick_Lamar___tv_obb__Obbicial_Au/io_.mp3']                       |\n|dbfs:/FileStore/bronze/mp3/Teddy_Swims___Lose_Control__The_Village_Sessions_.mp3              |[error: [Errno 2] No such file or directory: '/dbfs/FileStore/dronze/mp3/Te//y_Swimf___Lofe_Control__The_Village_Seffionf_.mp3']              |\n|dbfs:/FileStore/bronze/mp3/Kendrick_Lamar___luther__Official_Audio_.mp3                       |[error: [Errno 2] No such file or directory: '/dbfs/FileStore/dronze/mp3/Ken/rick_Lamar___luther__Obbicial_Au/io_.mp3']                       |\n|dbfs:/FileStore/bronze/mp3/ROSE____Bruno_Mars___APT___Official_Music_Video_.mp3               |[error: [Errno 2] No such file or directory: '/dbfs/FileStore/dronze/mp3/ROSE____Bruno_Marf___APT___Obbicial_Mufic_Vi/eo_.mp3']               |\n|dbfs:/FileStore/bronze/mp3/Shaboozey___A_Bar_Song__Tipsy___Official_Visualizer_.mp3           |[error: [Errno 2] No such file or directory: '/dbfs/FileStore/dronze/mp3/Shadoozey___A_Bar_Song__Tipfy___Obbicial_Vifualizer_.mp3']           |\n+----------------------------------------------------------------------------------------------+----------------------------------------------------------------------------------------------------------------------------------------------+\n\n"
     ]
    }
   ],
   "source": [
    "from pyspark.sql.functions import expr\n",
    "\n",
    "# Convert Spark DBFS path to real file path for librosa\n",
    "df_with_local_path = df_mp3_files.withColumn(\"local_path\", expr(\"translate(file_name, 'dbfs:/', '/dbfs/')\"))\n",
    "\n",
    "# Apply fingerprint UDF\n",
    "df_fingerprinted = df_with_local_path.withColumn(\"fingerprints\", extract_fingerprint_udf(\"local_path\"))\n",
    "\n",
    "df_fingerprinted.select(\"file_name\", \"fingerprints\").show(truncate=False)"
   ]
  },
  {
   "cell_type": "markdown",
   "metadata": {
    "application/vnd.databricks.v1+cell": {
     "cellMetadata": {},
     "inputWidgets": {},
     "nuid": "3335dba9-cba8-4a63-8f39-4186e4818fc6",
     "showTitle": false,
     "tableResultSettingsMap": {},
     "title": ""
    }
   },
   "source": [
    "Explode Fingerprints & Column Cleaning"
   ]
  },
  {
   "cell_type": "code",
   "execution_count": 0,
   "metadata": {
    "application/vnd.databricks.v1+cell": {
     "cellMetadata": {
      "byteLimit": 2048000,
      "rowLimit": 10000
     },
     "inputWidgets": {},
     "nuid": "36efdfd2-f735-4d29-a9ed-26c8c26c53b5",
     "showTitle": false,
     "tableResultSettingsMap": {},
     "title": ""
    }
   },
   "outputs": [
    {
     "output_type": "stream",
     "name": "stdout",
     "output_type": "stream",
     "text": [
      "+----------------------------------------------------------------------------------------------+--------+--------+\n|file_name                                                                                     |freq_bin|time_bin|\n+----------------------------------------------------------------------------------------------+--------+--------+\n|dbfs:/FileStore/bronze/mp3/Kendrick_Lamar___Not_Like_Us.mp3                                   |null    |null    |\n|dbfs:/FileStore/bronze/mp3/Chappell_Roan___Pink_Pony_Club__Official_Music_Video_.mp3          |null    |null    |\n|dbfs:/FileStore/bronze/mp3/Lady_Gaga__Bruno_Mars___Die_With_A_Smile__Official_Music_Video_.mp3|null    |null    |\n|dbfs:/FileStore/bronze/mp3/PARTYNEXTDOOR___DRAKE___NOKIA__Official_Lyric_Video_.mp3           |null    |null    |\n|dbfs:/FileStore/bronze/mp3/Billie_Eilish___BIRDS_OF_A_FEATHER__Official_Music_Video_.mp3      |null    |null    |\n|dbfs:/FileStore/bronze/mp3/Kendrick_Lamar___tv_off__Official_Audio_.mp3                       |null    |null    |\n|dbfs:/FileStore/bronze/mp3/Teddy_Swims___Lose_Control__The_Village_Sessions_.mp3              |null    |null    |\n|dbfs:/FileStore/bronze/mp3/Kendrick_Lamar___luther__Official_Audio_.mp3                       |null    |null    |\n|dbfs:/FileStore/bronze/mp3/ROSE____Bruno_Mars___APT___Official_Music_Video_.mp3               |null    |null    |\n|dbfs:/FileStore/bronze/mp3/Shaboozey___A_Bar_Song__Tipsy___Official_Visualizer_.mp3           |null    |null    |\n+----------------------------------------------------------------------------------------------+--------+--------+\n\n"
     ]
    }
   ],
   "source": [
    "from pyspark.sql.functions import explode, split\n",
    "\n",
    "df_flat = df_fingerprinted.withColumn(\"fingerprint\", explode(\"fingerprints\"))\n",
    "df_flat = df_flat.withColumn(\"freq_bin\", split(\"fingerprint\", \",\")[0].cast(\"int\"))\n",
    "df_flat = df_flat.withColumn(\"time_bin\", split(\"fingerprint\", \",\")[1].cast(\"int\"))\n",
    "\n",
    "df_flat = df_flat.select(\"file_name\", \"freq_bin\", \"time_bin\")\n",
    "df_flat.show(truncate=False)"
   ]
  },
  {
   "cell_type": "markdown",
   "metadata": {
    "application/vnd.databricks.v1+cell": {
     "cellMetadata": {},
     "inputWidgets": {},
     "nuid": "9de8a8a6-5bbc-4962-a32c-f127af62c74a",
     "showTitle": false,
     "tableResultSettingsMap": {},
     "title": ""
    }
   },
   "source": [
    "Write Flattened Fingerprints"
   ]
  },
  {
   "cell_type": "code",
   "execution_count": 0,
   "metadata": {
    "application/vnd.databricks.v1+cell": {
     "cellMetadata": {
      "byteLimit": 2048000,
      "rowLimit": 10000
     },
     "inputWidgets": {},
     "nuid": "c01165ac-271f-4fbe-a26c-5669002d9680",
     "showTitle": false,
     "tableResultSettingsMap": {},
     "title": ""
    }
   },
   "outputs": [],
   "source": [
    "df_flat.write.mode(\"overwrite\").format(\"delta\").save(\"dbfs:/FileStore/silver/flattened_fingerprints/\")"
   ]
  },
  {
   "cell_type": "code",
   "execution_count": 0,
   "metadata": {
    "application/vnd.databricks.v1+cell": {
     "cellMetadata": {
      "byteLimit": 2048000,
      "rowLimit": 10000
     },
     "inputWidgets": {},
     "nuid": "02ed2602-cd51-418c-81b6-032dffc19049",
     "showTitle": false,
     "tableResultSettingsMap": {},
     "title": ""
    }
   },
   "outputs": [],
   "source": [
    "df_flat.write.mode(\"overwrite\").format(\"delta\").save(\"dbfs:/FileStore/silver/flattened_fingerprints/\")\n",
    "df_flat.write.mode(\"overwrite\").option(\"header\", True).csv(\"dbfs:/FileStore/silver/flattened_fingerprints_csv/\")"
   ]
  },
  {
   "cell_type": "code",
   "execution_count": 0,
   "metadata": {
    "application/vnd.databricks.v1+cell": {
     "cellMetadata": {},
     "inputWidgets": {},
     "nuid": "f9a00b15-b6ab-4632-b443-1e759f107620",
     "showTitle": false,
     "tableResultSettingsMap": {},
     "title": ""
    }
   },
   "outputs": [],
   "source": [
    "spark.stop()"
   ]
  }
 ],
 "metadata": {
  "application/vnd.databricks.v1+notebook": {
   "computePreferences": null,
   "dashboards": [],
   "environmentMetadata": {
    "base_environment": "",
    "client": "1"
   },
   "language": "python",
   "notebookMetadata": {
    "pythonIndentUnit": 4
   },
   "notebookName": "02_Fingerprint_Extraction",
   "widgets": {}
  }
 },
 "nbformat": 4,
 "nbformat_minor": 0
}
