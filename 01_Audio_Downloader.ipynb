{
 "cells": [
  {
   "cell_type": "markdown",
   "metadata": {
    "application/vnd.databricks.v1+cell": {
     "cellMetadata": {},
     "inputWidgets": {},
     "nuid": "11f9c237-1da3-4baf-a925-2b723793a21e",
     "showTitle": false,
     "tableResultSettingsMap": {},
     "title": ""
    }
   },
   "source": [
    "Download External Packages"
   ]
  },
  {
   "cell_type": "code",
   "execution_count": 0,
   "metadata": {
    "application/vnd.databricks.v1+cell": {
     "cellMetadata": {
      "byteLimit": 2048000,
      "rowLimit": 10000
     },
     "inputWidgets": {},
     "nuid": "807bf46b-fa83-4b4e-8938-1090d7beb461",
     "showTitle": false,
     "tableResultSettingsMap": {},
     "title": ""
    }
   },
   "outputs": [
    {
     "output_type": "stream",
     "name": "stdout",
     "output_type": "stream",
     "text": [
      "Python interpreter will be restarted.\nCollecting yt_dlp\n  Downloading yt_dlp-2025.2.19-py3-none-any.whl (3.2 MB)\nInstalling collected packages: yt-dlp\nSuccessfully installed yt-dlp-2025.2.19\nPython interpreter will be restarted.\n"
     ]
    }
   ],
   "source": [
    "%pip install yt_dlp"
   ]
  },
  {
   "cell_type": "markdown",
   "metadata": {
    "application/vnd.databricks.v1+cell": {
     "cellMetadata": {},
     "inputWidgets": {},
     "nuid": "1fe9eab7-73b3-417a-a9e6-c913e2c439fe",
     "showTitle": false,
     "tableResultSettingsMap": {},
     "title": ""
    }
   },
   "source": [
    "Import Libraries"
   ]
  },
  {
   "cell_type": "code",
   "execution_count": 0,
   "metadata": {
    "application/vnd.databricks.v1+cell": {
     "cellMetadata": {},
     "inputWidgets": {},
     "nuid": "8fcec86a-8c74-4ca0-b32c-733d76787fd4",
     "showTitle": false,
     "tableResultSettingsMap": {},
     "title": ""
    }
   },
   "outputs": [],
   "source": [
    "from pyspark.sql import SparkSession\n",
    "from pyspark.sql import Row\n",
    "import pandas as pd\n",
    "from pyspark.sql.types import StructType, StructField, StringType, TimestampType\n",
    "from datetime import datetime\n",
    "pd.set_option('display.max_colwidth', None)"
   ]
  },
  {
   "cell_type": "markdown",
   "metadata": {
    "application/vnd.databricks.v1+cell": {
     "cellMetadata": {},
     "inputWidgets": {},
     "nuid": "5c2910e3-9f57-4355-bcd3-99f10fe991af",
     "showTitle": false,
     "tableResultSettingsMap": {},
     "title": ""
    }
   },
   "source": [
    "Create Spark Session"
   ]
  },
  {
   "cell_type": "code",
   "execution_count": 0,
   "metadata": {
    "application/vnd.databricks.v1+cell": {
     "cellMetadata": {
      "byteLimit": 2048000,
      "rowLimit": 10000
     },
     "inputWidgets": {},
     "nuid": "102f5ec4-0c59-4a64-a941-f833f21cfdb9",
     "showTitle": false,
     "tableResultSettingsMap": {},
     "title": ""
    }
   },
   "outputs": [],
   "source": [
    "spark = SparkSession.builder \\\n",
    "    .appName(\"AudioDownloader\") \\\n",
    "    .getOrCreate()"
   ]
  },
  {
   "cell_type": "markdown",
   "metadata": {
    "application/vnd.databricks.v1+cell": {
     "cellMetadata": {},
     "inputWidgets": {},
     "nuid": "e6fa5284-a183-42a7-a7ed-2d9c8da18134",
     "showTitle": false,
     "tableResultSettingsMap": {},
     "title": ""
    }
   },
   "source": [
    "Establish Song List and Show in DF"
   ]
  },
  {
   "cell_type": "code",
   "execution_count": 0,
   "metadata": {
    "application/vnd.databricks.v1+cell": {
     "cellMetadata": {
      "byteLimit": 2048000,
      "rowLimit": 10000
     },
     "inputWidgets": {},
     "nuid": "956084c8-7dea-4b0f-ad79-035a36044393",
     "showTitle": false,
     "tableResultSettingsMap": {},
     "title": ""
    }
   },
   "outputs": [
    {
     "output_type": "stream",
     "name": "stdout",
     "output_type": "stream",
     "text": [
      "+---------------------------------------------+\n|song_name                                    |\n+---------------------------------------------+\n|Luther Kendrick Lamar & SZA                  |\n|Die With A Smile Lady Gaga & Bruno Mars      |\n|Not Like Us Kendrick Lamar                   |\n|A Bar (Tipsy) Shaboozey                      |\n|TV Off Kendrick Lamar Featuring Lefty Gunplay|\n|APT. ROSE & Bruno Mars                       |\n|Pink Pony Club Chappell Roan                 |\n|Nokia Drake                                  |\n|Birds Of A Feather Billie Eilish             |\n|Lose Control Teddy Swims                     |\n+---------------------------------------------+\n\n"
     ]
    }
   ],
   "source": [
    "# Song list\n",
    "songs = [\n",
    "    \"Luther Kendrick Lamar & SZA\",\n",
    "    \"Die With A Smile Lady Gaga & Bruno Mars\",\n",
    "    \"Not Like Us Kendrick Lamar\",\n",
    "    \"A Bar (Tipsy) Shaboozey\",\n",
    "    \"TV Off Kendrick Lamar Featuring Lefty Gunplay\",\n",
    "    \"APT. ROSE & Bruno Mars\",\n",
    "    \"Pink Pony Club Chappell Roan\",\n",
    "    \"Nokia Drake\",\n",
    "    \"Birds Of A Feather Billie Eilish\",\n",
    "    \"Lose Control Teddy Swims\"\n",
    "]\n",
    "\n",
    "# Create Spark DataFrame\n",
    "songs_df = spark.createDataFrame([Row(song_name=s) for s in songs])\n",
    "songs_df.show(truncate=False)"
   ]
  },
  {
   "cell_type": "markdown",
   "metadata": {
    "application/vnd.databricks.v1+cell": {
     "cellMetadata": {},
     "inputWidgets": {},
     "nuid": "5ca28c61-d3c3-4058-b31f-3d15d89580fa",
     "showTitle": false,
     "tableResultSettingsMap": {},
     "title": ""
    }
   },
   "source": [
    "Create Directories for Data"
   ]
  },
  {
   "cell_type": "code",
   "execution_count": 0,
   "metadata": {
    "application/vnd.databricks.v1+cell": {
     "cellMetadata": {
      "byteLimit": 2048000,
      "rowLimit": 10000
     },
     "inputWidgets": {},
     "nuid": "36935b49-bcd4-4980-a869-3d622a99da5d",
     "showTitle": false,
     "tableResultSettingsMap": {},
     "title": ""
    }
   },
   "outputs": [
    {
     "output_type": "stream",
     "name": "stdout",
     "output_type": "stream",
     "text": [
      "Out[58]: True"
     ]
    }
   ],
   "source": [
    "dbutils.fs.mkdirs(\"dbfs:/FileStore/cookies_info/\")\n",
    "dbutils.fs.mkdirs(\"dbfs:/FileStore/bronze/mp3/\")"
   ]
  },
  {
   "cell_type": "markdown",
   "metadata": {
    "application/vnd.databricks.v1+cell": {
     "cellMetadata": {},
     "inputWidgets": {},
     "nuid": "d798bb63-0ecc-4a19-aa48-88e408825fe7",
     "showTitle": false,
     "tableResultSettingsMap": {},
     "title": ""
    }
   },
   "source": [
    "Cookies File for Import"
   ]
  },
  {
   "cell_type": "code",
   "execution_count": 0,
   "metadata": {
    "application/vnd.databricks.v1+cell": {
     "cellMetadata": {
      "byteLimit": 2048000,
      "rowLimit": 10000
     },
     "inputWidgets": {},
     "nuid": "059cbe06-5eb4-45ef-a4f0-a712b1281a1a",
     "showTitle": false,
     "tableResultSettingsMap": {},
     "title": ""
    }
   },
   "outputs": [
    {
     "output_type": "stream",
     "name": "stdout",
     "output_type": "stream",
     "text": [
      "+--------------------+\n|               value|\n+--------------------+\n|# Netscape HTTP C...|\n|# http://curl.hax...|\n|# This is a gener...|\n|                    |\n|.youtube.com\\tTRU...|\n|.youtube.com\\tTRU...|\n|consent.youtube.c...|\n|.youtube.com\\tTRU...|\n|.youtube.com\\tTRU...|\n|.youtube.com\\tTRU...|\n|.youtube.com\\tTRU...|\n|.youtube.com\\tTRU...|\n|.youtube.com\\tTRU...|\n|.youtube.com\\tTRU...|\n|.youtube.com\\tTRU...|\n|.youtube.com\\tTRU...|\n|.youtube.com\\tTRU...|\n|.youtube.com\\tTRU...|\n|.youtube.com\\tTRU...|\n|.youtube.com\\tTRU...|\n+--------------------+\nonly showing top 20 rows\n\n"
     ]
    }
   ],
   "source": [
    "cookies_df = spark.read.text(\"dbfs:/FileStore/cookies_info/youtube_com_cookies.txt\")\n",
    "cookies_df.show()"
   ]
  },
  {
   "cell_type": "markdown",
   "metadata": {
    "application/vnd.databricks.v1+cell": {
     "cellMetadata": {},
     "inputWidgets": {},
     "nuid": "4dba4ab7-7eb8-4160-ae9f-a1ae6b7f59da",
     "showTitle": false,
     "tableResultSettingsMap": {},
     "title": ""
    }
   },
   "source": [
    "Function to download songs (Would be UDF but library requires internet access)"
   ]
  },
  {
   "cell_type": "code",
   "execution_count": 0,
   "metadata": {
    "application/vnd.databricks.v1+cell": {
     "cellMetadata": {
      "byteLimit": 2048000,
      "rowLimit": 10000
     },
     "inputWidgets": {},
     "nuid": "bdf2ea8a-6755-41a7-9577-4f06986aea9a",
     "showTitle": false,
     "tableResultSettingsMap": {},
     "title": ""
    }
   },
   "outputs": [],
   "source": [
    "def download_song(song_name):\n",
    "    try:\n",
    "        ydl_opts = {\n",
    "            'format': 'bestaudio/best',\n",
    "            'default_search': 'ytsearch1',\n",
    "            'noplaylist': True,\n",
    "            'outtmpl': f'{download_path}/%(title)s.%(ext)s',\n",
    "            'cookiefile': '/dbfs/FileStore/cookies_info/youtube_com_cookies.txt',\n",
    "            'postprocessors': [{\n",
    "                'key': 'FFmpegExtractAudio',\n",
    "                'preferredcodec': 'mp3',\n",
    "                'preferredquality': '192',\n",
    "            }],\n",
    "            'quiet': False\n",
    "        }\n",
    "\n",
    "        with yt_dlp.YoutubeDL(ydl_opts) as ydl:\n",
    "            info = ydl.extract_info(song_name, download=True)\n",
    "            title = info.get(\"title\", \"unknown\")\n",
    "            filepath = f\"dbfs:/FileStore/bronze/mp3/{title}.mp3\"\n",
    "            return \"success\", filepath\n",
    "\n",
    "    except Exception as e:\n",
    "        return f\"failed: {str(e)}\", None"
   ]
  },
  {
   "cell_type": "markdown",
   "metadata": {
    "application/vnd.databricks.v1+cell": {
     "cellMetadata": {},
     "inputWidgets": {},
     "nuid": "8b5f50ab-5393-4666-9f41-ce06803aaefb",
     "showTitle": false,
     "tableResultSettingsMap": {},
     "title": ""
    }
   },
   "source": [
    "Download Songs & Create DataFrame for the Logs"
   ]
  },
  {
   "cell_type": "code",
   "execution_count": 0,
   "metadata": {
    "application/vnd.databricks.v1+cell": {
     "cellMetadata": {
      "byteLimit": 2048000,
      "rowLimit": 10000
     },
     "inputWidgets": {},
     "nuid": "102bffcb-c1f3-4d17-9dda-e4dbde31e6ef",
     "showTitle": false,
     "tableResultSettingsMap": {},
     "title": ""
    }
   },
   "outputs": [
    {
     "output_type": "stream",
     "name": "stdout",
     "output_type": "stream",
     "text": [
      "[generic] Extracting URL: Luther Kendrick Lamar & SZA\n[youtube:search] Extracting URL: ytsearch1:Luther Kendrick Lamar & SZA\n[download] Downloading playlist: Luther Kendrick Lamar & SZA\n[youtube:search] query \"Luther Kendrick Lamar & SZA\": Downloading web client config\n[youtube:search] query \"Luther Kendrick Lamar & SZA\" page 1: Downloading API JSON\n[youtube:search] Playlist Luther Kendrick Lamar & SZA: Downloading 1 items of 1\n[download] Downloading item 1 of 1\n[youtube] Extracting URL: https://www.youtube.com/watch?v=HfWLgELllZs\n[youtube] HfWLgELllZs: Downloading webpage\n[youtube] HfWLgELllZs: Downloading tv client config\n[youtube] HfWLgELllZs: Downloading player 7d1d50a6\n[youtube] HfWLgELllZs: Downloading tv player API JSON\n[youtube] HfWLgELllZs: Downloading ios player API JSON\n"
     ]
    },
    {
     "output_type": "stream",
     "name": "stderr",
     "output_type": "stream",
     "text": [
      "ERROR: [youtube] HfWLgELllZs: Sign in to confirm you’re not a bot. Use --cookies-from-browser or --cookies for the authentication. See  https://github.com/yt-dlp/yt-dlp/wiki/FAQ#how-do-i-pass-cookies-to-yt-dlp  for how to manually pass cookies. Also see  https://github.com/yt-dlp/yt-dlp/wiki/Extractors#exporting-youtube-cookies  for tips on effectively exporting YouTube cookies\n"
     ]
    },
    {
     "output_type": "stream",
     "name": "stdout",
     "output_type": "stream",
     "text": [
      "[generic] Extracting URL: Die With A Smile Lady Gaga & Bruno Mars\n[youtube:search] Extracting URL: ytsearch1:Die With A Smile Lady Gaga & Bruno Mars\n[download] Downloading playlist: Die With A Smile Lady Gaga & Bruno Mars\n[youtube:search] query \"Die With A Smile Lady Gaga & Bruno Mars\": Downloading web client config\n[youtube:search] query \"Die With A Smile Lady Gaga & Bruno Mars\" page 1: Downloading API JSON\n[youtube:search] Playlist Die With A Smile Lady Gaga & Bruno Mars: Downloading 1 items of 1\n[download] Downloading item 1 of 1\n[youtube] Extracting URL: https://www.youtube.com/watch?v=kPa7bsKwL-c\n[youtube] kPa7bsKwL-c: Downloading webpage\n[youtube] kPa7bsKwL-c: Downloading tv client config\n[youtube] kPa7bsKwL-c: Downloading player 7d1d50a6\n[youtube] kPa7bsKwL-c: Downloading tv player API JSON\n[youtube] kPa7bsKwL-c: Downloading ios player API JSON\n"
     ]
    },
    {
     "output_type": "stream",
     "name": "stderr",
     "output_type": "stream",
     "text": [
      "ERROR: [youtube] kPa7bsKwL-c: Sign in to confirm you’re not a bot. Use --cookies-from-browser or --cookies for the authentication. See  https://github.com/yt-dlp/yt-dlp/wiki/FAQ#how-do-i-pass-cookies-to-yt-dlp  for how to manually pass cookies. Also see  https://github.com/yt-dlp/yt-dlp/wiki/Extractors#exporting-youtube-cookies  for tips on effectively exporting YouTube cookies\n"
     ]
    },
    {
     "output_type": "stream",
     "name": "stdout",
     "output_type": "stream",
     "text": [
      "[generic] Extracting URL: Not Like Us Kendrick Lamar\n[youtube:search] Extracting URL: ytsearch1:Not Like Us Kendrick Lamar\n[download] Downloading playlist: Not Like Us Kendrick Lamar\n[youtube:search] query \"Not Like Us Kendrick Lamar\": Downloading web client config\n[youtube:search] query \"Not Like Us Kendrick Lamar\" page 1: Downloading API JSON\n[youtube:search] Playlist Not Like Us Kendrick Lamar: Downloading 1 items of 1\n[download] Downloading item 1 of 1\n[youtube] Extracting URL: https://www.youtube.com/watch?v=H58vbez_m4E\n[youtube] H58vbez_m4E: Downloading webpage\n[youtube] H58vbez_m4E: Downloading tv client config\n[youtube] H58vbez_m4E: Downloading player 7d1d50a6\n[youtube] H58vbez_m4E: Downloading tv player API JSON\n[youtube] H58vbez_m4E: Downloading ios player API JSON\n"
     ]
    },
    {
     "output_type": "stream",
     "name": "stderr",
     "output_type": "stream",
     "text": [
      "ERROR: [youtube] H58vbez_m4E: Sign in to confirm you’re not a bot. Use --cookies-from-browser or --cookies for the authentication. See  https://github.com/yt-dlp/yt-dlp/wiki/FAQ#how-do-i-pass-cookies-to-yt-dlp  for how to manually pass cookies. Also see  https://github.com/yt-dlp/yt-dlp/wiki/Extractors#exporting-youtube-cookies  for tips on effectively exporting YouTube cookies\n"
     ]
    },
    {
     "output_type": "stream",
     "name": "stdout",
     "output_type": "stream",
     "text": [
      "[generic] Extracting URL: A Bar (Tipsy) Shaboozey\n[youtube:search] Extracting URL: ytsearch1:A Bar (Tipsy) Shaboozey\n[download] Downloading playlist: A Bar (Tipsy) Shaboozey\n[youtube:search] query \"A Bar (Tipsy) Shaboozey\": Downloading web client config\n[youtube:search] query \"A Bar (Tipsy) Shaboozey\" page 1: Downloading API JSON\n[youtube:search] Playlist A Bar (Tipsy) Shaboozey: Downloading 1 items of 1\n[download] Downloading item 1 of 1\n[youtube] Extracting URL: https://www.youtube.com/watch?v=t7bQwwqW-Hc\n[youtube] t7bQwwqW-Hc: Downloading webpage\n[youtube] t7bQwwqW-Hc: Downloading tv client config\n[youtube] t7bQwwqW-Hc: Downloading player 7d1d50a6\n[youtube] t7bQwwqW-Hc: Downloading tv player API JSON\n[youtube] t7bQwwqW-Hc: Downloading ios player API JSON\n"
     ]
    },
    {
     "output_type": "stream",
     "name": "stderr",
     "output_type": "stream",
     "text": [
      "ERROR: [youtube] t7bQwwqW-Hc: Sign in to confirm you’re not a bot. Use --cookies-from-browser or --cookies for the authentication. See  https://github.com/yt-dlp/yt-dlp/wiki/FAQ#how-do-i-pass-cookies-to-yt-dlp  for how to manually pass cookies. Also see  https://github.com/yt-dlp/yt-dlp/wiki/Extractors#exporting-youtube-cookies  for tips on effectively exporting YouTube cookies\n"
     ]
    },
    {
     "output_type": "stream",
     "name": "stdout",
     "output_type": "stream",
     "text": [
      "[generic] Extracting URL: TV Off Kendrick Lamar Featuring Lefty Gunplay\n[youtube:search] Extracting URL: ytsearch1:TV Off Kendrick Lamar Featuring Lefty Gunplay\n[download] Downloading playlist: TV Off Kendrick Lamar Featuring Lefty Gunplay\n[youtube:search] query \"TV Off Kendrick Lamar Featuring Lefty Gunplay\": Downloading web client config\n[youtube:search] query \"TV Off Kendrick Lamar Featuring Lefty Gunplay\" page 1: Downloading API JSON\n[youtube:search] Playlist TV Off Kendrick Lamar Featuring Lefty Gunplay: Downloading 1 items of 1\n[download] Downloading item 1 of 1\n[youtube] Extracting URL: https://www.youtube.com/watch?v=XIwrwOEx5i8\n[youtube] XIwrwOEx5i8: Downloading webpage\n[youtube] XIwrwOEx5i8: Downloading tv client config\n[youtube] XIwrwOEx5i8: Downloading player 7d1d50a6\n[youtube] XIwrwOEx5i8: Downloading tv player API JSON\n[youtube] XIwrwOEx5i8: Downloading ios player API JSON\n"
     ]
    },
    {
     "output_type": "stream",
     "name": "stderr",
     "output_type": "stream",
     "text": [
      "ERROR: [youtube] XIwrwOEx5i8: Sign in to confirm you’re not a bot. Use --cookies-from-browser or --cookies for the authentication. See  https://github.com/yt-dlp/yt-dlp/wiki/FAQ#how-do-i-pass-cookies-to-yt-dlp  for how to manually pass cookies. Also see  https://github.com/yt-dlp/yt-dlp/wiki/Extractors#exporting-youtube-cookies  for tips on effectively exporting YouTube cookies\n"
     ]
    },
    {
     "output_type": "stream",
     "name": "stdout",
     "output_type": "stream",
     "text": [
      "[generic] Extracting URL: APT. ROSE & Bruno Mars\n[youtube:search] Extracting URL: ytsearch1:APT. ROSE & Bruno Mars\n[download] Downloading playlist: APT. ROSE & Bruno Mars\n[youtube:search] query \"APT. ROSE & Bruno Mars\": Downloading web client config\n[youtube:search] query \"APT. ROSE & Bruno Mars\" page 1: Downloading API JSON\n[youtube:search] Playlist APT. ROSE & Bruno Mars: Downloading 1 items of 1\n[download] Downloading item 1 of 1\n[youtube] Extracting URL: https://www.youtube.com/watch?v=ekr2nIex040\n[youtube] ekr2nIex040: Downloading webpage\n[youtube] ekr2nIex040: Downloading tv client config\n[youtube] ekr2nIex040: Downloading player 7d1d50a6\n[youtube] ekr2nIex040: Downloading tv player API JSON\n[youtube] ekr2nIex040: Downloading ios player API JSON\n"
     ]
    },
    {
     "output_type": "stream",
     "name": "stderr",
     "output_type": "stream",
     "text": [
      "ERROR: [youtube] ekr2nIex040: Sign in to confirm you’re not a bot. Use --cookies-from-browser or --cookies for the authentication. See  https://github.com/yt-dlp/yt-dlp/wiki/FAQ#how-do-i-pass-cookies-to-yt-dlp  for how to manually pass cookies. Also see  https://github.com/yt-dlp/yt-dlp/wiki/Extractors#exporting-youtube-cookies  for tips on effectively exporting YouTube cookies\n"
     ]
    },
    {
     "output_type": "stream",
     "name": "stdout",
     "output_type": "stream",
     "text": [
      "[generic] Extracting URL: Pink Pony Club Chappell Roan\n[youtube:search] Extracting URL: ytsearch1:Pink Pony Club Chappell Roan\n[download] Downloading playlist: Pink Pony Club Chappell Roan\n[youtube:search] query \"Pink Pony Club Chappell Roan\": Downloading web client config\n[youtube:search] query \"Pink Pony Club Chappell Roan\" page 1: Downloading API JSON\n[youtube:search] Playlist Pink Pony Club Chappell Roan: Downloading 1 items of 1\n[download] Downloading item 1 of 1\n[youtube] Extracting URL: https://www.youtube.com/watch?v=GR3Liudev18\n[youtube] GR3Liudev18: Downloading webpage\n[youtube] GR3Liudev18: Downloading tv client config\n[youtube] GR3Liudev18: Downloading player 7d1d50a6\n[youtube] GR3Liudev18: Downloading tv player API JSON\n[youtube] GR3Liudev18: Downloading ios player API JSON\n"
     ]
    },
    {
     "output_type": "stream",
     "name": "stderr",
     "output_type": "stream",
     "text": [
      "ERROR: [youtube] GR3Liudev18: Sign in to confirm you’re not a bot. Use --cookies-from-browser or --cookies for the authentication. See  https://github.com/yt-dlp/yt-dlp/wiki/FAQ#how-do-i-pass-cookies-to-yt-dlp  for how to manually pass cookies. Also see  https://github.com/yt-dlp/yt-dlp/wiki/Extractors#exporting-youtube-cookies  for tips on effectively exporting YouTube cookies\n"
     ]
    },
    {
     "output_type": "stream",
     "name": "stdout",
     "output_type": "stream",
     "text": [
      "[generic] Extracting URL: Nokia Drake\n[youtube:search] Extracting URL: ytsearch1:Nokia Drake\n[download] Downloading playlist: Nokia Drake\n[youtube:search] query \"Nokia Drake\": Downloading web client config\n[youtube:search] query \"Nokia Drake\" page 1: Downloading API JSON\n[youtube:search] Playlist Nokia Drake: Downloading 1 items of 1\n[download] Downloading item 1 of 1\n[youtube] Extracting URL: https://www.youtube.com/watch?v=YAaIgrWtRYk\n[youtube] YAaIgrWtRYk: Downloading webpage\n[youtube] YAaIgrWtRYk: Downloading tv client config\n[youtube] YAaIgrWtRYk: Downloading player 7d1d50a6\n[youtube] YAaIgrWtRYk: Downloading tv player API JSON\n[youtube] YAaIgrWtRYk: Downloading ios player API JSON\n"
     ]
    },
    {
     "output_type": "stream",
     "name": "stderr",
     "output_type": "stream",
     "text": [
      "ERROR: [youtube] YAaIgrWtRYk: Sign in to confirm you’re not a bot. Use --cookies-from-browser or --cookies for the authentication. See  https://github.com/yt-dlp/yt-dlp/wiki/FAQ#how-do-i-pass-cookies-to-yt-dlp  for how to manually pass cookies. Also see  https://github.com/yt-dlp/yt-dlp/wiki/Extractors#exporting-youtube-cookies  for tips on effectively exporting YouTube cookies\n"
     ]
    },
    {
     "output_type": "stream",
     "name": "stdout",
     "output_type": "stream",
     "text": [
      "[generic] Extracting URL: Birds Of A Feather Billie Eilish\n[youtube:search] Extracting URL: ytsearch1:Birds Of A Feather Billie Eilish\n[download] Downloading playlist: Birds Of A Feather Billie Eilish\n[youtube:search] query \"Birds Of A Feather Billie Eilish\": Downloading web client config\n[youtube:search] query \"Birds Of A Feather Billie Eilish\" page 1: Downloading API JSON\n[youtube:search] Playlist Birds Of A Feather Billie Eilish: Downloading 1 items of 1\n[download] Downloading item 1 of 1\n[youtube] Extracting URL: https://www.youtube.com/watch?v=V9PVRfjEBTI\n[youtube] V9PVRfjEBTI: Downloading webpage\n[youtube] V9PVRfjEBTI: Downloading tv client config\n[youtube] V9PVRfjEBTI: Downloading player e011b4d7\n[youtube] V9PVRfjEBTI: Downloading tv player API JSON\n[youtube] V9PVRfjEBTI: Downloading ios player API JSON\n"
     ]
    },
    {
     "output_type": "stream",
     "name": "stderr",
     "output_type": "stream",
     "text": [
      "ERROR: [youtube] V9PVRfjEBTI: Sign in to confirm you’re not a bot. Use --cookies-from-browser or --cookies for the authentication. See  https://github.com/yt-dlp/yt-dlp/wiki/FAQ#how-do-i-pass-cookies-to-yt-dlp  for how to manually pass cookies. Also see  https://github.com/yt-dlp/yt-dlp/wiki/Extractors#exporting-youtube-cookies  for tips on effectively exporting YouTube cookies\n"
     ]
    },
    {
     "output_type": "stream",
     "name": "stdout",
     "output_type": "stream",
     "text": [
      "[generic] Extracting URL: Lose Control Teddy Swims\n[youtube:search] Extracting URL: ytsearch1:Lose Control Teddy Swims\n[download] Downloading playlist: Lose Control Teddy Swims\n[youtube:search] query \"Lose Control Teddy Swims\": Downloading web client config\n[youtube:search] query \"Lose Control Teddy Swims\" page 1: Downloading API JSON\n[youtube:search] Playlist Lose Control Teddy Swims: Downloading 1 items of 1\n[download] Downloading item 1 of 1\n[youtube] Extracting URL: https://www.youtube.com/watch?v=9gWIIIr2Asw\n[youtube] 9gWIIIr2Asw: Downloading webpage\n[youtube] 9gWIIIr2Asw: Downloading tv client config\n[youtube] 9gWIIIr2Asw: Downloading player 7d1d50a6\n[youtube] 9gWIIIr2Asw: Downloading tv player API JSON\n[youtube] 9gWIIIr2Asw: Downloading ios player API JSON\n"
     ]
    },
    {
     "output_type": "stream",
     "name": "stderr",
     "output_type": "stream",
     "text": [
      "ERROR: [youtube] 9gWIIIr2Asw: Sign in to confirm you’re not a bot. Use --cookies-from-browser or --cookies for the authentication. See  https://github.com/yt-dlp/yt-dlp/wiki/FAQ#how-do-i-pass-cookies-to-yt-dlp  for how to manually pass cookies. Also see  https://github.com/yt-dlp/yt-dlp/wiki/Extractors#exporting-youtube-cookies  for tips on effectively exporting YouTube cookies\n"
     ]
    },
    {
     "output_type": "stream",
     "name": "stdout",
     "output_type": "stream",
     "text": [
      "+---------------------------------------------+---------------------------------------------------------------------------------------------------+-------------+--------------------------+\n|song_name                                    |download_status                                                                                    |download_path|download_time             |\n+---------------------------------------------+---------------------------------------------------------------------------------------------------+-------------+--------------------------+\n|Luther Kendrick Lamar & SZA                  |failed: [Errno 2] No such file or directory: '/dbfs/FileStore/cookies_info/youtube_com_cookies.txt'|null         |2025-03-18 10:57:34.901873|\n|Die With A Smile Lady Gaga & Bruno Mars      |failed: [Errno 2] No such file or directory: '/dbfs/FileStore/cookies_info/youtube_com_cookies.txt'|null         |2025-03-18 10:57:37.363779|\n|Not Like Us Kendrick Lamar                   |failed: [Errno 2] No such file or directory: '/dbfs/FileStore/cookies_info/youtube_com_cookies.txt'|null         |2025-03-18 10:57:39.603613|\n|A Bar (Tipsy) Shaboozey                      |failed: [Errno 2] No such file or directory: '/dbfs/FileStore/cookies_info/youtube_com_cookies.txt'|null         |2025-03-18 10:57:41.632012|\n|TV Off Kendrick Lamar Featuring Lefty Gunplay|failed: [Errno 2] No such file or directory: '/dbfs/FileStore/cookies_info/youtube_com_cookies.txt'|null         |2025-03-18 10:57:43.525207|\n|APT. ROSE & Bruno Mars                       |failed: [Errno 2] No such file or directory: '/dbfs/FileStore/cookies_info/youtube_com_cookies.txt'|null         |2025-03-18 10:57:45.735223|\n|Pink Pony Club Chappell Roan                 |failed: [Errno 2] No such file or directory: '/dbfs/FileStore/cookies_info/youtube_com_cookies.txt'|null         |2025-03-18 10:57:47.621698|\n|Nokia Drake                                  |failed: [Errno 2] No such file or directory: '/dbfs/FileStore/cookies_info/youtube_com_cookies.txt'|null         |2025-03-18 10:57:49.620030|\n|Birds Of A Feather Billie Eilish             |failed: [Errno 2] No such file or directory: '/dbfs/FileStore/cookies_info/youtube_com_cookies.txt'|null         |2025-03-18 10:57:51.727375|\n|Lose Control Teddy Swims                     |failed: [Errno 2] No such file or directory: '/dbfs/FileStore/cookies_info/youtube_com_cookies.txt'|null         |2025-03-18 10:57:53.805194|\n+---------------------------------------------+---------------------------------------------------------------------------------------------------+-------------+--------------------------+\n\n"
     ]
    }
   ],
   "source": [
    "schema = StructType([\n",
    "    StructField(\"song_name\", StringType(), True),\n",
    "    StructField(\"download_status\", StringType(), True),\n",
    "    StructField(\"download_path\", StringType(), True),\n",
    "    StructField(\"download_time\", StringType(), True)\n",
    "])\n",
    "\n",
    "# Collect logs\n",
    "download_logs = []\n",
    "\n",
    "for row in songs_df.toLocalIterator():\n",
    "    song = row['song_name']\n",
    "    status, path = download_song(song)\n",
    "    download_logs.append((song, status, path, str(datetime.now())))\n",
    "\n",
    "# Create DataFrame with schema\n",
    "logs_df = spark.createDataFrame(download_logs, schema=schema)\n",
    "\n",
    "# Preview\n",
    "logs_df.show(truncate=False)"
   ]
  },
  {
   "cell_type": "code",
   "execution_count": 0,
   "metadata": {
    "application/vnd.databricks.v1+cell": {
     "cellMetadata": {
      "byteLimit": 2048000,
      "rowLimit": 10000
     },
     "inputWidgets": {},
     "nuid": "349f4973-717b-47a5-82d4-1b9d3e2d60b0",
     "showTitle": false,
     "tableResultSettingsMap": {},
     "title": ""
    }
   },
   "outputs": [
    {
     "output_type": "display_data",
     "data": {
      "text/html": [
       "<div>\n",
       "<style scoped>\n",
       "    .dataframe tbody tr th:only-of-type {\n",
       "        vertical-align: middle;\n",
       "    }\n",
       "\n",
       "    .dataframe tbody tr th {\n",
       "        vertical-align: top;\n",
       "    }\n",
       "\n",
       "    .dataframe thead th {\n",
       "        text-align: right;\n",
       "    }\n",
       "</style>\n",
       "<table border=\"1\" class=\"dataframe\">\n",
       "  <thead>\n",
       "    <tr style=\"text-align: right;\">\n",
       "      <th></th>\n",
       "      <th>song_name</th>\n",
       "      <th>download_status</th>\n",
       "      <th>download_path</th>\n",
       "      <th>download_time</th>\n",
       "    </tr>\n",
       "  </thead>\n",
       "  <tbody>\n",
       "    <tr>\n",
       "      <th>0</th>\n",
       "      <td>Luther Kendrick Lamar &amp; SZA</td>\n",
       "      <td>failed: [Errno 2] No such file or directory: '/dbfs/FileStore/cookies_info/youtube_com_cookies.txt'</td>\n",
       "      <td>None</td>\n",
       "      <td>2025-03-18 10:57:34.901873</td>\n",
       "    </tr>\n",
       "    <tr>\n",
       "      <th>1</th>\n",
       "      <td>Die With A Smile Lady Gaga &amp; Bruno Mars</td>\n",
       "      <td>failed: [Errno 2] No such file or directory: '/dbfs/FileStore/cookies_info/youtube_com_cookies.txt'</td>\n",
       "      <td>None</td>\n",
       "      <td>2025-03-18 10:57:37.363779</td>\n",
       "    </tr>\n",
       "    <tr>\n",
       "      <th>2</th>\n",
       "      <td>Not Like Us Kendrick Lamar</td>\n",
       "      <td>failed: [Errno 2] No such file or directory: '/dbfs/FileStore/cookies_info/youtube_com_cookies.txt'</td>\n",
       "      <td>None</td>\n",
       "      <td>2025-03-18 10:57:39.603613</td>\n",
       "    </tr>\n",
       "    <tr>\n",
       "      <th>3</th>\n",
       "      <td>A Bar (Tipsy) Shaboozey</td>\n",
       "      <td>failed: [Errno 2] No such file or directory: '/dbfs/FileStore/cookies_info/youtube_com_cookies.txt'</td>\n",
       "      <td>None</td>\n",
       "      <td>2025-03-18 10:57:41.632012</td>\n",
       "    </tr>\n",
       "    <tr>\n",
       "      <th>4</th>\n",
       "      <td>TV Off Kendrick Lamar Featuring Lefty Gunplay</td>\n",
       "      <td>failed: [Errno 2] No such file or directory: '/dbfs/FileStore/cookies_info/youtube_com_cookies.txt'</td>\n",
       "      <td>None</td>\n",
       "      <td>2025-03-18 10:57:43.525207</td>\n",
       "    </tr>\n",
       "    <tr>\n",
       "      <th>5</th>\n",
       "      <td>APT. ROSE &amp; Bruno Mars</td>\n",
       "      <td>failed: [Errno 2] No such file or directory: '/dbfs/FileStore/cookies_info/youtube_com_cookies.txt'</td>\n",
       "      <td>None</td>\n",
       "      <td>2025-03-18 10:57:45.735223</td>\n",
       "    </tr>\n",
       "    <tr>\n",
       "      <th>6</th>\n",
       "      <td>Pink Pony Club Chappell Roan</td>\n",
       "      <td>failed: [Errno 2] No such file or directory: '/dbfs/FileStore/cookies_info/youtube_com_cookies.txt'</td>\n",
       "      <td>None</td>\n",
       "      <td>2025-03-18 10:57:47.621698</td>\n",
       "    </tr>\n",
       "    <tr>\n",
       "      <th>7</th>\n",
       "      <td>Nokia Drake</td>\n",
       "      <td>failed: [Errno 2] No such file or directory: '/dbfs/FileStore/cookies_info/youtube_com_cookies.txt'</td>\n",
       "      <td>None</td>\n",
       "      <td>2025-03-18 10:57:49.620030</td>\n",
       "    </tr>\n",
       "    <tr>\n",
       "      <th>8</th>\n",
       "      <td>Birds Of A Feather Billie Eilish</td>\n",
       "      <td>failed: [Errno 2] No such file or directory: '/dbfs/FileStore/cookies_info/youtube_com_cookies.txt'</td>\n",
       "      <td>None</td>\n",
       "      <td>2025-03-18 10:57:51.727375</td>\n",
       "    </tr>\n",
       "    <tr>\n",
       "      <th>9</th>\n",
       "      <td>Lose Control Teddy Swims</td>\n",
       "      <td>failed: [Errno 2] No such file or directory: '/dbfs/FileStore/cookies_info/youtube_com_cookies.txt'</td>\n",
       "      <td>None</td>\n",
       "      <td>2025-03-18 10:57:53.805194</td>\n",
       "    </tr>\n",
       "  </tbody>\n",
       "</table>\n",
       "</div>"
      ]
     },
     "metadata": {
      "application/vnd.databricks.v1+output": {
       "addedWidgets": {},
       "arguments": {},
       "data": "<div>\n<style scoped>\n    .dataframe tbody tr th:only-of-type {\n        vertical-align: middle;\n    }\n\n    .dataframe tbody tr th {\n        vertical-align: top;\n    }\n\n    .dataframe thead th {\n        text-align: right;\n    }\n</style>\n<table border=\"1\" class=\"dataframe\">\n  <thead>\n    <tr style=\"text-align: right;\">\n      <th></th>\n      <th>song_name</th>\n      <th>download_status</th>\n      <th>download_path</th>\n      <th>download_time</th>\n    </tr>\n  </thead>\n  <tbody>\n    <tr>\n      <th>0</th>\n      <td>Luther Kendrick Lamar &amp; SZA</td>\n      <td>failed: [Errno 2] No such file or directory: '/dbfs/FileStore/cookies_info/youtube_com_cookies.txt'</td>\n      <td>None</td>\n      <td>2025-03-18 10:57:34.901873</td>\n    </tr>\n    <tr>\n      <th>1</th>\n      <td>Die With A Smile Lady Gaga &amp; Bruno Mars</td>\n      <td>failed: [Errno 2] No such file or directory: '/dbfs/FileStore/cookies_info/youtube_com_cookies.txt'</td>\n      <td>None</td>\n      <td>2025-03-18 10:57:37.363779</td>\n    </tr>\n    <tr>\n      <th>2</th>\n      <td>Not Like Us Kendrick Lamar</td>\n      <td>failed: [Errno 2] No such file or directory: '/dbfs/FileStore/cookies_info/youtube_com_cookies.txt'</td>\n      <td>None</td>\n      <td>2025-03-18 10:57:39.603613</td>\n    </tr>\n    <tr>\n      <th>3</th>\n      <td>A Bar (Tipsy) Shaboozey</td>\n      <td>failed: [Errno 2] No such file or directory: '/dbfs/FileStore/cookies_info/youtube_com_cookies.txt'</td>\n      <td>None</td>\n      <td>2025-03-18 10:57:41.632012</td>\n    </tr>\n    <tr>\n      <th>4</th>\n      <td>TV Off Kendrick Lamar Featuring Lefty Gunplay</td>\n      <td>failed: [Errno 2] No such file or directory: '/dbfs/FileStore/cookies_info/youtube_com_cookies.txt'</td>\n      <td>None</td>\n      <td>2025-03-18 10:57:43.525207</td>\n    </tr>\n    <tr>\n      <th>5</th>\n      <td>APT. ROSE &amp; Bruno Mars</td>\n      <td>failed: [Errno 2] No such file or directory: '/dbfs/FileStore/cookies_info/youtube_com_cookies.txt'</td>\n      <td>None</td>\n      <td>2025-03-18 10:57:45.735223</td>\n    </tr>\n    <tr>\n      <th>6</th>\n      <td>Pink Pony Club Chappell Roan</td>\n      <td>failed: [Errno 2] No such file or directory: '/dbfs/FileStore/cookies_info/youtube_com_cookies.txt'</td>\n      <td>None</td>\n      <td>2025-03-18 10:57:47.621698</td>\n    </tr>\n    <tr>\n      <th>7</th>\n      <td>Nokia Drake</td>\n      <td>failed: [Errno 2] No such file or directory: '/dbfs/FileStore/cookies_info/youtube_com_cookies.txt'</td>\n      <td>None</td>\n      <td>2025-03-18 10:57:49.620030</td>\n    </tr>\n    <tr>\n      <th>8</th>\n      <td>Birds Of A Feather Billie Eilish</td>\n      <td>failed: [Errno 2] No such file or directory: '/dbfs/FileStore/cookies_info/youtube_com_cookies.txt'</td>\n      <td>None</td>\n      <td>2025-03-18 10:57:51.727375</td>\n    </tr>\n    <tr>\n      <th>9</th>\n      <td>Lose Control Teddy Swims</td>\n      <td>failed: [Errno 2] No such file or directory: '/dbfs/FileStore/cookies_info/youtube_com_cookies.txt'</td>\n      <td>None</td>\n      <td>2025-03-18 10:57:53.805194</td>\n    </tr>\n  </tbody>\n</table>\n</div>",
       "datasetInfos": [],
       "metadata": {},
       "removedWidgets": [],
       "textData": null,
       "type": "htmlSandbox"
      }
     },
     "output_type": "display_data"
    }
   ],
   "source": [
    "logs_df.toPandas()"
   ]
  },
  {
   "cell_type": "markdown",
   "metadata": {
    "application/vnd.databricks.v1+cell": {
     "cellMetadata": {},
     "inputWidgets": {},
     "nuid": "a2459df9-cd40-4dad-875d-0b6d517c350a",
     "showTitle": false,
     "tableResultSettingsMap": {},
     "title": ""
    }
   },
   "source": [
    "Push Logs to DBFS"
   ]
  },
  {
   "cell_type": "code",
   "execution_count": 0,
   "metadata": {
    "application/vnd.databricks.v1+cell": {
     "cellMetadata": {
      "byteLimit": 2048000,
      "rowLimit": 10000
     },
     "inputWidgets": {},
     "nuid": "f5afb741-c0fb-469e-9d5b-5bcb9617ecb0",
     "showTitle": false,
     "tableResultSettingsMap": {},
     "title": ""
    }
   },
   "outputs": [],
   "source": [
    "logs_df.write.mode(\"overwrite\").option(\"header\", True).csv(\"dbfs:/FileStore/bronze/download_logs/\")"
   ]
  }
 ],
 "metadata": {
  "application/vnd.databricks.v1+notebook": {
   "computePreferences": null,
   "dashboards": [],
   "environmentMetadata": {
    "base_environment": "",
    "client": "1"
   },
   "language": "python",
   "notebookMetadata": {
    "pythonIndentUnit": 4
   },
   "notebookName": "01_Audio_Downloader",
   "widgets": {}
  }
 },
 "nbformat": 4,
 "nbformat_minor": 0
}
