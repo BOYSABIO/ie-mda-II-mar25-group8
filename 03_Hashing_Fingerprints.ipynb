{
 "cells": [
  {
   "cell_type": "code",
   "execution_count": 0,
   "metadata": {
    "application/vnd.databricks.v1+cell": {
     "cellMetadata": {
      "byteLimit": 2048000,
      "rowLimit": 10000
     },
     "inputWidgets": {},
     "nuid": "19ed7450-9253-4883-98ff-1ac8ed4c2d78",
     "showTitle": false,
     "tableResultSettingsMap": {},
     "title": ""
    }
   },
   "outputs": [],
   "source": [
    "from pyspark.sql import SparkSession\n",
    "from pyspark.sql.functions import sha2, concat_ws\n",
    "\n",
    "# Spark session (already active in Databricks, but good practice)\n",
    "spark = SparkSession.builder.appName(\"HashFingerprints\").getOrCreate()"
   ]
  },
  {
   "cell_type": "code",
   "execution_count": 0,
   "metadata": {
    "application/vnd.databricks.v1+cell": {
     "cellMetadata": {
      "byteLimit": 2048000,
      "rowLimit": 10000
     },
     "inputWidgets": {},
     "nuid": "9f579529-19ba-47a8-a205-f591394d15d4",
     "showTitle": false,
     "tableResultSettingsMap": {},
     "title": ""
    }
   },
   "outputs": [
    {
     "output_type": "stream",
     "name": "stdout",
     "output_type": "stream",
     "text": [
      "+-------------------------------------------------------------+-----+-----+----------+-----------+\n|filename                                                     |freq1|freq2|delta_time|anchor_time|\n+-------------------------------------------------------------+-----+-----+----------+-----------+\n|Billie Eilish - BIRDS OF A FEATHER (Official Music Video).mp3|3    |3    |21        |17784      |\n|Billie Eilish - BIRDS OF A FEATHER (Official Music Video).mp3|3    |3    |20        |18210      |\n|Billie Eilish - BIRDS OF A FEATHER (Official Music Video).mp3|4    |4    |20        |15066      |\n|Billie Eilish - BIRDS OF A FEATHER (Official Music Video).mp3|4    |4    |37        |15903      |\n|Billie Eilish - BIRDS OF A FEATHER (Official Music Video).mp3|4    |4    |39        |17654      |\n+-------------------------------------------------------------+-----+-----+----------+-----------+\n\n"
     ]
    }
   ],
   "source": [
    "# Load the flattened CSV\n",
    "csv_path = \"dbfs:/FileStore/silver/flattened_fingerprints_csv/\"\n",
    "df_fingerprints = spark.read.option(\"header\", True).option(\"inferSchema\", True).csv(csv_path)\n",
    "\n",
    "df_fingerprints.limit(5).show(truncate=False)"
   ]
  },
  {
   "cell_type": "code",
   "execution_count": 0,
   "metadata": {
    "application/vnd.databricks.v1+cell": {
     "cellMetadata": {
      "byteLimit": 2048000,
      "rowLimit": 10000
     },
     "inputWidgets": {},
     "nuid": "860c3ee5-c8ca-4437-a246-b2376dd90652",
     "showTitle": false,
     "tableResultSettingsMap": {},
     "title": ""
    }
   },
   "outputs": [
    {
     "output_type": "stream",
     "name": "stdout",
     "output_type": "stream",
     "text": [
      "+-------------------------------------------------------------+-----+-----+----------+----------------------------------------------------------------+\n|filename                                                     |freq1|freq2|delta_time|fingerprint_hash                                                |\n+-------------------------------------------------------------+-----+-----+----------+----------------------------------------------------------------+\n|Billie Eilish - BIRDS OF A FEATHER (Official Music Video).mp3|3    |3    |21        |ad4de2b3fc8d1f2eff326adfad54f125974baeb8cb8371675c25657bb9d11df0|\n|Billie Eilish - BIRDS OF A FEATHER (Official Music Video).mp3|3    |3    |20        |a7d3bfa0105bd7417c6fd6fdf3112fcabff51053116f52c20be19d8199974970|\n|Billie Eilish - BIRDS OF A FEATHER (Official Music Video).mp3|4    |4    |20        |4feff89528864f9953e2ea0ece0425e7c88164d1d707f69256c5eb8aedad5c8a|\n|Billie Eilish - BIRDS OF A FEATHER (Official Music Video).mp3|4    |4    |37        |77d2fa02ee47fa9a14f7d03cf87bcc328acddd7138a87609ebd763a56b02b36d|\n|Billie Eilish - BIRDS OF A FEATHER (Official Music Video).mp3|4    |4    |39        |89174d5be323c9c0a36bc2146a24741506a4714e404fd6dff611bc444a3b7268|\n+-------------------------------------------------------------+-----+-----+----------+----------------------------------------------------------------+\n\n"
     ]
    }
   ],
   "source": [
    "# Concatenate fingerprint columns into a string\n",
    "df_hashed = df_fingerprints.withColumn(\"fingerprint_string\", concat_ws(\"-\", \"freq1\", \"freq2\", \"delta_time\"))\n",
    "\n",
    "# Apply SHA256 hashing\n",
    "df_hashed = df_hashed.withColumn(\"fingerprint_hash\", sha2(\"fingerprint_string\", 256))\n",
    "\n",
    "# Drop unnecessary columns if needed\n",
    "df_final = df_hashed.select(\"filename\", \"freq1\", \"freq2\", \"delta_time\", \"fingerprint_hash\")\n",
    "\n",
    "# Show result\n",
    "df_final.limit(5).show(truncate=False)"
   ]
  },
  {
   "cell_type": "markdown",
   "metadata": {
    "application/vnd.databricks.v1+cell": {
     "cellMetadata": {},
     "inputWidgets": {},
     "nuid": "00a03419-a185-4c6c-8819-50826abeffc1",
     "showTitle": false,
     "tableResultSettingsMap": {},
     "title": ""
    }
   },
   "source": [
    "Write to Gold Layer"
   ]
  },
  {
   "cell_type": "code",
   "execution_count": 0,
   "metadata": {
    "application/vnd.databricks.v1+cell": {
     "cellMetadata": {
      "byteLimit": 2048000,
      "rowLimit": 10000
     },
     "inputWidgets": {},
     "nuid": "9ca636d8-99c7-4526-aa76-ee3c6293378f",
     "showTitle": false,
     "tableResultSettingsMap": {},
     "title": ""
    }
   },
   "outputs": [],
   "source": [
    "df_final.write.mode(\"overwrite\").parquet(\"dbfs:/FileStore/gold/fingerprint_hashes_parq/\")"
   ]
  }
 ],
 "metadata": {
  "application/vnd.databricks.v1+notebook": {
   "computePreferences": null,
   "dashboards": [],
   "environmentMetadata": {
    "base_environment": "",
    "client": "1"
   },
   "language": "python",
   "notebookMetadata": {
    "pythonIndentUnit": 4
   },
   "notebookName": "03_Hashing_Fingerprints",
   "widgets": {}
  }
 },
 "nbformat": 4,
 "nbformat_minor": 0
}
