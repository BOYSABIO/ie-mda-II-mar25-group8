{
 "cells": [
  {
   "cell_type": "markdown",
   "id": "3dfbbf9b-1d8a-4e1e-99d4-8505d55ac24a",
   "metadata": {},
   "source": [
    "# RAW Data Injestion"
   ]
  },
  {
   "cell_type": "code",
   "execution_count": 1,
   "id": "bcd3317c-4a24-4334-84d8-ce77e932670f",
   "metadata": {},
   "outputs": [
    {
     "name": "stdout",
     "output_type": "stream",
     "text": [
      "Collecting yt-dlp\n",
      "  Downloading yt_dlp-2025.2.19-py3-none-any.whl.metadata (171 kB)\n",
      "\u001b[2K     \u001b[90m━━━━━━━━━━━━━━━━━━━━━━━━━━━━━━━━━━━━━━━\u001b[0m \u001b[32m171.9/171.9 kB\u001b[0m \u001b[31m7.0 MB/s\u001b[0m eta \u001b[36m0:00:00\u001b[0m\n",
      "\u001b[?25hDownloading yt_dlp-2025.2.19-py3-none-any.whl (3.2 MB)\n",
      "\u001b[2K   \u001b[90m━━━━━━━━━━━━━━━━━━━━━━━━━━━━━━━━━━━━━━━━\u001b[0m \u001b[32m3.2/3.2 MB\u001b[0m \u001b[31m9.4 MB/s\u001b[0m eta \u001b[36m0:00:00\u001b[0m:00:01\u001b[0m00:01\u001b[0m\n",
      "\u001b[?25hInstalling collected packages: yt-dlp\n",
      "Successfully installed yt-dlp-2025.2.19\n",
      "\n",
      "\u001b[1m[\u001b[0m\u001b[34;49mnotice\u001b[0m\u001b[1;39;49m]\u001b[0m\u001b[39;49m A new release of pip is available: \u001b[0m\u001b[31;49m23.3.2\u001b[0m\u001b[39;49m -> \u001b[0m\u001b[32;49m25.0.1\u001b[0m\n",
      "\u001b[1m[\u001b[0m\u001b[34;49mnotice\u001b[0m\u001b[1;39;49m]\u001b[0m\u001b[39;49m To update, run: \u001b[0m\u001b[32;49mpython3 -m pip install --upgrade pip\u001b[0m\n",
      "Note: you may need to restart the kernel to use updated packages.\n"
     ]
    }
   ],
   "source": [
    "pip install yt-dlp"
   ]
  },
  {
   "cell_type": "code",
   "execution_count": null,
   "id": "f656b6ce-01ae-4cda-968b-8d279b34fa88",
   "metadata": {},
   "outputs": [],
   "source": [
    "# HDFS base paths\n",
    "hdfs_lakehouse_base_path = 'hdfs://localhost:9000/lakehouse/'\n",
    "hdfs_warehouse_base_path = 'hdfs://localhost:9000/warehouse'"
   ]
  },
  {
   "cell_type": "code",
   "execution_count": 2,
   "id": "f376f834-e092-436c-ad56-b2147da1c604",
   "metadata": {},
   "outputs": [
    {
     "name": "stdout",
     "output_type": "stream",
     "text": [
      "[generic] Extracting URL: Billie Jean Michael Jackson\n",
      "[youtube:search] Extracting URL: ytsearch1:Billie Jean Michael Jackson\n",
      "[download] Downloading playlist: Billie Jean Michael Jackson\n",
      "[youtube:search] query \"Billie Jean Michael Jackson\": Downloading web client config\n",
      "[youtube:search] query \"Billie Jean Michael Jackson\" page 1: Downloading API JSON\n",
      "[youtube:search] Playlist Billie Jean Michael Jackson: Downloading 1 items of 1\n",
      "[download] Downloading item 1 of 1\n",
      "[youtube] Extracting URL: https://www.youtube.com/watch?v=Zi_XLOBDo_Y\n",
      "[youtube] Zi_XLOBDo_Y: Downloading webpage\n",
      "[youtube] Zi_XLOBDo_Y: Downloading tv client config\n",
      "[youtube] Zi_XLOBDo_Y: Downloading player f6e09c70\n",
      "[youtube] Zi_XLOBDo_Y: Downloading tv player API JSON\n",
      "[youtube] Zi_XLOBDo_Y: Downloading ios player API JSON\n",
      "[youtube] Zi_XLOBDo_Y: Downloading m3u8 information\n",
      "[info] Zi_XLOBDo_Y: Downloading 1 format(s): 251\n",
      "[download] songs/Michael Jackson - Billie Jean (Official Video).webm has already been downloaded\n",
      "[download] 100% of    4.71MiB\n"
     ]
    },
    {
     "name": "stderr",
     "output_type": "stream",
     "text": [
      "ERROR: Postprocessing: ffprobe and ffmpeg not found. Please install or provide the path using --ffmpeg-location\n"
     ]
    },
    {
     "name": "stdout",
     "output_type": "stream",
     "text": [
      "Expected Error\n"
     ]
    }
   ],
   "source": [
    "import yt_dlp\n",
    "import os\n",
    "\n",
    "FFMPEG_PATH = \"/home/osbdet/ffmpeg\"\n",
    "\n",
    "# Define the songs download folder\n",
    "download_path = \"songs\"\n",
    "os.makedirs(download_path, exist_ok=True)\n",
    "\n",
    "def download_song(song_name):\n",
    "    \"\"\"Download a song from YouTube and force MP3 conversion\"\"\"\n",
    "    ydl_opts = {\n",
    "        'format': 'bestaudio/best',\n",
    "        'default_search': 'ytsearch1',\n",
    "        'noplaylist': True,\n",
    "        'outtmpl': f'{download_path}/%(title)s.%(ext)s',\n",
    "        'ffmpeg_location': FFMPEG_PATH, \n",
    "        'postprocessors': [{\n",
    "            'key': 'FFmpegExtractAudio',\n",
    "            'preferredcodec': 'mp3',\n",
    "            'preferredquality': '192',\n",
    "        }],\n",
    "        'quiet': False \n",
    "    }\n",
    "    \n",
    "    with yt_dlp.YoutubeDL(ydl_opts) as ydl:\n",
    "        ydl.download([song_name])\n",
    "\n",
    "    print(f\"Downloaded and converted: {song_name}\")\n",
    "\n",
    "# Example songs\n",
    "songs = [\"Billie Jean Michael Jackson\"]\n",
    "\n",
    "for song in songs: #To minimize the errors that are displayed\n",
    "    try:\n",
    "        download_song(song)\n",
    "    except Exception as e:\n",
    "        print(\"Expected Error\")"
   ]
  }
 ],
 "metadata": {
  "kernelspec": {
   "display_name": "Python 3 (ipykernel)",
   "language": "python",
   "name": "python3"
  },
  "language_info": {
   "codemirror_mode": {
    "name": "ipython",
    "version": 3
   },
   "file_extension": ".py",
   "mimetype": "text/x-python",
   "name": "python",
   "nbconvert_exporter": "python",
   "pygments_lexer": "ipython3",
   "version": "3.11.2"
  }
 },
 "nbformat": 4,
 "nbformat_minor": 5
}
